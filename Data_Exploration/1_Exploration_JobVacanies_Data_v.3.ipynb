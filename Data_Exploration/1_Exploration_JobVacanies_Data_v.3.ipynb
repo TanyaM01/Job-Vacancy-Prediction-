{
 "cells": [
  {
   "cell_type": "code",
   "execution_count": 5,
   "metadata": {
    "id": "ZMcmVpG5-DpT"
   },
   "outputs": [
    {
     "data": {
      "text/html": [
       "<script type=\"esms-options\">{\"shimMode\": true}</script><style>*[data-root-id],\n",
       "*[data-root-id] > * {\n",
       "  box-sizing: border-box;\n",
       "  font-family: var(--jp-ui-font-family);\n",
       "  font-size: var(--jp-ui-font-size1);\n",
       "  color: var(--vscode-editor-foreground, var(--jp-ui-font-color1));\n",
       "}\n",
       "\n",
       "/* Override VSCode background color */\n",
       ".cell-output-ipywidget-background:has(\n",
       "    > .cell-output-ipywidget-background > .lm-Widget > *[data-root-id]\n",
       "  ),\n",
       ".cell-output-ipywidget-background:has(> .lm-Widget > *[data-root-id]) {\n",
       "  background-color: transparent !important;\n",
       "}\n",
       "</style>"
      ]
     },
     "metadata": {},
     "output_type": "display_data"
    },
    {
     "data": {
      "application/javascript": "(function(root) {\n  function now() {\n    return new Date();\n  }\n\n  const force = true;\n  const py_version = '3.6.1'.replace('rc', '-rc.').replace('.dev', '-dev.');\n  const reloading = false;\n  const Bokeh = root.Bokeh;\n\n  // Set a timeout for this load but only if we are not already initializing\n  if (typeof (root._bokeh_timeout) === \"undefined\" || (force || !root._bokeh_is_initializing)) {\n    root._bokeh_timeout = Date.now() + 5000;\n    root._bokeh_failed_load = false;\n  }\n\n  function run_callbacks() {\n    try {\n      root._bokeh_onload_callbacks.forEach(function(callback) {\n        if (callback != null)\n          callback();\n      });\n    } finally {\n      delete root._bokeh_onload_callbacks;\n    }\n    console.debug(\"Bokeh: all callbacks have finished\");\n  }\n\n  function load_libs(css_urls, js_urls, js_modules, js_exports, callback) {\n    if (css_urls == null) css_urls = [];\n    if (js_urls == null) js_urls = [];\n    if (js_modules == null) js_modules = [];\n    if (js_exports == null) js_exports = {};\n\n    root._bokeh_onload_callbacks.push(callback);\n\n    if (root._bokeh_is_loading > 0) {\n      // Don't load bokeh if it is still initializing\n      console.debug(\"Bokeh: BokehJS is being loaded, scheduling callback at\", now());\n      return null;\n    } else if (js_urls.length === 0 && js_modules.length === 0 && Object.keys(js_exports).length === 0) {\n      // There is nothing to load\n      run_callbacks();\n      return null;\n    }\n\n    function on_load() {\n      root._bokeh_is_loading--;\n      if (root._bokeh_is_loading === 0) {\n        console.debug(\"Bokeh: all BokehJS libraries/stylesheets loaded\");\n        run_callbacks()\n      }\n    }\n    window._bokeh_on_load = on_load\n\n    function on_error(e) {\n      const src_el = e.srcElement\n      console.error(\"failed to load \" + (src_el.href || src_el.src));\n    }\n\n    const skip = [];\n    if (window.requirejs) {\n      window.requirejs.config({'packages': {}, 'paths': {}, 'shim': {}});\n      root._bokeh_is_loading = css_urls.length + 0;\n    } else {\n      root._bokeh_is_loading = css_urls.length + js_urls.length + js_modules.length + Object.keys(js_exports).length;\n    }\n\n    const existing_stylesheets = []\n    const links = document.getElementsByTagName('link')\n    for (let i = 0; i < links.length; i++) {\n      const link = links[i]\n      if (link.href != null) {\n        existing_stylesheets.push(link.href)\n      }\n    }\n    for (let i = 0; i < css_urls.length; i++) {\n      const url = css_urls[i];\n      const escaped = encodeURI(url)\n      if (existing_stylesheets.indexOf(escaped) !== -1) {\n        on_load()\n        continue;\n      }\n      const element = document.createElement(\"link\");\n      element.onload = on_load;\n      element.onerror = on_error;\n      element.rel = \"stylesheet\";\n      element.type = \"text/css\";\n      element.href = url;\n      console.debug(\"Bokeh: injecting link tag for BokehJS stylesheet: \", url);\n      document.body.appendChild(element);\n    }    var existing_scripts = []\n    const scripts = document.getElementsByTagName('script')\n    for (let i = 0; i < scripts.length; i++) {\n      var script = scripts[i]\n      if (script.src != null) {\n        existing_scripts.push(script.src)\n      }\n    }\n    for (let i = 0; i < js_urls.length; i++) {\n      const url = js_urls[i];\n      const escaped = encodeURI(url)\n      if (skip.indexOf(escaped) !== -1 || existing_scripts.indexOf(escaped) !== -1) {\n        if (!window.requirejs) {\n          on_load();\n        }\n        continue;\n      }\n      const element = document.createElement('script');\n      element.onload = on_load;\n      element.onerror = on_error;\n      element.async = false;\n      element.src = url;\n      console.debug(\"Bokeh: injecting script tag for BokehJS library: \", url);\n      document.head.appendChild(element);\n    }\n    for (let i = 0; i < js_modules.length; i++) {\n      const url = js_modules[i];\n      const escaped = encodeURI(url)\n      if (skip.indexOf(escaped) !== -1 || existing_scripts.indexOf(escaped) !== -1) {\n        if (!window.requirejs) {\n          on_load();\n        }\n        continue;\n      }\n      var element = document.createElement('script');\n      element.onload = on_load;\n      element.onerror = on_error;\n      element.async = false;\n      element.src = url;\n      element.type = \"module\";\n      console.debug(\"Bokeh: injecting script tag for BokehJS library: \", url);\n      document.head.appendChild(element);\n    }\n    for (const name in js_exports) {\n      const url = js_exports[name];\n      const escaped = encodeURI(url)\n      if (skip.indexOf(escaped) >= 0 || root[name] != null) {\n        if (!window.requirejs) {\n          on_load();\n        }\n        continue;\n      }\n      var element = document.createElement('script');\n      element.onerror = on_error;\n      element.async = false;\n      element.type = \"module\";\n      console.debug(\"Bokeh: injecting script tag for BokehJS library: \", url);\n      element.textContent = `\n      import ${name} from \"${url}\"\n      window.${name} = ${name}\n      window._bokeh_on_load()\n      `\n      document.head.appendChild(element);\n    }\n    if (!js_urls.length && !js_modules.length) {\n      on_load()\n    }\n  };\n\n  function inject_raw_css(css) {\n    const element = document.createElement(\"style\");\n    element.appendChild(document.createTextNode(css));\n    document.body.appendChild(element);\n  }\n\n  const js_urls = [\"https://cdn.holoviz.org/panel/1.5.4/dist/bundled/reactiveesm/es-module-shims@^1.10.0/dist/es-module-shims.min.js\", \"https://cdn.bokeh.org/bokeh/release/bokeh-3.6.1.min.js\", \"https://cdn.bokeh.org/bokeh/release/bokeh-gl-3.6.1.min.js\", \"https://cdn.bokeh.org/bokeh/release/bokeh-widgets-3.6.1.min.js\", \"https://cdn.bokeh.org/bokeh/release/bokeh-tables-3.6.1.min.js\", \"https://cdn.holoviz.org/panel/1.5.4/dist/panel.min.js\"];\n  const js_modules = [];\n  const js_exports = {};\n  const css_urls = [];\n  const inline_js = [    function(Bokeh) {\n      Bokeh.set_log_level(\"info\");\n    },\nfunction(Bokeh) {} // ensure no trailing comma for IE\n  ];\n\n  function run_inline_js() {\n    if ((root.Bokeh !== undefined) || (force === true)) {\n      for (let i = 0; i < inline_js.length; i++) {\n        try {\n          inline_js[i].call(root, root.Bokeh);\n        } catch(e) {\n          if (!reloading) {\n            throw e;\n          }\n        }\n      }\n      // Cache old bokeh versions\n      if (Bokeh != undefined && !reloading) {\n        var NewBokeh = root.Bokeh;\n        if (Bokeh.versions === undefined) {\n          Bokeh.versions = new Map();\n        }\n        if (NewBokeh.version !== Bokeh.version) {\n          Bokeh.versions.set(NewBokeh.version, NewBokeh)\n        }\n        root.Bokeh = Bokeh;\n      }\n    } else if (Date.now() < root._bokeh_timeout) {\n      setTimeout(run_inline_js, 100);\n    } else if (!root._bokeh_failed_load) {\n      console.log(\"Bokeh: BokehJS failed to load within specified timeout.\");\n      root._bokeh_failed_load = true;\n    }\n    root._bokeh_is_initializing = false\n  }\n\n  function load_or_wait() {\n    // Implement a backoff loop that tries to ensure we do not load multiple\n    // versions of Bokeh and its dependencies at the same time.\n    // In recent versions we use the root._bokeh_is_initializing flag\n    // to determine whether there is an ongoing attempt to initialize\n    // bokeh, however for backward compatibility we also try to ensure\n    // that we do not start loading a newer (Panel>=1.0 and Bokeh>3) version\n    // before older versions are fully initialized.\n    if (root._bokeh_is_initializing && Date.now() > root._bokeh_timeout) {\n      // If the timeout and bokeh was not successfully loaded we reset\n      // everything and try loading again\n      root._bokeh_timeout = Date.now() + 5000;\n      root._bokeh_is_initializing = false;\n      root._bokeh_onload_callbacks = undefined;\n      root._bokeh_is_loading = 0\n      console.log(\"Bokeh: BokehJS was loaded multiple times but one version failed to initialize.\");\n      load_or_wait();\n    } else if (root._bokeh_is_initializing || (typeof root._bokeh_is_initializing === \"undefined\" && root._bokeh_onload_callbacks !== undefined)) {\n      setTimeout(load_or_wait, 100);\n    } else {\n      root._bokeh_is_initializing = true\n      root._bokeh_onload_callbacks = []\n      const bokeh_loaded = root.Bokeh != null && (root.Bokeh.version === py_version || (root.Bokeh.versions !== undefined && root.Bokeh.versions.has(py_version)));\n      if (!reloading && !bokeh_loaded) {\n        if (root.Bokeh) {\n          root.Bokeh = undefined;\n        }\n        console.debug(\"Bokeh: BokehJS not loaded, scheduling load and callback at\", now());\n      }\n      load_libs(css_urls, js_urls, js_modules, js_exports, function() {\n        console.debug(\"Bokeh: BokehJS plotting callback run at\", now());\n        run_inline_js();\n      });\n    }\n  }\n  // Give older versions of the autoload script a head-start to ensure\n  // they initialize before we start loading newer version.\n  setTimeout(load_or_wait, 100)\n}(window));",
      "application/vnd.holoviews_load.v0+json": ""
     },
     "metadata": {},
     "output_type": "display_data"
    },
    {
     "data": {
      "application/javascript": "\nif ((window.PyViz === undefined) || (window.PyViz instanceof HTMLElement)) {\n  window.PyViz = {comms: {}, comm_status:{}, kernels:{}, receivers: {}, plot_index: []}\n}\n\n\n    function JupyterCommManager() {\n    }\n\n    JupyterCommManager.prototype.register_target = function(plot_id, comm_id, msg_handler) {\n      if (window.comm_manager || ((window.Jupyter !== undefined) && (Jupyter.notebook.kernel != null))) {\n        var comm_manager = window.comm_manager || Jupyter.notebook.kernel.comm_manager;\n        comm_manager.register_target(comm_id, function(comm) {\n          comm.on_msg(msg_handler);\n        });\n      } else if ((plot_id in window.PyViz.kernels) && (window.PyViz.kernels[plot_id])) {\n        window.PyViz.kernels[plot_id].registerCommTarget(comm_id, function(comm) {\n          comm.onMsg = msg_handler;\n        });\n      } else if (typeof google != 'undefined' && google.colab.kernel != null) {\n        google.colab.kernel.comms.registerTarget(comm_id, (comm) => {\n          var messages = comm.messages[Symbol.asyncIterator]();\n          function processIteratorResult(result) {\n            var message = result.value;\n            console.log(message)\n            var content = {data: message.data, comm_id};\n            var buffers = []\n            for (var buffer of message.buffers || []) {\n              buffers.push(new DataView(buffer))\n            }\n            var metadata = message.metadata || {};\n            var msg = {content, buffers, metadata}\n            msg_handler(msg);\n            return messages.next().then(processIteratorResult);\n          }\n          return messages.next().then(processIteratorResult);\n        })\n      }\n    }\n\n    JupyterCommManager.prototype.get_client_comm = function(plot_id, comm_id, msg_handler) {\n      if (comm_id in window.PyViz.comms) {\n        return window.PyViz.comms[comm_id];\n      } else if (window.comm_manager || ((window.Jupyter !== undefined) && (Jupyter.notebook.kernel != null))) {\n        var comm_manager = window.comm_manager || Jupyter.notebook.kernel.comm_manager;\n        var comm = comm_manager.new_comm(comm_id, {}, {}, {}, comm_id);\n        if (msg_handler) {\n          comm.on_msg(msg_handler);\n        }\n      } else if ((plot_id in window.PyViz.kernels) && (window.PyViz.kernels[plot_id])) {\n        var comm = window.PyViz.kernels[plot_id].connectToComm(comm_id);\n        comm.open();\n        if (msg_handler) {\n          comm.onMsg = msg_handler;\n        }\n      } else if (typeof google != 'undefined' && google.colab.kernel != null) {\n        var comm_promise = google.colab.kernel.comms.open(comm_id)\n        comm_promise.then((comm) => {\n          window.PyViz.comms[comm_id] = comm;\n          if (msg_handler) {\n            var messages = comm.messages[Symbol.asyncIterator]();\n            function processIteratorResult(result) {\n              var message = result.value;\n              var content = {data: message.data};\n              var metadata = message.metadata || {comm_id};\n              var msg = {content, metadata}\n              msg_handler(msg);\n              return messages.next().then(processIteratorResult);\n            }\n            return messages.next().then(processIteratorResult);\n          }\n        }) \n        var sendClosure = (data, metadata, buffers, disposeOnDone) => {\n          return comm_promise.then((comm) => {\n            comm.send(data, metadata, buffers, disposeOnDone);\n          });\n        };\n        var comm = {\n          send: sendClosure\n        };\n      }\n      window.PyViz.comms[comm_id] = comm;\n      return comm;\n    }\n    window.PyViz.comm_manager = new JupyterCommManager();\n    \n\n\nvar JS_MIME_TYPE = 'application/javascript';\nvar HTML_MIME_TYPE = 'text/html';\nvar EXEC_MIME_TYPE = 'application/vnd.holoviews_exec.v0+json';\nvar CLASS_NAME = 'output';\n\n/**\n * Render data to the DOM node\n */\nfunction render(props, node) {\n  var div = document.createElement(\"div\");\n  var script = document.createElement(\"script\");\n  node.appendChild(div);\n  node.appendChild(script);\n}\n\n/**\n * Handle when a new output is added\n */\nfunction handle_add_output(event, handle) {\n  var output_area = handle.output_area;\n  var output = handle.output;\n  if ((output.data == undefined) || (!output.data.hasOwnProperty(EXEC_MIME_TYPE))) {\n    return\n  }\n  var id = output.metadata[EXEC_MIME_TYPE][\"id\"];\n  var toinsert = output_area.element.find(\".\" + CLASS_NAME.split(' ')[0]);\n  if (id !== undefined) {\n    var nchildren = toinsert.length;\n    var html_node = toinsert[nchildren-1].children[0];\n    html_node.innerHTML = output.data[HTML_MIME_TYPE];\n    var scripts = [];\n    var nodelist = html_node.querySelectorAll(\"script\");\n    for (var i in nodelist) {\n      if (nodelist.hasOwnProperty(i)) {\n        scripts.push(nodelist[i])\n      }\n    }\n\n    scripts.forEach( function (oldScript) {\n      var newScript = document.createElement(\"script\");\n      var attrs = [];\n      var nodemap = oldScript.attributes;\n      for (var j in nodemap) {\n        if (nodemap.hasOwnProperty(j)) {\n          attrs.push(nodemap[j])\n        }\n      }\n      attrs.forEach(function(attr) { newScript.setAttribute(attr.name, attr.value) });\n      newScript.appendChild(document.createTextNode(oldScript.innerHTML));\n      oldScript.parentNode.replaceChild(newScript, oldScript);\n    });\n    if (JS_MIME_TYPE in output.data) {\n      toinsert[nchildren-1].children[1].textContent = output.data[JS_MIME_TYPE];\n    }\n    output_area._hv_plot_id = id;\n    if ((window.Bokeh !== undefined) && (id in Bokeh.index)) {\n      window.PyViz.plot_index[id] = Bokeh.index[id];\n    } else {\n      window.PyViz.plot_index[id] = null;\n    }\n  } else if (output.metadata[EXEC_MIME_TYPE][\"server_id\"] !== undefined) {\n    var bk_div = document.createElement(\"div\");\n    bk_div.innerHTML = output.data[HTML_MIME_TYPE];\n    var script_attrs = bk_div.children[0].attributes;\n    for (var i = 0; i < script_attrs.length; i++) {\n      toinsert[toinsert.length - 1].childNodes[1].setAttribute(script_attrs[i].name, script_attrs[i].value);\n    }\n    // store reference to server id on output_area\n    output_area._bokeh_server_id = output.metadata[EXEC_MIME_TYPE][\"server_id\"];\n  }\n}\n\n/**\n * Handle when an output is cleared or removed\n */\nfunction handle_clear_output(event, handle) {\n  var id = handle.cell.output_area._hv_plot_id;\n  var server_id = handle.cell.output_area._bokeh_server_id;\n  if (((id === undefined) || !(id in PyViz.plot_index)) && (server_id !== undefined)) { return; }\n  var comm = window.PyViz.comm_manager.get_client_comm(\"hv-extension-comm\", \"hv-extension-comm\", function () {});\n  if (server_id !== null) {\n    comm.send({event_type: 'server_delete', 'id': server_id});\n    return;\n  } else if (comm !== null) {\n    comm.send({event_type: 'delete', 'id': id});\n  }\n  delete PyViz.plot_index[id];\n  if ((window.Bokeh !== undefined) & (id in window.Bokeh.index)) {\n    var doc = window.Bokeh.index[id].model.document\n    doc.clear();\n    const i = window.Bokeh.documents.indexOf(doc);\n    if (i > -1) {\n      window.Bokeh.documents.splice(i, 1);\n    }\n  }\n}\n\n/**\n * Handle kernel restart event\n */\nfunction handle_kernel_cleanup(event, handle) {\n  delete PyViz.comms[\"hv-extension-comm\"];\n  window.PyViz.plot_index = {}\n}\n\n/**\n * Handle update_display_data messages\n */\nfunction handle_update_output(event, handle) {\n  handle_clear_output(event, {cell: {output_area: handle.output_area}})\n  handle_add_output(event, handle)\n}\n\nfunction register_renderer(events, OutputArea) {\n  function append_mime(data, metadata, element) {\n    // create a DOM node to render to\n    var toinsert = this.create_output_subarea(\n    metadata,\n    CLASS_NAME,\n    EXEC_MIME_TYPE\n    );\n    this.keyboard_manager.register_events(toinsert);\n    // Render to node\n    var props = {data: data, metadata: metadata[EXEC_MIME_TYPE]};\n    render(props, toinsert[0]);\n    element.append(toinsert);\n    return toinsert\n  }\n\n  events.on('output_added.OutputArea', handle_add_output);\n  events.on('output_updated.OutputArea', handle_update_output);\n  events.on('clear_output.CodeCell', handle_clear_output);\n  events.on('delete.Cell', handle_clear_output);\n  events.on('kernel_ready.Kernel', handle_kernel_cleanup);\n\n  OutputArea.prototype.register_mime_type(EXEC_MIME_TYPE, append_mime, {\n    safe: true,\n    index: 0\n  });\n}\n\nif (window.Jupyter !== undefined) {\n  try {\n    var events = require('base/js/events');\n    var OutputArea = require('notebook/js/outputarea').OutputArea;\n    if (OutputArea.prototype.mime_types().indexOf(EXEC_MIME_TYPE) == -1) {\n      register_renderer(events, OutputArea);\n    }\n  } catch(err) {\n  }\n}\n",
      "application/vnd.holoviews_load.v0+json": ""
     },
     "metadata": {},
     "output_type": "display_data"
    },
    {
     "data": {
      "application/vnd.holoviews_exec.v0+json": "",
      "text/html": [
       "<div id='0e28decc-cc8d-4591-a612-f6c823c2a5ff'>\n",
       "  <div id=\"a9dfda24-ff17-416b-abb0-be53e40dd668\" data-root-id=\"0e28decc-cc8d-4591-a612-f6c823c2a5ff\" style=\"display: contents;\"></div>\n",
       "</div>\n",
       "<script type=\"application/javascript\">(function(root) {\n",
       "  var docs_json = {\"14d88f1f-6019-4d24-ad53-3163e049198e\":{\"version\":\"3.6.1\",\"title\":\"Bokeh Application\",\"roots\":[{\"type\":\"object\",\"name\":\"panel.models.browser.BrowserInfo\",\"id\":\"0e28decc-cc8d-4591-a612-f6c823c2a5ff\"},{\"type\":\"object\",\"name\":\"panel.models.comm_manager.CommManager\",\"id\":\"89dae7c1-c5e4-4765-ae2b-811c79d996d3\",\"attributes\":{\"plot_id\":\"0e28decc-cc8d-4591-a612-f6c823c2a5ff\",\"comm_id\":\"fe234f647bde4c39b63054ee6f651fc8\",\"client_comm_id\":\"fd3c05511e554d3ba19c1cba5fc6268e\"}}],\"defs\":[{\"type\":\"model\",\"name\":\"ReactiveHTML1\"},{\"type\":\"model\",\"name\":\"FlexBox1\",\"properties\":[{\"name\":\"align_content\",\"kind\":\"Any\",\"default\":\"flex-start\"},{\"name\":\"align_items\",\"kind\":\"Any\",\"default\":\"flex-start\"},{\"name\":\"flex_direction\",\"kind\":\"Any\",\"default\":\"row\"},{\"name\":\"flex_wrap\",\"kind\":\"Any\",\"default\":\"wrap\"},{\"name\":\"gap\",\"kind\":\"Any\",\"default\":\"\"},{\"name\":\"justify_content\",\"kind\":\"Any\",\"default\":\"flex-start\"}]},{\"type\":\"model\",\"name\":\"FloatPanel1\",\"properties\":[{\"name\":\"config\",\"kind\":\"Any\",\"default\":{\"type\":\"map\"}},{\"name\":\"contained\",\"kind\":\"Any\",\"default\":true},{\"name\":\"position\",\"kind\":\"Any\",\"default\":\"right-top\"},{\"name\":\"offsetx\",\"kind\":\"Any\",\"default\":null},{\"name\":\"offsety\",\"kind\":\"Any\",\"default\":null},{\"name\":\"theme\",\"kind\":\"Any\",\"default\":\"primary\"},{\"name\":\"status\",\"kind\":\"Any\",\"default\":\"normalized\"}]},{\"type\":\"model\",\"name\":\"GridStack1\",\"properties\":[{\"name\":\"mode\",\"kind\":\"Any\",\"default\":\"warn\"},{\"name\":\"ncols\",\"kind\":\"Any\",\"default\":null},{\"name\":\"nrows\",\"kind\":\"Any\",\"default\":null},{\"name\":\"allow_resize\",\"kind\":\"Any\",\"default\":true},{\"name\":\"allow_drag\",\"kind\":\"Any\",\"default\":true},{\"name\":\"state\",\"kind\":\"Any\",\"default\":[]}]},{\"type\":\"model\",\"name\":\"drag1\",\"properties\":[{\"name\":\"slider_width\",\"kind\":\"Any\",\"default\":5},{\"name\":\"slider_color\",\"kind\":\"Any\",\"default\":\"black\"},{\"name\":\"value\",\"kind\":\"Any\",\"default\":50}]},{\"type\":\"model\",\"name\":\"click1\",\"properties\":[{\"name\":\"terminal_output\",\"kind\":\"Any\",\"default\":\"\"},{\"name\":\"debug_name\",\"kind\":\"Any\",\"default\":\"\"},{\"name\":\"clears\",\"kind\":\"Any\",\"default\":0}]},{\"type\":\"model\",\"name\":\"FastWrapper1\",\"properties\":[{\"name\":\"object\",\"kind\":\"Any\",\"default\":null},{\"name\":\"style\",\"kind\":\"Any\",\"default\":null}]},{\"type\":\"model\",\"name\":\"NotificationAreaBase1\",\"properties\":[{\"name\":\"js_events\",\"kind\":\"Any\",\"default\":{\"type\":\"map\"}},{\"name\":\"position\",\"kind\":\"Any\",\"default\":\"bottom-right\"},{\"name\":\"_clear\",\"kind\":\"Any\",\"default\":0}]},{\"type\":\"model\",\"name\":\"NotificationArea1\",\"properties\":[{\"name\":\"js_events\",\"kind\":\"Any\",\"default\":{\"type\":\"map\"}},{\"name\":\"notifications\",\"kind\":\"Any\",\"default\":[]},{\"name\":\"position\",\"kind\":\"Any\",\"default\":\"bottom-right\"},{\"name\":\"_clear\",\"kind\":\"Any\",\"default\":0},{\"name\":\"types\",\"kind\":\"Any\",\"default\":[{\"type\":\"map\",\"entries\":[[\"type\",\"warning\"],[\"background\",\"#ffc107\"],[\"icon\",{\"type\":\"map\",\"entries\":[[\"className\",\"fas fa-exclamation-triangle\"],[\"tagName\",\"i\"],[\"color\",\"white\"]]}]]},{\"type\":\"map\",\"entries\":[[\"type\",\"info\"],[\"background\",\"#007bff\"],[\"icon\",{\"type\":\"map\",\"entries\":[[\"className\",\"fas fa-info-circle\"],[\"tagName\",\"i\"],[\"color\",\"white\"]]}]]}]}]},{\"type\":\"model\",\"name\":\"Notification\",\"properties\":[{\"name\":\"background\",\"kind\":\"Any\",\"default\":null},{\"name\":\"duration\",\"kind\":\"Any\",\"default\":3000},{\"name\":\"icon\",\"kind\":\"Any\",\"default\":null},{\"name\":\"message\",\"kind\":\"Any\",\"default\":\"\"},{\"name\":\"notification_type\",\"kind\":\"Any\",\"default\":null},{\"name\":\"_destroyed\",\"kind\":\"Any\",\"default\":false}]},{\"type\":\"model\",\"name\":\"TemplateActions1\",\"properties\":[{\"name\":\"open_modal\",\"kind\":\"Any\",\"default\":0},{\"name\":\"close_modal\",\"kind\":\"Any\",\"default\":0}]},{\"type\":\"model\",\"name\":\"BootstrapTemplateActions1\",\"properties\":[{\"name\":\"open_modal\",\"kind\":\"Any\",\"default\":0},{\"name\":\"close_modal\",\"kind\":\"Any\",\"default\":0}]},{\"type\":\"model\",\"name\":\"TemplateEditor1\",\"properties\":[{\"name\":\"layout\",\"kind\":\"Any\",\"default\":[]}]},{\"type\":\"model\",\"name\":\"MaterialTemplateActions1\",\"properties\":[{\"name\":\"open_modal\",\"kind\":\"Any\",\"default\":0},{\"name\":\"close_modal\",\"kind\":\"Any\",\"default\":0}]},{\"type\":\"model\",\"name\":\"ReactiveESM1\",\"properties\":[{\"name\":\"esm_constants\",\"kind\":\"Any\",\"default\":{\"type\":\"map\"}}]},{\"type\":\"model\",\"name\":\"JSComponent1\",\"properties\":[{\"name\":\"esm_constants\",\"kind\":\"Any\",\"default\":{\"type\":\"map\"}}]},{\"type\":\"model\",\"name\":\"ReactComponent1\",\"properties\":[{\"name\":\"esm_constants\",\"kind\":\"Any\",\"default\":{\"type\":\"map\"}}]},{\"type\":\"model\",\"name\":\"AnyWidgetComponent1\",\"properties\":[{\"name\":\"esm_constants\",\"kind\":\"Any\",\"default\":{\"type\":\"map\"}}]},{\"type\":\"model\",\"name\":\"request_value1\",\"properties\":[{\"name\":\"fill\",\"kind\":\"Any\",\"default\":\"none\"},{\"name\":\"_synced\",\"kind\":\"Any\",\"default\":null},{\"name\":\"_request_sync\",\"kind\":\"Any\",\"default\":0}]}]}};\n",
       "  var render_items = [{\"docid\":\"14d88f1f-6019-4d24-ad53-3163e049198e\",\"roots\":{\"0e28decc-cc8d-4591-a612-f6c823c2a5ff\":\"a9dfda24-ff17-416b-abb0-be53e40dd668\"},\"root_ids\":[\"0e28decc-cc8d-4591-a612-f6c823c2a5ff\"]}];\n",
       "  var docs = Object.values(docs_json)\n",
       "  if (!docs) {\n",
       "    return\n",
       "  }\n",
       "  const py_version = docs[0].version.replace('rc', '-rc.').replace('.dev', '-dev.')\n",
       "  async function embed_document(root) {\n",
       "    var Bokeh = get_bokeh(root)\n",
       "    await Bokeh.embed.embed_items_notebook(docs_json, render_items);\n",
       "    for (const render_item of render_items) {\n",
       "      for (const root_id of render_item.root_ids) {\n",
       "\tconst id_el = document.getElementById(root_id)\n",
       "\tif (id_el.children.length && id_el.children[0].hasAttribute('data-root-id')) {\n",
       "\t  const root_el = id_el.children[0]\n",
       "\t  root_el.id = root_el.id + '-rendered'\n",
       "\t  for (const child of root_el.children) {\n",
       "            // Ensure JupyterLab does not capture keyboard shortcuts\n",
       "            // see: https://jupyterlab.readthedocs.io/en/4.1.x/extension/notebook.html#keyboard-interaction-model\n",
       "\t    child.setAttribute('data-lm-suppress-shortcuts', 'true')\n",
       "\t  }\n",
       "\t}\n",
       "      }\n",
       "    }\n",
       "  }\n",
       "  function get_bokeh(root) {\n",
       "    if (root.Bokeh === undefined) {\n",
       "      return null\n",
       "    } else if (root.Bokeh.version !== py_version) {\n",
       "      if (root.Bokeh.versions === undefined || !root.Bokeh.versions.has(py_version)) {\n",
       "\treturn null\n",
       "      }\n",
       "      return root.Bokeh.versions.get(py_version);\n",
       "    } else if (root.Bokeh.version === py_version) {\n",
       "      return root.Bokeh\n",
       "    }\n",
       "    return null\n",
       "  }\n",
       "  function is_loaded(root) {\n",
       "    var Bokeh = get_bokeh(root)\n",
       "    return (Bokeh != null && Bokeh.Panel !== undefined)\n",
       "  }\n",
       "  if (is_loaded(root)) {\n",
       "    embed_document(root);\n",
       "  } else {\n",
       "    var attempts = 0;\n",
       "    var timer = setInterval(function(root) {\n",
       "      if (is_loaded(root)) {\n",
       "        clearInterval(timer);\n",
       "        embed_document(root);\n",
       "      } else if (document.readyState == \"complete\") {\n",
       "        attempts++;\n",
       "        if (attempts > 200) {\n",
       "          clearInterval(timer);\n",
       "\t  var Bokeh = get_bokeh(root)\n",
       "\t  if (Bokeh == null || Bokeh.Panel == null) {\n",
       "            console.warn(\"Panel: ERROR: Unable to run Panel code because Bokeh or Panel library is missing\");\n",
       "\t  } else {\n",
       "\t    console.warn(\"Panel: WARNING: Attempting to render but not all required libraries could be resolved.\")\n",
       "\t    embed_document(root)\n",
       "\t  }\n",
       "        }\n",
       "      }\n",
       "    }, 25, root)\n",
       "  }\n",
       "})(window);</script>"
      ]
     },
     "metadata": {
      "application/vnd.holoviews_exec.v0+json": {
       "id": "0e28decc-cc8d-4591-a612-f6c823c2a5ff"
      }
     },
     "output_type": "display_data"
    }
   ],
   "source": [
    "import pandas as pd\n",
    "from pathlib import Path\n",
    "import datetime as dt\n",
    "import matplotlib.pyplot as plt\n",
    "import hvplot.pandas\n",
    "import time"
   ]
  },
  {
   "cell_type": "code",
   "execution_count": 6,
   "metadata": {
    "colab": {
     "base_uri": "https://localhost:8080/",
     "height": 392
    },
    "id": "zPvWStcA-KUN",
    "outputId": "fab0180d-ff99-45f9-a172-1f92376629f0",
    "scrolled": true
   },
   "outputs": [
    {
     "data": {
      "text/html": [
       "<div>\n",
       "<style scoped>\n",
       "    .dataframe tbody tr th:only-of-type {\n",
       "        vertical-align: middle;\n",
       "    }\n",
       "\n",
       "    .dataframe tbody tr th {\n",
       "        vertical-align: top;\n",
       "    }\n",
       "\n",
       "    .dataframe thead th {\n",
       "        text-align: right;\n",
       "    }\n",
       "</style>\n",
       "<table border=\"1\" class=\"dataframe\">\n",
       "  <thead>\n",
       "    <tr style=\"text-align: right;\">\n",
       "      <th></th>\n",
       "      <th>REF_DATE</th>\n",
       "      <th>GEO</th>\n",
       "      <th>DGUID</th>\n",
       "      <th>National Occupational Classification</th>\n",
       "      <th>Job vacancy characteristics</th>\n",
       "      <th>Statistics</th>\n",
       "      <th>UOM</th>\n",
       "      <th>UOM_ID</th>\n",
       "      <th>SCALAR_FACTOR</th>\n",
       "      <th>SCALAR_ID</th>\n",
       "      <th>VECTOR</th>\n",
       "      <th>COORDINATE</th>\n",
       "      <th>VALUE</th>\n",
       "      <th>STATUS</th>\n",
       "      <th>SYMBOL</th>\n",
       "      <th>TERMINATED</th>\n",
       "      <th>DECIMALS</th>\n",
       "    </tr>\n",
       "  </thead>\n",
       "  <tbody>\n",
       "    <tr>\n",
       "      <th>23996738</th>\n",
       "      <td>2018-10</td>\n",
       "      <td>Saskatchewan</td>\n",
       "      <td>2021A000247</td>\n",
       "      <td>Camera, platemaking and other prepress occupat...</td>\n",
       "      <td>90 days or more</td>\n",
       "      <td>Average offered hourly wage</td>\n",
       "      <td>Dollars</td>\n",
       "      <td>81</td>\n",
       "      <td>units</td>\n",
       "      <td>0</td>\n",
       "      <td>v1570914291</td>\n",
       "      <td>9.802.28.5</td>\n",
       "      <td>NaN</td>\n",
       "      <td>..</td>\n",
       "      <td>NaN</td>\n",
       "      <td>NaN</td>\n",
       "      <td>2</td>\n",
       "    </tr>\n",
       "    <tr>\n",
       "      <th>12258923</th>\n",
       "      <td>2016-10</td>\n",
       "      <td>Nunavut</td>\n",
       "      <td>2021A000262</td>\n",
       "      <td>Silviculture and forestry workers [84111]</td>\n",
       "      <td>Minimum experience level sought, all levels</td>\n",
       "      <td>Average offered hourly wage</td>\n",
       "      <td>Dollars</td>\n",
       "      <td>81</td>\n",
       "      <td>units</td>\n",
       "      <td>0</td>\n",
       "      <td>v1571454637</td>\n",
       "      <td>14.745.17.5</td>\n",
       "      <td>NaN</td>\n",
       "      <td>..</td>\n",
       "      <td>NaN</td>\n",
       "      <td>NaN</td>\n",
       "      <td>2</td>\n",
       "    </tr>\n",
       "    <tr>\n",
       "      <th>3398821</th>\n",
       "      <td>2015-07</td>\n",
       "      <td>Nova Scotia</td>\n",
       "      <td>2021A000212</td>\n",
       "      <td>Business, finance and administration occupatio...</td>\n",
       "      <td>Part-time</td>\n",
       "      <td>Job vacancies</td>\n",
       "      <td>Number</td>\n",
       "      <td>223</td>\n",
       "      <td>units</td>\n",
       "      <td>0</td>\n",
       "      <td>v1570259990</td>\n",
       "      <td>4.3.3.1</td>\n",
       "      <td>235.0</td>\n",
       "      <td>E</td>\n",
       "      <td>NaN</td>\n",
       "      <td>NaN</td>\n",
       "      <td>0</td>\n",
       "    </tr>\n",
       "  </tbody>\n",
       "</table>\n",
       "</div>"
      ],
      "text/plain": [
       "         REF_DATE           GEO        DGUID  \\\n",
       "23996738  2018-10  Saskatchewan  2021A000247   \n",
       "12258923  2016-10       Nunavut  2021A000262   \n",
       "3398821   2015-07   Nova Scotia  2021A000212   \n",
       "\n",
       "                       National Occupational Classification  \\\n",
       "23996738  Camera, platemaking and other prepress occupat...   \n",
       "12258923          Silviculture and forestry workers [84111]   \n",
       "3398821   Business, finance and administration occupatio...   \n",
       "\n",
       "                          Job vacancy characteristics  \\\n",
       "23996738                              90 days or more   \n",
       "12258923  Minimum experience level sought, all levels   \n",
       "3398821                                     Part-time   \n",
       "\n",
       "                           Statistics      UOM  UOM_ID SCALAR_FACTOR  \\\n",
       "23996738  Average offered hourly wage  Dollars      81         units   \n",
       "12258923  Average offered hourly wage  Dollars      81         units   \n",
       "3398821                 Job vacancies   Number     223         units   \n",
       "\n",
       "          SCALAR_ID       VECTOR   COORDINATE  VALUE STATUS  SYMBOL  \\\n",
       "23996738          0  v1570914291   9.802.28.5    NaN     ..     NaN   \n",
       "12258923          0  v1571454637  14.745.17.5    NaN     ..     NaN   \n",
       "3398821           0  v1570259990      4.3.3.1  235.0      E     NaN   \n",
       "\n",
       "         TERMINATED  DECIMALS  \n",
       "23996738        NaN         2  \n",
       "12258923        NaN         2  \n",
       "3398821         NaN         0  "
      ]
     },
     "execution_count": 6,
     "metadata": {},
     "output_type": "execute_result"
    }
   ],
   "source": [
    "# Read the raw dataset\n",
    "file_path = \"../Database/Resources/14100443.csv\"\n",
    "data = pd.read_csv(file_path, on_bad_lines=\"skip\")\n",
    "data.sample(3)\n"
   ]
  },
  {
   "cell_type": "code",
   "execution_count": 7,
   "metadata": {},
   "outputs": [
    {
     "name": "stdout",
     "output_type": "stream",
     "text": [
      "(55234368, 17)\n"
     ]
    }
   ],
   "source": [
    "print(data.shape)"
   ]
  },
  {
   "cell_type": "code",
   "execution_count": 8,
   "metadata": {},
   "outputs": [],
   "source": [
    "df=data.copy()"
   ]
  },
  {
   "cell_type": "code",
   "execution_count": 9,
   "metadata": {},
   "outputs": [
    {
     "name": "stdout",
     "output_type": "stream",
     "text": [
      "<class 'pandas.core.frame.DataFrame'>\n",
      "RangeIndex: 55234368 entries, 0 to 55234367\n",
      "Data columns (total 17 columns):\n",
      " #   Column                                Dtype  \n",
      "---  ------                                -----  \n",
      " 0   REF_DATE                              object \n",
      " 1   GEO                                   object \n",
      " 2   DGUID                                 object \n",
      " 3   National Occupational Classification  object \n",
      " 4   Job vacancy characteristics           object \n",
      " 5   Statistics                            object \n",
      " 6   UOM                                   object \n",
      " 7   UOM_ID                                int64  \n",
      " 8   SCALAR_FACTOR                         object \n",
      " 9   SCALAR_ID                             int64  \n",
      " 10  VECTOR                                object \n",
      " 11  COORDINATE                            object \n",
      " 12  VALUE                                 float64\n",
      " 13  STATUS                                object \n",
      " 14  SYMBOL                                float64\n",
      " 15  TERMINATED                            object \n",
      " 16  DECIMALS                              int64  \n",
      "dtypes: float64(2), int64(3), object(12)\n",
      "memory usage: 7.0+ GB\n"
     ]
    }
   ],
   "source": [
    "# Determine the columns and their corresponding data types\n",
    "df.info()"
   ]
  },
  {
   "cell_type": "markdown",
   "metadata": {},
   "source": [
    "<h1><span style=\"color:green\"> 1. Exploring columns </span></h1>"
   ]
  },
  {
   "cell_type": "code",
   "execution_count": 10,
   "metadata": {},
   "outputs": [
    {
     "data": {
      "text/plain": [
       "Index(['REF_DATE', 'GEO', 'DGUID', 'National Occupational Classification',\n",
       "       'Job vacancy characteristics', 'Statistics', 'UOM', 'UOM_ID',\n",
       "       'SCALAR_FACTOR', 'SCALAR_ID', 'VECTOR', 'COORDINATE', 'VALUE', 'STATUS',\n",
       "       'SYMBOL', 'TERMINATED', 'DECIMALS'],\n",
       "      dtype='object')"
      ]
     },
     "execution_count": 10,
     "metadata": {},
     "output_type": "execute_result"
    }
   ],
   "source": [
    "# Exploring columns\n",
    "df.columns"
   ]
  },
  {
   "cell_type": "code",
   "execution_count": 11,
   "metadata": {},
   "outputs": [
    {
     "data": {
      "text/plain": [
       "36"
      ]
     },
     "execution_count": 11,
     "metadata": {},
     "output_type": "execute_result"
    }
   ],
   "source": [
    "len(df['REF_DATE'].unique())"
   ]
  },
  {
   "cell_type": "code",
   "execution_count": 12,
   "metadata": {},
   "outputs": [
    {
     "data": {
      "text/plain": [
       "REF_DATE\n",
       "2015-01    1534288\n",
       "2015-04    1534288\n",
       "2015-07    1534288\n",
       "2015-10    1534288\n",
       "2016-01    1534288\n",
       "2016-04    1534288\n",
       "2016-07    1534288\n",
       "2016-10    1534288\n",
       "2017-01    1534288\n",
       "2017-04    1534288\n",
       "2017-07    1534288\n",
       "2017-10    1534288\n",
       "2018-01    1534288\n",
       "2018-04    1534288\n",
       "2018-07    1534288\n",
       "2018-10    1534288\n",
       "2019-01    1534288\n",
       "2019-04    1534288\n",
       "2019-07    1534288\n",
       "2019-10    1534288\n",
       "2020-01    1534288\n",
       "2020-10    1534288\n",
       "2021-01    1534288\n",
       "2021-04    1534288\n",
       "2021-07    1534288\n",
       "2021-10    1534288\n",
       "2022-01    1534288\n",
       "2022-04    1534288\n",
       "2022-07    1534288\n",
       "2022-10    1534288\n",
       "2023-01    1534288\n",
       "2023-04    1534288\n",
       "2023-07    1534288\n",
       "2023-10    1534288\n",
       "2024-01    1534288\n",
       "2024-04    1534288\n",
       "Name: count, dtype: int64"
      ]
     },
     "execution_count": 12,
     "metadata": {},
     "output_type": "execute_result"
    }
   ],
   "source": [
    "df['REF_DATE'].value_counts().sort_index(ascending=True)"
   ]
  },
  {
   "cell_type": "code",
   "execution_count": 13,
   "metadata": {},
   "outputs": [
    {
     "name": "stdout",
     "output_type": "stream",
     "text": [
      "14\n"
     ]
    },
    {
     "data": {
      "text/plain": [
       "GEO\n",
       "Canada                       3945312\n",
       "Newfoundland and Labrador    3945312\n",
       "Prince Edward Island         3945312\n",
       "Nova Scotia                  3945312\n",
       "New Brunswick                3945312\n",
       "Quebec                       3945312\n",
       "Ontario                      3945312\n",
       "Manitoba                     3945312\n",
       "Saskatchewan                 3945312\n",
       "Alberta                      3945312\n",
       "British Columbia             3945312\n",
       "Yukon                        3945312\n",
       "Northwest Territories        3945312\n",
       "Nunavut                      3945312\n",
       "Name: count, dtype: int64"
      ]
     },
     "execution_count": 13,
     "metadata": {},
     "output_type": "execute_result"
    }
   ],
   "source": [
    "# Exploring columns\n",
    "print(len(df.GEO.unique()))\n",
    "df.GEO.value_counts()"
   ]
  },
  {
   "cell_type": "code",
   "execution_count": 14,
   "metadata": {},
   "outputs": [
    {
     "name": "stdout",
     "output_type": "stream",
     "text": [
      "14\n",
      "DGUID\n",
      "2021A000011124    3945312\n",
      "2021A000210       3945312\n",
      "2021A000211       3945312\n",
      "2021A000212       3945312\n",
      "2021A000213       3945312\n",
      "2021A000224       3945312\n",
      "2021A000235       3945312\n",
      "2021A000246       3945312\n",
      "2021A000247       3945312\n",
      "2021A000248       3945312\n",
      "2021A000259       3945312\n",
      "2021A000260       3945312\n",
      "2021A000261       3945312\n",
      "2021A000262       3945312\n",
      "Name: count, dtype: int64\n"
     ]
    }
   ],
   "source": [
    "# Exploring columns\n",
    "print(len(df.DGUID.unique()))\n",
    "print(df.DGUID.value_counts())"
   ]
  },
  {
   "cell_type": "code",
   "execution_count": 15,
   "metadata": {},
   "outputs": [
    {
     "name": "stdout",
     "output_type": "stream",
     "text": [
      "824\n"
     ]
    },
    {
     "data": {
      "text/plain": [
       "National Occupational Classification\n",
       "Total, all occupations                                                                                 67032\n",
       "Technical industrial trades [721]                                                                      67032\n",
       "Contractors and supervisors, pipefitting trades [72012]                                                67032\n",
       "Contractors and supervisors, carpentry trades [72013]                                                  67032\n",
       "Contractors and supervisors, other construction trades, installers, repairers and servicers [72014]    67032\n",
       "                                                                                                       ...  \n",
       "Managers in education [4002]                                                                           67032\n",
       "Administrators - post-secondary education and vocational training [40020]                              67032\n",
       "School principals and administrators of elementary and secondary education [40021]                     67032\n",
       "Managers in social, community and correctional services [4003]                                         67032\n",
       "Unclassified occupations                                                                               67032\n",
       "Name: count, Length: 824, dtype: int64"
      ]
     },
     "execution_count": 15,
     "metadata": {},
     "output_type": "execute_result"
    }
   ],
   "source": [
    "# Exploring columns\n",
    "print(len(df['National Occupational Classification'].unique()))\n",
    "df['National Occupational Classification'].value_counts()"
   ]
  },
  {
   "cell_type": "code",
   "execution_count": 16,
   "metadata": {},
   "outputs": [
    {
     "name": "stdout",
     "output_type": "stream",
     "text": [
      "47\n"
     ]
    }
   ],
   "source": [
    "# # Exploring columns\n",
    "print(len(df['Job vacancy characteristics'].unique()))\n",
    "# df['Job vacancy characteristics'].value_counts()"
   ]
  },
  {
   "cell_type": "code",
   "execution_count": 17,
   "metadata": {},
   "outputs": [
    {
     "name": "stdout",
     "output_type": "stream",
     "text": [
      "3\n",
      "Statistics\n",
      "Job vacancies                  19934208\n",
      "Proportion of job vacancies    19934208\n",
      "Average offered hourly wage    15365952\n",
      "Name: count, dtype: int64\n"
     ]
    }
   ],
   "source": [
    "# Exploring columns\n",
    "print(len(df.Statistics.unique()))\n",
    "print(df.Statistics.value_counts())"
   ]
  },
  {
   "cell_type": "code",
   "execution_count": 18,
   "metadata": {},
   "outputs": [
    {
     "name": "stdout",
     "output_type": "stream",
     "text": [
      "3\n",
      "UOM\n",
      "Number     19934208\n",
      "Percent    19934208\n",
      "Dollars    15365952\n",
      "Name: count, dtype: int64\n"
     ]
    }
   ],
   "source": [
    "# Exploring columns\n",
    "print(len(df.UOM.unique()))\n",
    "print(df.UOM.value_counts())"
   ]
  },
  {
   "cell_type": "code",
   "execution_count": 19,
   "metadata": {},
   "outputs": [
    {
     "name": "stdout",
     "output_type": "stream",
     "text": [
      "3\n",
      "UOM_ID\n",
      "223    19934208\n",
      "239    19934208\n",
      "81     15365952\n",
      "Name: count, dtype: int64\n"
     ]
    }
   ],
   "source": [
    "# Exploring columns\n",
    "print(len(df.UOM_ID.unique()))\n",
    "print(df.UOM_ID.value_counts())"
   ]
  },
  {
   "cell_type": "code",
   "execution_count": 20,
   "metadata": {},
   "outputs": [
    {
     "name": "stdout",
     "output_type": "stream",
     "text": [
      "1\n",
      "SCALAR_FACTOR\n",
      "units    55234368\n",
      "Name: count, dtype: int64\n"
     ]
    }
   ],
   "source": [
    "# Exploring columns\n",
    "print(len(df.SCALAR_FACTOR.unique()))\n",
    "print(df.SCALAR_FACTOR.value_counts())"
   ]
  },
  {
   "cell_type": "code",
   "execution_count": 21,
   "metadata": {},
   "outputs": [
    {
     "name": "stdout",
     "output_type": "stream",
     "text": [
      "1\n",
      "SCALAR_ID\n",
      "0    55234368\n",
      "Name: count, dtype: int64\n"
     ]
    }
   ],
   "source": [
    "# Exploring columns\n",
    "print(len(df.SCALAR_ID.unique()))\n",
    "print(df.SCALAR_ID.value_counts())"
   ]
  },
  {
   "cell_type": "code",
   "execution_count": 22,
   "metadata": {},
   "outputs": [
    {
     "name": "stdout",
     "output_type": "stream",
     "text": [
      "1534288\n",
      "VECTOR\n",
      "v1569930942    36\n",
      "v1570981765    36\n",
      "v1570981771    36\n",
      "v1570981770    36\n",
      "v1570981769    36\n",
      "               ..\n",
      "v1570455136    36\n",
      "v1570455135    36\n",
      "v1570455134    36\n",
      "v1570455133    36\n",
      "v1571357218    36\n",
      "Name: count, Length: 1534288, dtype: int64\n"
     ]
    }
   ],
   "source": [
    "# Exploring columns\n",
    "print(len(df.VECTOR.unique()))\n",
    "print(df.VECTOR.value_counts())"
   ]
  },
  {
   "cell_type": "code",
   "execution_count": 23,
   "metadata": {},
   "outputs": [
    {
     "name": "stdout",
     "output_type": "stream",
     "text": [
      "1534288\n",
      "COORDINATE\n",
      "1.1.1.1        36\n",
      "10.485.46.5    36\n",
      "10.485.48.5    36\n",
      "10.485.48.2    36\n",
      "10.485.48.1    36\n",
      "               ..\n",
      "5.646.15.5     36\n",
      "5.646.15.2     36\n",
      "5.646.15.1     36\n",
      "5.646.14.5     36\n",
      "14.12.44.2     36\n",
      "Name: count, Length: 1534288, dtype: int64\n"
     ]
    }
   ],
   "source": [
    "# Exploring columns\n",
    "print(len(df.COORDINATE.unique()))\n",
    "print(df.COORDINATE.value_counts())"
   ]
  },
  {
   "cell_type": "code",
   "execution_count": 24,
   "metadata": {},
   "outputs": [
    {
     "name": "stdout",
     "output_type": "stream",
     "text": [
      "15172\n",
      "VALUE\n",
      "0.0         2710254\n",
      "100.0       2172905\n",
      "5.0          219757\n",
      "10.0         153536\n",
      "15.0         140738\n",
      "             ...   \n",
      "139225.0          1\n",
      "400535.0          1\n",
      "136145.0          1\n",
      "426545.0          1\n",
      "108.2             1\n",
      "Name: count, Length: 15171, dtype: int64\n"
     ]
    }
   ],
   "source": [
    "# Exploring columns\n",
    "print(len(df.VALUE.unique()))\n",
    "print(df.VALUE.value_counts())"
   ]
  },
  {
   "cell_type": "code",
   "execution_count": 25,
   "metadata": {},
   "outputs": [
    {
     "name": "stdout",
     "output_type": "stream",
     "text": [
      "9\n",
      "STATUS\n",
      "..    24689775\n",
      "F     13313275\n",
      "A      2624686\n",
      "E      2511601\n",
      "D      2495251\n",
      "x      1902074\n",
      "B      1780946\n",
      "C      1365491\n",
      "Name: count, dtype: int64\n"
     ]
    }
   ],
   "source": [
    "# Exploring columns\n",
    "print(len(df.STATUS.unique()))\n",
    "print(df.STATUS.value_counts())"
   ]
  },
  {
   "cell_type": "code",
   "execution_count": 26,
   "metadata": {},
   "outputs": [
    {
     "name": "stdout",
     "output_type": "stream",
     "text": [
      "1\n",
      "Series([], Name: count, dtype: int64)\n"
     ]
    }
   ],
   "source": [
    "# Exploring columns\n",
    "print(len(df.SYMBOL.unique()))\n",
    "print(df.SYMBOL.value_counts())"
   ]
  },
  {
   "cell_type": "code",
   "execution_count": 27,
   "metadata": {},
   "outputs": [
    {
     "name": "stdout",
     "output_type": "stream",
     "text": [
      "2\n",
      "TERMINATED\n",
      "t    4983552\n",
      "Name: count, dtype: int64\n"
     ]
    }
   ],
   "source": [
    "# Exploring columns\n",
    "print(len(df.TERMINATED.unique()))\n",
    "print(df.TERMINATED.value_counts())"
   ]
  },
  {
   "cell_type": "code",
   "execution_count": 28,
   "metadata": {},
   "outputs": [
    {
     "name": "stdout",
     "output_type": "stream",
     "text": [
      "3\n",
      "DECIMALS\n",
      "0    19934208\n",
      "1    19934208\n",
      "2    15365952\n",
      "Name: count, dtype: int64\n"
     ]
    }
   ],
   "source": [
    "# Exploring columns\n",
    "print(len(df.DECIMALS.unique()))\n",
    "print(df.DECIMALS.value_counts())"
   ]
  },
  {
   "cell_type": "code",
   "execution_count": 29,
   "metadata": {},
   "outputs": [],
   "source": [
    "# Keep acceptable data quality \n",
    "df = df.loc[(df['STATUS'] == 'A')|(df['STATUS'] == 'B')|(df['STATUS'] == 'C')|(df['STATUS'] == 'D')]"
   ]
  },
  {
   "cell_type": "code",
   "execution_count": 30,
   "metadata": {},
   "outputs": [],
   "source": [
    "# Dropping unneeded columns from table\n",
    "df = df.drop(columns=['DGUID','UOM_ID','SCALAR_FACTOR','SCALAR_ID','VECTOR','COORDINATE','STATUS','SYMBOL',\\\n",
    "                      'UOM','TERMINATED','DECIMALS'])\n"
   ]
  },
  {
   "cell_type": "code",
   "execution_count": 31,
   "metadata": {},
   "outputs": [
    {
     "name": "stdout",
     "output_type": "stream",
     "text": [
      "number of duplicate rows:  (0, 6)\n"
     ]
    }
   ],
   "source": [
    "# Dropping the duplicate rows\n",
    "duplicate_rows_df = df[df.duplicated()]\n",
    "print(\"number of duplicate rows: \", duplicate_rows_df.shape)"
   ]
  },
  {
   "cell_type": "code",
   "execution_count": 32,
   "metadata": {},
   "outputs": [
    {
     "name": "stdout",
     "output_type": "stream",
     "text": [
      "REF_DATE                                0\n",
      "GEO                                     0\n",
      "National Occupational Classification    0\n",
      "Job vacancy characteristics             0\n",
      "Statistics                              0\n",
      "VALUE                                   0\n",
      "dtype: int64\n"
     ]
    }
   ],
   "source": [
    "# Dropping the missing or null values.\n",
    "print(df.isnull().sum())"
   ]
  },
  {
   "cell_type": "markdown",
   "metadata": {},
   "source": [
    "<h1><span style=\"color:green\"> 2. Exploring Statistics column: Job Vacancies </span></h1>"
   ]
  },
  {
   "cell_type": "code",
   "execution_count": 33,
   "metadata": {},
   "outputs": [],
   "source": [
    "job_vacancies = df.copy()"
   ]
  },
  {
   "cell_type": "code",
   "execution_count": 34,
   "metadata": {},
   "outputs": [
    {
     "data": {
      "text/plain": [
       "(2098576, 6)"
      ]
     },
     "execution_count": 34,
     "metadata": {},
     "output_type": "execute_result"
    }
   ],
   "source": [
    "# Filter number of vacancies\n",
    "job_vacancies = job_vacancies.loc[job_vacancies['Statistics'] == 'Job vacancies'] \n",
    "job_vacancies.shape"
   ]
  },
  {
   "cell_type": "code",
   "execution_count": 35,
   "metadata": {},
   "outputs": [
    {
     "name": "stdout",
     "output_type": "stream",
     "text": [
      "(2098576, 6)\n",
      "        REF_DATE      GEO               National Occupational Classification  \\\n",
      "8376324  2016-04  Ontario  Student monitors, crossing guards and related ...   \n",
      "\n",
      "        Job vacancy characteristics     Statistics  VALUE  \n",
      "8376324             Company website  Job vacancies    5.0  \n"
     ]
    }
   ],
   "source": [
    "# Handle Missing Data\n",
    "job_vacancies.dropna(subset = [\"VALUE\"], inplace=True)\n",
    "print(job_vacancies.shape)\n",
    "print(job_vacancies.sample(1))"
   ]
  },
  {
   "cell_type": "code",
   "execution_count": 36,
   "metadata": {},
   "outputs": [
    {
     "data": {
      "image/png": "[encoded data removed]",
      "text/plain": [
       "<Figure size 640x480 with 1 Axes>"
      ]
     },
     "metadata": {},
     "output_type": "display_data"
    }
   ],
   "source": [
    "# Ploting Value\n",
    "job_vacancies['REF_DATE'] = pd.to_datetime(job_vacancies['REF_DATE'], format='%Y-%m')\n",
    "job_vacancies.plot(x='REF_DATE', y='VALUE')\n",
    "plt.show()"
   ]
  },
  {
   "cell_type": "code",
   "execution_count": 37,
   "metadata": {},
   "outputs": [
    {
     "data": {
      "text/html": [
       "<div>\n",
       "<style scoped>\n",
       "    .dataframe tbody tr th:only-of-type {\n",
       "        vertical-align: middle;\n",
       "    }\n",
       "\n",
       "    .dataframe tbody tr th {\n",
       "        vertical-align: top;\n",
       "    }\n",
       "\n",
       "    .dataframe thead th {\n",
       "        text-align: right;\n",
       "    }\n",
       "</style>\n",
       "<table border=\"1\" class=\"dataframe\">\n",
       "  <thead>\n",
       "    <tr style=\"text-align: right;\">\n",
       "      <th></th>\n",
       "      <th></th>\n",
       "      <th>total_vac</th>\n",
       "    </tr>\n",
       "    <tr>\n",
       "      <th>GEO</th>\n",
       "      <th>REF_DATE</th>\n",
       "      <th></th>\n",
       "    </tr>\n",
       "  </thead>\n",
       "  <tbody>\n",
       "    <tr>\n",
       "      <th rowspan=\"5\" valign=\"top\">Alberta</th>\n",
       "      <th>2015-04-01</th>\n",
       "      <td>5741165.0</td>\n",
       "    </tr>\n",
       "    <tr>\n",
       "      <th>2015-07-01</th>\n",
       "      <td>4922110.0</td>\n",
       "    </tr>\n",
       "    <tr>\n",
       "      <th>2015-10-01</th>\n",
       "      <td>4039060.0</td>\n",
       "    </tr>\n",
       "    <tr>\n",
       "      <th>2016-01-01</th>\n",
       "      <td>2805135.0</td>\n",
       "    </tr>\n",
       "    <tr>\n",
       "      <th>2016-04-01</th>\n",
       "      <td>3073915.0</td>\n",
       "    </tr>\n",
       "    <tr>\n",
       "      <th>...</th>\n",
       "      <th>...</th>\n",
       "      <td>...</td>\n",
       "    </tr>\n",
       "    <tr>\n",
       "      <th rowspan=\"5\" valign=\"top\">Yukon</th>\n",
       "      <th>2023-04-01</th>\n",
       "      <td>23740.0</td>\n",
       "    </tr>\n",
       "    <tr>\n",
       "      <th>2023-07-01</th>\n",
       "      <td>29565.0</td>\n",
       "    </tr>\n",
       "    <tr>\n",
       "      <th>2023-10-01</th>\n",
       "      <td>21730.0</td>\n",
       "    </tr>\n",
       "    <tr>\n",
       "      <th>2024-01-01</th>\n",
       "      <td>22345.0</td>\n",
       "    </tr>\n",
       "    <tr>\n",
       "      <th>2024-04-01</th>\n",
       "      <td>38420.0</td>\n",
       "    </tr>\n",
       "  </tbody>\n",
       "</table>\n",
       "<p>492 rows × 1 columns</p>\n",
       "</div>"
      ],
      "text/plain": [
       "                    total_vac\n",
       "GEO     REF_DATE             \n",
       "Alberta 2015-04-01  5741165.0\n",
       "        2015-07-01  4922110.0\n",
       "        2015-10-01  4039060.0\n",
       "        2016-01-01  2805135.0\n",
       "        2016-04-01  3073915.0\n",
       "...                       ...\n",
       "Yukon   2023-04-01    23740.0\n",
       "        2023-07-01    29565.0\n",
       "        2023-10-01    21730.0\n",
       "        2024-01-01    22345.0\n",
       "        2024-04-01    38420.0\n",
       "\n",
       "[492 rows x 1 columns]"
      ]
     },
     "execution_count": 37,
     "metadata": {},
     "output_type": "execute_result"
    }
   ],
   "source": [
    "# Total vacancies per province by ref date \n",
    "total_vacancies_by_location = job_vacancies.groupby([\"GEO\",\"REF_DATE\"]).agg(total_vac=('VALUE','sum'))\n",
    "total_vacancies_by_location"
   ]
  },
  {
   "cell_type": "code",
   "execution_count": 38,
   "metadata": {},
   "outputs": [
    {
     "data": {
      "image/png": "[encoded data removed]",
      "text/plain": [
       "<Figure size 640x480 with 1 Axes>"
      ]
     },
     "metadata": {},
     "output_type": "display_data"
    }
   ],
   "source": [
    "# Exploring GEO \n",
    "job_vacancies=job_vacancies.reset_index()\n",
    "ax = plt.gca()\n",
    "job_vacancies.plot(kind='line',x='GEO',y='VALUE', color='c', ax=ax)\n",
    "plt.xticks(rotation=45)\n",
    "plt.show()"
   ]
  },
  {
   "cell_type": "code",
   "execution_count": 39,
   "metadata": {},
   "outputs": [
    {
     "data": {
      "text/plain": [
       "(1525960, 7)"
      ]
     },
     "execution_count": 39,
     "metadata": {},
     "output_type": "execute_result"
    }
   ],
   "source": [
    "# Filtering GEO.Canada\n",
    "job_vacancies = job_vacancies.loc[job_vacancies.GEO != \"Canada\"]\n",
    "job_vacancies.shape"
   ]
  },
  {
   "cell_type": "code",
   "execution_count": 40,
   "metadata": {},
   "outputs": [
    {
     "data": {
      "image/png": "[encoded data removed]",
      "text/plain": [
       "<Figure size 640x480 with 1 Axes>"
      ]
     },
     "metadata": {},
     "output_type": "display_data"
    }
   ],
   "source": [
    "# Exploring Job vacancy characteristics\n",
    "ax = plt.gca()\n",
    "job_vacancies.plot(kind='line',x='Job vacancy characteristics',y='VALUE', color='green', ax=ax)\n",
    "plt.xticks(rotation=45)\n",
    "plt.show()"
   ]
  },
  {
   "cell_type": "code",
   "execution_count": 41,
   "metadata": {},
   "outputs": [],
   "source": [
    "# Filtering Job Job vacancy characteristics\n",
    "job_vacancies = job_vacancies.loc[(job_vacancies['Job vacancy characteristics'] == 'Full-time') | \\\n",
    "                          (job_vacancies['Job vacancy characteristics'] == 'Part-time')]"
   ]
  },
  {
   "cell_type": "code",
   "execution_count": 42,
   "metadata": {},
   "outputs": [],
   "source": [
    "# Total Job_details vacancies by Date\n",
    "# total_JobDetails = job_vacancies_noc1.groupby([\"REF_DATE\",\"Job vacancy characteristics\"]).agg(total_vac=('VALUE','sum'))\n",
    "# total_JobDetails"
   ]
  },
  {
   "cell_type": "code",
   "execution_count": 43,
   "metadata": {},
   "outputs": [
    {
     "data": {
      "image/png": "[encoded data removed]",
      "text/plain": [
       "<Figure size 640x480 with 1 Axes>"
      ]
     },
     "metadata": {},
     "output_type": "display_data"
    }
   ],
   "source": [
    "# Exploring Job vacancy characteristics\n",
    "ax = plt.gca()\n",
    "job_vacancies.plot(kind='line',x='National Occupational Classification',y='VALUE', color='red', ax=ax)\n",
    "plt.xticks(rotation=45)\n",
    "plt.show()"
   ]
  },
  {
   "cell_type": "code",
   "execution_count": 44,
   "metadata": {},
   "outputs": [],
   "source": [
    "# Total NOC vacancies by Date\n",
    "# total_NOC_vacancies = job_vacancies.groupby([\"REF_DATE\",\"National Occupational Classification\"]).agg(total_vac=('VALUE','sum'))\n",
    "# total_NOC_vacancies"
   ]
  },
  {
   "cell_type": "code",
   "execution_count": 45,
   "metadata": {},
   "outputs": [],
   "source": [
    "# Filtering NOC 1 level\n",
    "inc_list = ['Business, finance and administration occupations [1]', \\\n",
    "            'Health occupations [3]', \\\n",
    "            'Management occupations [0]', 'Natural and applied sciences and related occupations [2]', \\\n",
    "            'Natural resources, agriculture and related production occupations [8]', \\\n",
    "            'Occupations in art, culture, recreation and sport [5]', \\\n",
    "            'Occupations in education, law and social, community and government services [4]', \\\n",
    "            'Occupations in manufacturing and utilities [9]', \\\n",
    "            'Sales and service occupations [6]', \\\n",
    "            'Trades, transport and equipment operators and related occupations [7]']\n",
    "job_vacancies = job_vacancies[job_vacancies['National Occupational Classification'].isin(inc_list)]"
   ]
  },
  {
   "cell_type": "code",
   "execution_count": 46,
   "metadata": {},
   "outputs": [
    {
     "data": {
      "text/plain": [
       "['Business, finance and administration occupations [1]',\n",
       " 'Health occupations [3]',\n",
       " 'Natural and applied sciences and related occupations [2]',\n",
       " 'Natural resources, agriculture and related production occupations [8]',\n",
       " 'Occupations in art, culture, recreation and sport [5]',\n",
       " 'Occupations in education, law and social, community and government services [4]',\n",
       " 'Occupations in manufacturing and utilities [9]',\n",
       " 'Sales and service occupations [6]',\n",
       " 'Trades, transport and equipment operators and related occupations [7]']"
      ]
     },
     "execution_count": 46,
     "metadata": {},
     "output_type": "execute_result"
    }
   ],
   "source": [
    "sorted(job_vacancies['National Occupational Classification'].unique().tolist())"
   ]
  },
  {
   "cell_type": "code",
   "execution_count": 47,
   "metadata": {},
   "outputs": [
    {
     "name": "stderr",
     "output_type": "stream",
     "text": [
      "C:\\Users\\sanja\\AppData\\Local\\Temp\\ipykernel_6356\\2356711685.py:1: SettingWithCopyWarning: \n",
      "A value is trying to be set on a copy of a slice from a DataFrame\n",
      "\n",
      "See the caveats in the documentation: https://pandas.pydata.org/pandas-docs/stable/user_guide/indexing.html#returning-a-view-versus-a-copy\n",
      "  job_vacancies.dropna(subset = [\"VALUE\"], inplace=True)\n"
     ]
    },
    {
     "data": {
      "text/plain": [
       "(4918, 7)"
      ]
     },
     "execution_count": 47,
     "metadata": {},
     "output_type": "execute_result"
    }
   ],
   "source": [
    "job_vacancies.dropna(subset = [\"VALUE\"], inplace=True)\n",
    "job_vacancies.shape"
   ]
  },
  {
   "cell_type": "code",
   "execution_count": 48,
   "metadata": {},
   "outputs": [
    {
     "data": {
      "text/plain": [
       "count     4918.000000\n",
       "mean      4162.777552\n",
       "std       7904.663389\n",
       "min          0.000000\n",
       "25%        330.000000\n",
       "50%       1095.000000\n",
       "75%       3583.750000\n",
       "max      75645.000000\n",
       "Name: VALUE, dtype: float64"
      ]
     },
     "execution_count": 48,
     "metadata": {},
     "output_type": "execute_result"
    }
   ],
   "source": [
    "job_vacancies.VALUE.describe()"
   ]
  },
  {
   "cell_type": "code",
   "execution_count": 49,
   "metadata": {},
   "outputs": [
    {
     "data": {},
     "metadata": {},
     "output_type": "display_data"
    },
    {
     "data": {
      "application/vnd.holoviews_exec.v0+json": "",
      "text/html": [
       "<div id='13c10f2b-1cbd-4b7c-893f-6a034e3aefd4'>\n",
       "  <div id=\"cb46e23d-b68d-447a-a3cf-009ce2b045b6\" data-root-id=\"13c10f2b-1cbd-4b7c-893f-6a034e3aefd4\" style=\"display: contents;\"></div>\n",
       "</div>\n",
       "<script type=\"application/javascript\">(function(root) {\n",
       "  var docs_json = {\"fd79913f-43d7-41eb-9c37-02675dee9895\":{\"version\":\"3.6.1\",\"title\":\"Bokeh Application\",\"roots\":[{\"type\":\"object\",\"name\":\"Row\",\"id\":\"13c10f2b-1cbd-4b7c-893f-6a034e3aefd4\",\"attributes\":{\"name\":\"Row00289\",\"tags\":[\"embedded\"],\"stylesheets\":[\"\\n:host(.pn-loading):before, .pn-loading:before {\\n  background-color: #c3c3c3;\\n  mask-size: auto calc(min(50%, 400px));\\n  -webkit-mask-size: auto calc(min(50%, 400px));\\n}\",{\"type\":\"object\",\"name\":\"ImportedStyleSheet\",\"id\":\"e73315e1-dc20-40bc-bba8-10226973854a\",\"attributes\":{\"url\":\"https://cdn.holoviz.org/panel/1.5.4/dist/css/loading.css\"}},{\"type\":\"object\",\"name\":\"ImportedStyleSheet\",\"id\":\"67a4844b-66cb-4bcc-a5c8-4492b6900f44\",\"attributes\":{\"url\":\"https://cdn.holoviz.org/panel/1.5.4/dist/css/listpanel.css\"}},{\"type\":\"object\",\"name\":\"ImportedStyleSheet\",\"id\":\"1a591b94-537c-4303-bd37-0de82b2e08e4\",\"attributes\":{\"url\":\"https://cdn.holoviz.org/panel/1.5.4/dist/bundled/theme/default.css\"}},{\"type\":\"object\",\"name\":\"ImportedStyleSheet\",\"id\":\"1fd33d5f-2c45-4711-a66c-2a6cd11ab3eb\",\"attributes\":{\"url\":\"https://cdn.holoviz.org/panel/1.5.4/dist/bundled/theme/native.css\"}}],\"min_width\":700,\"margin\":0,\"sizing_mode\":\"stretch_width\",\"align\":\"start\",\"children\":[{\"type\":\"object\",\"name\":\"Spacer\",\"id\":\"5afcdfcc-9e8e-48ba-902b-93b77a4165b5\",\"attributes\":{\"name\":\"HSpacer00293\",\"stylesheets\":[\"\\n:host(.pn-loading):before, .pn-loading:before {\\n  background-color: #c3c3c3;\\n  mask-size: auto calc(min(50%, 400px));\\n  -webkit-mask-size: auto calc(min(50%, 400px));\\n}\",{\"id\":\"e73315e1-dc20-40bc-bba8-10226973854a\"},{\"id\":\"1a591b94-537c-4303-bd37-0de82b2e08e4\"},{\"id\":\"1fd33d5f-2c45-4711-a66c-2a6cd11ab3eb\"}],\"margin\":0,\"sizing_mode\":\"stretch_width\",\"align\":\"start\"}},{\"type\":\"object\",\"name\":\"Figure\",\"id\":\"73e01d3c-f646-47d0-925f-3d2c1e6c2789\",\"attributes\":{\"width\":700,\"height\":300,\"margin\":[5,10],\"sizing_mode\":\"fixed\",\"align\":\"start\",\"x_range\":{\"type\":\"object\",\"name\":\"FactorRange\",\"id\":\"927c7cbc-9961-4959-a707-511c9191f0cd\",\"attributes\":{\"factors\":[\"\"]}},\"y_range\":{\"type\":\"object\",\"name\":\"Range1d\",\"id\":\"1b0dd426-1ec5-4371-8dfd-94a0f57ab334\",\"attributes\":{\"name\":\"VALUE\",\"tags\":[[[\"VALUE\",null]],{\"type\":\"map\",\"entries\":[[\"invert_yaxis\",false],[\"autorange\",false]]}],\"start\":-7564.5,\"end\":83209.5,\"reset_start\":-7564.5,\"reset_end\":83209.5}},\"x_scale\":{\"type\":\"object\",\"name\":\"CategoricalScale\",\"id\":\"da5da6eb-a71a-434f-8886-ec58dc9dce2f\"},\"y_scale\":{\"type\":\"object\",\"name\":\"LinearScale\",\"id\":\"8ec783b2-9d4b-477e-9a9b-576e22abe50d\"},\"title\":{\"type\":\"object\",\"name\":\"Title\",\"id\":\"ce3c4430-929c-4a16-b61b-8465c4acffcb\",\"attributes\":{\"text_color\":\"black\",\"text_font_size\":\"12pt\"}},\"renderers\":[{\"type\":\"object\",\"name\":\"GlyphRenderer\",\"id\":\"75609abd-a11f-4eb7-a57d-1102def1a8e9\",\"attributes\":{\"data_source\":{\"type\":\"object\",\"name\":\"ColumnDataSource\",\"id\":\"a968f8d4-3083-435f-bd53-a153ca677236\",\"attributes\":{\"selected\":{\"type\":\"object\",\"name\":\"Selection\",\"id\":\"60c2f06d-eb37-419b-a9ad-3ec914ad0951\",\"attributes\":{\"indices\":[],\"line_indices\":[]}},\"selection_policy\":{\"type\":\"object\",\"name\":\"UnionRenderers\",\"id\":\"0153026b-c078-40c0-8521-1fdd42b0ebd6\"},\"data\":{\"type\":\"map\",\"entries\":[[\"index\",[\"\",\"\",\"\",\"\",\"\",\"\",\"\",\"\",\"\",\"\",\"\",\"\",\"\",\"\",\"\",\"\",\"\",\"\",\"\",\"\",\"\",\"\",\"\",\"\",\"\",\"\",\"\",\"\",\"\",\"\",\"\",\"\",\"\",\"\",\"\",\"\",\"\",\"\",\"\",\"\",\"\",\"\",\"\",\"\",\"\",\"\",\"\",\"\",\"\",\"\",\"\",\"\",\"\",\"\",\"\",\"\",\"\",\"\",\"\",\"\",\"\",\"\",\"\",\"\",\"\",\"\",\"\",\"\",\"\",\"\",\"\",\"\",\"\",\"\",\"\",\"\",\"\",\"\",\"\",\"\",\"\",\"\",\"\",\"\",\"\",\"\",\"\",\"\",\"\",\"\",\"\",\"\",\"\",\"\",\"\",\"\",\"\",\"\",\"\",\"\",\"\",\"\",\"\",\"\",\"\",\"\",\"\",\"\",\"\",\"\",\"\",\"\",\"\",\"\",\"\",\"\",\"\",\"\",\"\",\"\",\"\",\"\",\"\",\"\",\"\",\"\",\"\",\"\",\"\",\"\",\"\",\"\",\"\",\"\",\"\",\"\",\"\",\"\",\"\",\"\",\"\",\"\",\"\",\"\",\"\",\"\",\"\",\"\",\"\",\"\",\"\",\"\",\"\",\"\",\"\",\"\",\"\",\"\",\"\",\"\",\"\",\"\",\"\",\"\",\"\",\"\",\"\",\"\",\"\",\"\",\"\",\"\",\"\",\"\",\"\",\"\",\"\",\"\",\"\",\"\",\"\",\"\",\"\",\"\",\"\",\"\",\"\",\"\",\"\",\"\",\"\",\"\",\"\",\"\",\"\",\"\",\"\",\"\",\"\",\"\",\"\",\"\",\"\",\"\",\"\",\"\",\"\",\"\",\"\",\"\",\"\",\"\",\"\",\"\",\"\",\"\",\"\",\"\",\"\",\"\",\"\",\"\",\"\",\"\",\"\",\"\",\"\",\"\",\"\",\"\",\"\",\"\",\"\",\"\",\"\",\"\",\"\",\"\",\"\",\"\",\"\",\"\",\"\",\"\",\"\",\"\",\"\",\"\",\"\",\"\",\"\",\"\",\"\",\"\",\"\",\"\",\"\",\"\",\"\",\"\",\"\",\"\",\"\",\"\",\"\",\"\",\"\",\"\",\"\",\"\",\"\",\"\",\"\",\"\",\"\",\"\",\"\",\"\",\"\",\"\",\"\",\"\",\"\",\"\",\"\",\"\",\"\",\"\",\"\",\"\",\"\",\"\",\"\",\"\",\"\",\"\",\"\",\"\",\"\",\"\",\"\",\"\",\"\",\"\",\"\",\"\",\"\",\"\",\"\",\"\",\"\",\"\",\"\",\"\",\"\",\"\",\"\",\"\",\"\",\"\",\"\",\"\",\"\",\"\",\"\",\"\",\"\",\"\",\"\",\"\",\"\",\"\",\"\",\"\",\"\",\"\",\"\",\"\",\"\",\"\",\"\",\"\",\"\",\"\",\"\",\"\",\"\",\"\",\"\",\"\",\"\",\"\",\"\",\"\",\"\",\"\",\"\",\"\",\"\",\"\",\"\",\"\",\"\",\"\",\"\",\"\",\"\",\"\",\"\",\"\",\"\",\"\",\"\",\"\",\"\",\"\",\"\",\"\",\"\",\"\",\"\",\"\",\"\",\"\",\"\",\"\",\"\",\"\",\"\",\"\",\"\",\"\",\"\",\"\",\"\",\"\",\"\",\"\",\"\",\"\",\"\",\"\",\"\",\"\",\"\",\"\",\"\",\"\",\"\",\"\",\"\",\"\",\"\",\"\",\"\",\"\",\"\",\"\",\"\",\"\",\"\",\"\",\"\",\"\",\"\",\"\",\"\",\"\",\"\",\"\",\"\",\"\",\"\",\"\",\"\",\"\",\"\",\"\",\"\",\"\",\"\",\"\",\"\",\"\",\"\",\"\",\"\",\"\",\"\",\"\",\"\",\"\",\"\",\"\",\"\",\"\",\"\",\"\",\"\",\"\",\"\",\"\",\"\",\"\",\"\",\"\",\"\",\"\",\"\",\"\",\"\",\"\",\"\",\"\",\"\",\"\",\"\",\"\",\"\",\"\",\"\",\"\",\"\",\"\",\"\",\"\",\"\",\"\",\"\",\"\",\"\",\"\",\"\",\"\",\"\",\"\",\"\",\"\",\"\",\"\",\"\",\"\",\"\",\"\",\"\",\"\",\"\",\"\",\"\",\"\",\"\",\"\",\"\",\"\",\"\",\"\",\"\",\"\",\"\",\"\",\"\",\"\",\"\",\"\",\"\",\"\",\"\",\"\",\"\",\"\",\"\",\"\",\"\",\"\",\"\",\"\",\"\",\"\",\"\",\"\",\"\",\"\",\"\",\"\",\"\",\"\",\"\",\"\",\"\",\"\",\"\",\"\",\"\",\"\",\"\",\"\",\"\",\"\",\"\",\"\",\"\",\"\",\"\",\"\",\"\",\"\",\"\",\"\",\"\",\"\",\"\",\"\",\"\",\"\",\"\",\"\",\"\",\"\",\"\",\"\",\"\",\"\",\"\",\"\",\"\",\"\",\"\",\"\",\"\",\"\",\"\",\"\",\"\",\"\",\"\",\"\",\"\",\"\",\"\",\"\",\"\",\"\",\"\",\"\",\"\",\"\",\"\",\"\",\"\",\"\",\"\",\"\",\"\",\"\",\"\",\"\",\"\",\"\",\"\",\"\",\"\",\"\",\"\",\"\",\"\",\"\",\"\",\"\",\"\",\"\",\"\",\"\",\"\",\"\",\"\",\"\",\"\",\"\",\"\",\"\",\"\",\"\",\"\",\"\",\"\",\"\",\"\",\"\",\"\",\"\",\"\",\"\",\"\",\"\",\"\",\"\",\"\",\"\",\"\",\"\",\"\",\"\",\"\",\"\",\"\",\"\",\"\",\"\",\"\",\"\",\"\",\"\",\"\",\"\",\"\",\"\",\"\",\"\",\"\",\"\",\"\",\"\",\"\",\"\",\"\",\"\",\"\",\"\",\"\",\"\",\"\",\"\",\"\",\"\",\"\",\"\"]],[\"VALUE\",{\"type\":\"ndarray\",\"array\":{\"type\":\"bytes\",\"data\":\"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\"},\"shape\":[696],\"dtype\":\"float64\",\"order\":\"little\"}]]}}},\"view\":{\"type\":\"object\",\"name\":\"CDSView\",\"id\":\"899dc491-daeb-49c5-8723-cee7a29e3e1b\",\"attributes\":{\"filter\":{\"type\":\"object\",\"name\":\"AllIndices\",\"id\":\"86724cb9-ee08-47f7-a1b6-957ad83779e1\"}}},\"glyph\":{\"type\":\"object\",\"name\":\"Circle\",\"id\":\"019896dd-2a84-4c78-acc0-abd436c9d12f\",\"attributes\":{\"x\":{\"type\":\"field\",\"field\":\"index\"},\"y\":{\"type\":\"field\",\"field\":\"VALUE\"},\"radius\":{\"type\":\"value\",\"value\":0.01},\"fill_color\":{\"type\":\"value\",\"value\":\"black\"}}},\"selection_glyph\":{\"type\":\"object\",\"name\":\"Circle\",\"id\":\"f0f9f142-9210-48ad-b15b-2ebf1018aca3\",\"attributes\":{\"x\":{\"type\":\"field\",\"field\":\"index\"},\"y\":{\"type\":\"field\",\"field\":\"VALUE\"},\"radius\":{\"type\":\"value\",\"value\":0.01},\"line_color\":{\"type\":\"value\",\"value\":\"black\"},\"line_alpha\":{\"type\":\"value\",\"value\":1.0},\"line_width\":{\"type\":\"value\",\"value\":1},\"line_join\":{\"type\":\"value\",\"value\":\"bevel\"},\"line_cap\":{\"type\":\"value\",\"value\":\"butt\"},\"line_dash\":{\"type\":\"value\",\"value\":[]},\"line_dash_offset\":{\"type\":\"value\",\"value\":0},\"fill_color\":{\"type\":\"value\",\"value\":\"black\"},\"fill_alpha\":{\"type\":\"value\",\"value\":1.0},\"hatch_color\":{\"type\":\"value\",\"value\":\"black\"},\"hatch_alpha\":{\"type\":\"value\",\"value\":1.0},\"hatch_scale\":{\"type\":\"value\",\"value\":12.0},\"hatch_pattern\":{\"type\":\"value\",\"value\":null},\"hatch_weight\":{\"type\":\"value\",\"value\":1.0}}},\"nonselection_glyph\":{\"type\":\"object\",\"name\":\"Circle\",\"id\":\"be87cff8-0970-4f46-bbba-68017cd00fad\",\"attributes\":{\"x\":{\"type\":\"field\",\"field\":\"index\"},\"y\":{\"type\":\"field\",\"field\":\"VALUE\"},\"radius\":{\"type\":\"value\",\"value\":0.01},\"line_alpha\":{\"type\":\"value\",\"value\":0.1},\"fill_color\":{\"type\":\"value\",\"value\":\"black\"},\"fill_alpha\":{\"type\":\"value\",\"value\":0.1},\"hatch_alpha\":{\"type\":\"value\",\"value\":0.1}}},\"muted_glyph\":{\"type\":\"object\",\"name\":\"Circle\",\"id\":\"eead0670-02c8-42ee-8674-bcff4e9dd161\",\"attributes\":{\"x\":{\"type\":\"field\",\"field\":\"index\"},\"y\":{\"type\":\"field\",\"field\":\"VALUE\"},\"radius\":{\"type\":\"value\",\"value\":0.01},\"line_alpha\":{\"type\":\"value\",\"value\":0.2},\"fill_color\":{\"type\":\"value\",\"value\":\"black\"},\"fill_alpha\":{\"type\":\"value\",\"value\":0.2},\"hatch_alpha\":{\"type\":\"value\",\"value\":0.2}}}}},{\"type\":\"object\",\"name\":\"GlyphRenderer\",\"id\":\"010466b5-24ac-4613-93dc-a117d644d13c\",\"attributes\":{\"data_source\":{\"type\":\"object\",\"name\":\"ColumnDataSource\",\"id\":\"59ba0ed2-72ca-4107-9dad-5bb3c83bfcc5\",\"attributes\":{\"selected\":{\"type\":\"object\",\"name\":\"Selection\",\"id\":\"e1860a39-5d79-4b26-8cf0-f5a09ea0db9e\",\"attributes\":{\"indices\":[],\"line_indices\":[]}},\"selection_policy\":{\"type\":\"object\",\"name\":\"UnionRenderers\",\"id\":\"193ced65-314a-447c-9d49-d5ee54033386\"},\"data\":{\"type\":\"map\",\"entries\":[[\"x0\",[\"\"]],[\"y0\",{\"type\":\"ndarray\",\"array\":{\"type\":\"bytes\",\"data\":\"AAAAAACGwEA=\"},\"shape\":[1],\"dtype\":\"float64\",\"order\":\"little\"}],[\"x1\",[\"\"]],[\"y1\",{\"type\":\"ndarray\",\"array\":{\"type\":\"bytes\",\"data\":\"AAAAAID/q0A=\"},\"shape\":[1],\"dtype\":\"float64\",\"order\":\"little\"}]]}}},\"view\":{\"type\":\"object\",\"name\":\"CDSView\",\"id\":\"200071f5-bfc3-42ee-a257-75347151f54c\",\"attributes\":{\"filter\":{\"type\":\"object\",\"name\":\"AllIndices\",\"id\":\"2ee24e41-c66a-4eac-bdad-ff33ef8597ac\"}}},\"glyph\":{\"type\":\"object\",\"name\":\"Segment\",\"id\":\"32150de2-6a5b-451d-9a8e-1d99d1898b13\",\"attributes\":{\"x0\":{\"type\":\"field\",\"field\":\"x0\"},\"y0\":{\"type\":\"field\",\"field\":\"y0\"},\"x1\":{\"type\":\"field\",\"field\":\"x1\"},\"y1\":{\"type\":\"field\",\"field\":\"y1\"}}},\"selection_glyph\":{\"type\":\"object\",\"name\":\"Segment\",\"id\":\"63fad4b5-2811-477f-ba66-ac6986b9c0bd\",\"attributes\":{\"x0\":{\"type\":\"field\",\"field\":\"x0\"},\"y0\":{\"type\":\"field\",\"field\":\"y0\"},\"x1\":{\"type\":\"field\",\"field\":\"x1\"},\"y1\":{\"type\":\"field\",\"field\":\"y1\"},\"line_color\":{\"type\":\"value\",\"value\":\"black\"},\"line_alpha\":{\"type\":\"value\",\"value\":1.0},\"line_width\":{\"type\":\"value\",\"value\":1},\"line_join\":{\"type\":\"value\",\"value\":\"bevel\"},\"line_cap\":{\"type\":\"value\",\"value\":\"butt\"},\"line_dash\":{\"type\":\"value\",\"value\":[]},\"line_dash_offset\":{\"type\":\"value\",\"value\":0}}},\"nonselection_glyph\":{\"type\":\"object\",\"name\":\"Segment\",\"id\":\"6fe493b3-09e2-4634-b2c7-a50316f80f84\",\"attributes\":{\"x0\":{\"type\":\"field\",\"field\":\"x0\"},\"y0\":{\"type\":\"field\",\"field\":\"y0\"},\"x1\":{\"type\":\"field\",\"field\":\"x1\"},\"y1\":{\"type\":\"field\",\"field\":\"y1\"},\"line_alpha\":{\"type\":\"value\",\"value\":0.1}}},\"muted_glyph\":{\"type\":\"object\",\"name\":\"Segment\",\"id\":\"55281084-75a6-4333-88b7-91139843f9cb\",\"attributes\":{\"x0\":{\"type\":\"field\",\"field\":\"x0\"},\"y0\":{\"type\":\"field\",\"field\":\"y0\"},\"x1\":{\"type\":\"field\",\"field\":\"x1\"},\"y1\":{\"type\":\"field\",\"field\":\"y1\"},\"line_alpha\":{\"type\":\"value\",\"value\":0.2}}}}},{\"type\":\"object\",\"name\":\"GlyphRenderer\",\"id\":\"e9a3675b-eea6-4093-83f9-a398b4f419ba\",\"attributes\":{\"data_source\":{\"type\":\"object\",\"name\":\"ColumnDataSource\",\"id\":\"de789d80-13f7-4fb2-aa65-36753fad1bbf\",\"attributes\":{\"selected\":{\"type\":\"object\",\"name\":\"Selection\",\"id\":\"249762a7-8fb9-4a45-b4ad-971275ca6775\",\"attributes\":{\"indices\":[],\"line_indices\":[]}},\"selection_policy\":{\"type\":\"object\",\"name\":\"UnionRenderers\",\"id\":\"5b34cfdc-2466-4b22-83d6-7887ce4009da\"},\"data\":{\"type\":\"map\",\"entries\":[[\"x0\",[\"\"]],[\"y0\",{\"type\":\"ndarray\",\"array\":{\"type\":\"bytes\",\"data\":\"AAAAAAAAAAA=\"},\"shape\":[1],\"dtype\":\"float64\",\"order\":\"little\"}],[\"x1\",[\"\"]],[\"y1\",{\"type\":\"ndarray\",\"array\":{\"type\":\"bytes\",\"data\":\"AAAAAACgdEA=\"},\"shape\":[1],\"dtype\":\"float64\",\"order\":\"little\"}]]}}},\"view\":{\"type\":\"object\",\"name\":\"CDSView\",\"id\":\"d24b6d55-e5f4-479e-95c0-579427a4f434\",\"attributes\":{\"filter\":{\"type\":\"object\",\"name\":\"AllIndices\",\"id\":\"814acccc-0cbe-4561-bc1c-442feee445e7\"}}},\"glyph\":{\"type\":\"object\",\"name\":\"Segment\",\"id\":\"b8ffbd1d-2881-4424-a72b-ab63109134db\",\"attributes\":{\"x0\":{\"type\":\"field\",\"field\":\"x0\"},\"y0\":{\"type\":\"field\",\"field\":\"y0\"},\"x1\":{\"type\":\"field\",\"field\":\"x1\"},\"y1\":{\"type\":\"field\",\"field\":\"y1\"}}},\"selection_glyph\":{\"type\":\"object\",\"name\":\"Segment\",\"id\":\"2b1d3c16-eabc-4158-8ed4-c6d523c7da88\",\"attributes\":{\"x0\":{\"type\":\"field\",\"field\":\"x0\"},\"y0\":{\"type\":\"field\",\"field\":\"y0\"},\"x1\":{\"type\":\"field\",\"field\":\"x1\"},\"y1\":{\"type\":\"field\",\"field\":\"y1\"},\"line_color\":{\"type\":\"value\",\"value\":\"black\"},\"line_alpha\":{\"type\":\"value\",\"value\":1.0},\"line_width\":{\"type\":\"value\",\"value\":1},\"line_join\":{\"type\":\"value\",\"value\":\"bevel\"},\"line_cap\":{\"type\":\"value\",\"value\":\"butt\"},\"line_dash\":{\"type\":\"value\",\"value\":[]},\"line_dash_offset\":{\"type\":\"value\",\"value\":0}}},\"nonselection_glyph\":{\"type\":\"object\",\"name\":\"Segment\",\"id\":\"0d3ec416-613d-4d19-9f45-c9cd3f45cd38\",\"attributes\":{\"x0\":{\"type\":\"field\",\"field\":\"x0\"},\"y0\":{\"type\":\"field\",\"field\":\"y0\"},\"x1\":{\"type\":\"field\",\"field\":\"x1\"},\"y1\":{\"type\":\"field\",\"field\":\"y1\"},\"line_alpha\":{\"type\":\"value\",\"value\":0.1}}},\"muted_glyph\":{\"type\":\"object\",\"name\":\"Segment\",\"id\":\"0d120317-80ca-4c6a-bc74-4640d9640a36\",\"attributes\":{\"x0\":{\"type\":\"field\",\"field\":\"x0\"},\"y0\":{\"type\":\"field\",\"field\":\"y0\"},\"x1\":{\"type\":\"field\",\"field\":\"x1\"},\"y1\":{\"type\":\"field\",\"field\":\"y1\"},\"line_alpha\":{\"type\":\"value\",\"value\":0.2}}}}},{\"type\":\"object\",\"name\":\"GlyphRenderer\",\"id\":\"5891b9f2-6c40-469c-94c3-9f85f4d7e25b\",\"attributes\":{\"data_source\":{\"type\":\"object\",\"name\":\"ColumnDataSource\",\"id\":\"0c17cb2e-bdc1-48cc-818f-e4b0ac23008a\",\"attributes\":{\"selected\":{\"type\":\"object\",\"name\":\"Selection\",\"id\":\"422f6700-8313-487e-8d08-6f197fd2068b\",\"attributes\":{\"indices\":[],\"line_indices\":[]}},\"selection_policy\":{\"type\":\"object\",\"name\":\"UnionRenderers\",\"id\":\"8d8499da-ee9e-4b71-b206-908c329e3a92\"},\"data\":{\"type\":\"map\",\"entries\":[[\"x0\",[[\"\",-0.2]]],[\"y0\",[0.0]],[\"x1\",[[\"\",0.2]]],[\"y1\",[0.0]]]}}},\"view\":{\"type\":\"object\",\"name\":\"CDSView\",\"id\":\"b4e8b74f-c490-4a16-a895-f536ce98fe6b\",\"attributes\":{\"filter\":{\"type\":\"object\",\"name\":\"AllIndices\",\"id\":\"2afbe606-6a04-41e4-aaa0-f243c6d35d19\"}}},\"glyph\":{\"type\":\"object\",\"name\":\"Segment\",\"id\":\"f2e17761-73b0-4c08-a19f-40655f6923de\",\"attributes\":{\"x0\":{\"type\":\"field\",\"field\":\"x0\"},\"y0\":{\"type\":\"field\",\"field\":\"y0\"},\"x1\":{\"type\":\"field\",\"field\":\"x1\"},\"y1\":{\"type\":\"field\",\"field\":\"y1\"}}},\"selection_glyph\":{\"type\":\"object\",\"name\":\"Segment\",\"id\":\"3b17f5bb-8481-4e85-855f-31e69527e730\",\"attributes\":{\"x0\":{\"type\":\"field\",\"field\":\"x0\"},\"y0\":{\"type\":\"field\",\"field\":\"y0\"},\"x1\":{\"type\":\"field\",\"field\":\"x1\"},\"y1\":{\"type\":\"field\",\"field\":\"y1\"},\"line_color\":{\"type\":\"value\",\"value\":\"black\"},\"line_alpha\":{\"type\":\"value\",\"value\":1.0},\"line_width\":{\"type\":\"value\",\"value\":1},\"line_join\":{\"type\":\"value\",\"value\":\"bevel\"},\"line_cap\":{\"type\":\"value\",\"value\":\"butt\"},\"line_dash\":{\"type\":\"value\",\"value\":[]},\"line_dash_offset\":{\"type\":\"value\",\"value\":0}}},\"nonselection_glyph\":{\"type\":\"object\",\"name\":\"Segment\",\"id\":\"0c5b0936-8130-4156-8c33-31934a8717ab\",\"attributes\":{\"x0\":{\"type\":\"field\",\"field\":\"x0\"},\"y0\":{\"type\":\"field\",\"field\":\"y0\"},\"x1\":{\"type\":\"field\",\"field\":\"x1\"},\"y1\":{\"type\":\"field\",\"field\":\"y1\"},\"line_alpha\":{\"type\":\"value\",\"value\":0.1}}},\"muted_glyph\":{\"type\":\"object\",\"name\":\"Segment\",\"id\":\"dc7ee966-40c7-4ee4-b7c1-6f0e1f245726\",\"attributes\":{\"x0\":{\"type\":\"field\",\"field\":\"x0\"},\"y0\":{\"type\":\"field\",\"field\":\"y0\"},\"x1\":{\"type\":\"field\",\"field\":\"x1\"},\"y1\":{\"type\":\"field\",\"field\":\"y1\"},\"line_alpha\":{\"type\":\"value\",\"value\":0.2}}}}},{\"type\":\"object\",\"name\":\"GlyphRenderer\",\"id\":\"ecdd0c16-aada-4d68-8739-794f2f70b139\",\"attributes\":{\"data_source\":{\"type\":\"object\",\"name\":\"ColumnDataSource\",\"id\":\"685c95d6-3e67-4863-a3b4-0b9f05f7e77b\",\"attributes\":{\"selected\":{\"type\":\"object\",\"name\":\"Selection\",\"id\":\"0bc4592c-d8b0-4c98-b147-36768b15e7f0\",\"attributes\":{\"indices\":[],\"line_indices\":[]}},\"selection_policy\":{\"type\":\"object\",\"name\":\"UnionRenderers\",\"id\":\"5c059a60-fb22-41ea-a6e9-312c8c918089\"},\"data\":{\"type\":\"map\",\"entries\":[[\"x0\",[[\"\",-0.2]]],[\"y0\",[8460.0]],[\"x1\",[[\"\",0.2]]],[\"y1\",[8460.0]]]}}},\"view\":{\"type\":\"object\",\"name\":\"CDSView\",\"id\":\"2b3c8eed-7167-41a0-9744-d9cb7bfd9062\",\"attributes\":{\"filter\":{\"type\":\"object\",\"name\":\"AllIndices\",\"id\":\"1f1dfe09-1a5f-4905-838d-34238aade64f\"}}},\"glyph\":{\"type\":\"object\",\"name\":\"Segment\",\"id\":\"72210d8d-8390-4a64-a1e2-d8d5061680e1\",\"attributes\":{\"x0\":{\"type\":\"field\",\"field\":\"x0\"},\"y0\":{\"type\":\"field\",\"field\":\"y0\"},\"x1\":{\"type\":\"field\",\"field\":\"x1\"},\"y1\":{\"type\":\"field\",\"field\":\"y1\"}}},\"selection_glyph\":{\"type\":\"object\",\"name\":\"Segment\",\"id\":\"ca19db31-8bb2-429d-963c-1b93ee6f7868\",\"attributes\":{\"x0\":{\"type\":\"field\",\"field\":\"x0\"},\"y0\":{\"type\":\"field\",\"field\":\"y0\"},\"x1\":{\"type\":\"field\",\"field\":\"x1\"},\"y1\":{\"type\":\"field\",\"field\":\"y1\"},\"line_color\":{\"type\":\"value\",\"value\":\"black\"},\"line_alpha\":{\"type\":\"value\",\"value\":1.0},\"line_width\":{\"type\":\"value\",\"value\":1},\"line_join\":{\"type\":\"value\",\"value\":\"bevel\"},\"line_cap\":{\"type\":\"value\",\"value\":\"butt\"},\"line_dash\":{\"type\":\"value\",\"value\":[]},\"line_dash_offset\":{\"type\":\"value\",\"value\":0}}},\"nonselection_glyph\":{\"type\":\"object\",\"name\":\"Segment\",\"id\":\"a6c9eb07-71b0-42d3-91b2-d5031be21cff\",\"attributes\":{\"x0\":{\"type\":\"field\",\"field\":\"x0\"},\"y0\":{\"type\":\"field\",\"field\":\"y0\"},\"x1\":{\"type\":\"field\",\"field\":\"x1\"},\"y1\":{\"type\":\"field\",\"field\":\"y1\"},\"line_alpha\":{\"type\":\"value\",\"value\":0.1}}},\"muted_glyph\":{\"type\":\"object\",\"name\":\"Segment\",\"id\":\"280ded60-bfc9-4eef-a7b7-efa53bce2344\",\"attributes\":{\"x0\":{\"type\":\"field\",\"field\":\"x0\"},\"y0\":{\"type\":\"field\",\"field\":\"y0\"},\"x1\":{\"type\":\"field\",\"field\":\"x1\"},\"y1\":{\"type\":\"field\",\"field\":\"y1\"},\"line_alpha\":{\"type\":\"value\",\"value\":0.2}}}}},{\"type\":\"object\",\"name\":\"GlyphRenderer\",\"id\":\"7d472207-cac3-4eb9-84d9-78ca128ba838\",\"attributes\":{\"data_source\":{\"type\":\"object\",\"name\":\"ColumnDataSource\",\"id\":\"73be3746-691d-4b7c-b92c-e94b595e49bb\",\"attributes\":{\"selected\":{\"type\":\"object\",\"name\":\"Selection\",\"id\":\"c194db2a-5980-4bd3-a9dd-b5b3e0c211f4\",\"attributes\":{\"indices\":[],\"line_indices\":[]}},\"selection_policy\":{\"type\":\"object\",\"name\":\"UnionRenderers\",\"id\":\"6b03ed9a-7c0e-4456-a4e5-5682657a6374\"},\"data\":{\"type\":\"map\",\"entries\":[[\"index\",[\"\"]],[\"top\",{\"type\":\"ndarray\",\"array\":{\"type\":\"bytes\",\"data\":\"AAAAAAAckUA=\"},\"shape\":[1],\"dtype\":\"float64\",\"order\":\"little\"}],[\"bottom\",{\"type\":\"ndarray\",\"array\":{\"type\":\"bytes\",\"data\":\"AAAAAID/q0A=\"},\"shape\":[1],\"dtype\":\"float64\",\"order\":\"little\"}]]}}},\"view\":{\"type\":\"object\",\"name\":\"CDSView\",\"id\":\"a5a18212-6193-4592-adb7-7ad024de6b81\",\"attributes\":{\"filter\":{\"type\":\"object\",\"name\":\"AllIndices\",\"id\":\"32b4a849-d90a-40d4-b6b6-050815e3a9dd\"}}},\"glyph\":{\"type\":\"object\",\"name\":\"VBar\",\"id\":\"1e06605f-d359-465c-a462-5e621a37aee4\",\"attributes\":{\"x\":{\"type\":\"field\",\"field\":\"index\"},\"width\":{\"type\":\"value\",\"value\":0.7},\"bottom\":{\"type\":\"field\",\"field\":\"bottom\"},\"top\":{\"type\":\"field\",\"field\":\"top\"},\"fill_color\":{\"type\":\"value\",\"value\":\"#30a2da\"}}},\"selection_glyph\":{\"type\":\"object\",\"name\":\"VBar\",\"id\":\"095411ca-2c62-45ac-b8dd-5cfb80654537\",\"attributes\":{\"x\":{\"type\":\"field\",\"field\":\"index\"},\"width\":{\"type\":\"value\",\"value\":0.7},\"bottom\":{\"type\":\"field\",\"field\":\"bottom\"},\"top\":{\"type\":\"field\",\"field\":\"top\"},\"line_color\":{\"type\":\"value\",\"value\":\"black\"},\"line_alpha\":{\"type\":\"value\",\"value\":1.0},\"line_width\":{\"type\":\"value\",\"value\":1},\"line_join\":{\"type\":\"value\",\"value\":\"bevel\"},\"line_cap\":{\"type\":\"value\",\"value\":\"butt\"},\"line_dash\":{\"type\":\"value\",\"value\":[]},\"line_dash_offset\":{\"type\":\"value\",\"value\":0},\"fill_color\":{\"type\":\"value\",\"value\":\"#30a2da\"},\"fill_alpha\":{\"type\":\"value\",\"value\":1.0},\"hatch_color\":{\"type\":\"value\",\"value\":\"black\"},\"hatch_alpha\":{\"type\":\"value\",\"value\":1.0},\"hatch_scale\":{\"type\":\"value\",\"value\":12.0},\"hatch_pattern\":{\"type\":\"value\",\"value\":null},\"hatch_weight\":{\"type\":\"value\",\"value\":1.0}}},\"nonselection_glyph\":{\"type\":\"object\",\"name\":\"VBar\",\"id\":\"af62a3d1-6b3d-43aa-a8bc-8ed2f6de649d\",\"attributes\":{\"x\":{\"type\":\"field\",\"field\":\"index\"},\"width\":{\"type\":\"value\",\"value\":0.7},\"bottom\":{\"type\":\"field\",\"field\":\"bottom\"},\"top\":{\"type\":\"field\",\"field\":\"top\"},\"line_alpha\":{\"type\":\"value\",\"value\":0.1},\"fill_color\":{\"type\":\"value\",\"value\":\"#30a2da\"},\"fill_alpha\":{\"type\":\"value\",\"value\":0.1},\"hatch_alpha\":{\"type\":\"value\",\"value\":0.1}}},\"muted_glyph\":{\"type\":\"object\",\"name\":\"VBar\",\"id\":\"ed55c316-058b-42cf-9de4-92ee4123314a\",\"attributes\":{\"x\":{\"type\":\"field\",\"field\":\"index\"},\"width\":{\"type\":\"value\",\"value\":0.7},\"bottom\":{\"type\":\"field\",\"field\":\"bottom\"},\"top\":{\"type\":\"field\",\"field\":\"top\"},\"line_alpha\":{\"type\":\"value\",\"value\":0.2},\"fill_color\":{\"type\":\"value\",\"value\":\"#30a2da\"},\"fill_alpha\":{\"type\":\"value\",\"value\":0.2},\"hatch_alpha\":{\"type\":\"value\",\"value\":0.2}}}}},{\"type\":\"object\",\"name\":\"GlyphRenderer\",\"id\":\"74dd8ad9-33a5-489e-92fd-c4ccc5d15477\",\"attributes\":{\"data_source\":{\"type\":\"object\",\"name\":\"ColumnDataSource\",\"id\":\"64ba6ab8-5527-4b56-b7ae-3d77c83904d5\",\"attributes\":{\"selected\":{\"type\":\"object\",\"name\":\"Selection\",\"id\":\"9357b5a1-2f79-46f1-9076-fb886ca08209\",\"attributes\":{\"indices\":[],\"line_indices\":[]}},\"selection_policy\":{\"type\":\"object\",\"name\":\"UnionRenderers\",\"id\":\"a3ba0841-bbe8-4060-8394-7f136a2ebbb5\"},\"data\":{\"type\":\"map\",\"entries\":[[\"index\",[\"\"]],[\"top\",{\"type\":\"ndarray\",\"array\":{\"type\":\"bytes\",\"data\":\"AAAAAACgdEA=\"},\"shape\":[1],\"dtype\":\"float64\",\"order\":\"little\"}],[\"bottom\",{\"type\":\"ndarray\",\"array\":{\"type\":\"bytes\",\"data\":\"AAAAAAAckUA=\"},\"shape\":[1],\"dtype\":\"float64\",\"order\":\"little\"}]]}}},\"view\":{\"type\":\"object\",\"name\":\"CDSView\",\"id\":\"49a49b58-c04a-4c6f-864b-876ece090d8a\",\"attributes\":{\"filter\":{\"type\":\"object\",\"name\":\"AllIndices\",\"id\":\"dadb1911-a8f4-4d3e-bb33-e02f64ddf5ed\"}}},\"glyph\":{\"type\":\"object\",\"name\":\"VBar\",\"id\":\"e784e2b0-3555-485e-921b-020f2de58d44\",\"attributes\":{\"x\":{\"type\":\"field\",\"field\":\"index\"},\"width\":{\"type\":\"value\",\"value\":0.7},\"bottom\":{\"type\":\"field\",\"field\":\"bottom\"},\"top\":{\"type\":\"field\",\"field\":\"top\"},\"fill_color\":{\"type\":\"value\",\"value\":\"#30a2da\"}}},\"selection_glyph\":{\"type\":\"object\",\"name\":\"VBar\",\"id\":\"768d26df-5618-4a32-93d1-9ec895056ac0\",\"attributes\":{\"x\":{\"type\":\"field\",\"field\":\"index\"},\"width\":{\"type\":\"value\",\"value\":0.7},\"bottom\":{\"type\":\"field\",\"field\":\"bottom\"},\"top\":{\"type\":\"field\",\"field\":\"top\"},\"line_color\":{\"type\":\"value\",\"value\":\"black\"},\"line_alpha\":{\"type\":\"value\",\"value\":1.0},\"line_width\":{\"type\":\"value\",\"value\":1},\"line_join\":{\"type\":\"value\",\"value\":\"bevel\"},\"line_cap\":{\"type\":\"value\",\"value\":\"butt\"},\"line_dash\":{\"type\":\"value\",\"value\":[]},\"line_dash_offset\":{\"type\":\"value\",\"value\":0},\"fill_color\":{\"type\":\"value\",\"value\":\"#30a2da\"},\"fill_alpha\":{\"type\":\"value\",\"value\":1.0},\"hatch_color\":{\"type\":\"value\",\"value\":\"black\"},\"hatch_alpha\":{\"type\":\"value\",\"value\":1.0},\"hatch_scale\":{\"type\":\"value\",\"value\":12.0},\"hatch_pattern\":{\"type\":\"value\",\"value\":null},\"hatch_weight\":{\"type\":\"value\",\"value\":1.0}}},\"nonselection_glyph\":{\"type\":\"object\",\"name\":\"VBar\",\"id\":\"e83a9cf7-529c-44aa-bbc1-c9b89daa64a1\",\"attributes\":{\"x\":{\"type\":\"field\",\"field\":\"index\"},\"width\":{\"type\":\"value\",\"value\":0.7},\"bottom\":{\"type\":\"field\",\"field\":\"bottom\"},\"top\":{\"type\":\"field\",\"field\":\"top\"},\"line_alpha\":{\"type\":\"value\",\"value\":0.1},\"fill_color\":{\"type\":\"value\",\"value\":\"#30a2da\"},\"fill_alpha\":{\"type\":\"value\",\"value\":0.1},\"hatch_alpha\":{\"type\":\"value\",\"value\":0.1}}},\"muted_glyph\":{\"type\":\"object\",\"name\":\"VBar\",\"id\":\"3681fe68-a5ae-46d7-920f-eedfd7970263\",\"attributes\":{\"x\":{\"type\":\"field\",\"field\":\"index\"},\"width\":{\"type\":\"value\",\"value\":0.7},\"bottom\":{\"type\":\"field\",\"field\":\"bottom\"},\"top\":{\"type\":\"field\",\"field\":\"top\"},\"line_alpha\":{\"type\":\"value\",\"value\":0.2},\"fill_color\":{\"type\":\"value\",\"value\":\"#30a2da\"},\"fill_alpha\":{\"type\":\"value\",\"value\":0.2},\"hatch_alpha\":{\"type\":\"value\",\"value\":0.2}}}}}],\"toolbar\":{\"type\":\"object\",\"name\":\"Toolbar\",\"id\":\"be5082dd-baf3-4086-840f-a2b94dce4f3d\",\"attributes\":{\"tools\":[{\"type\":\"object\",\"name\":\"WheelZoomTool\",\"id\":\"4cd32823-365e-4ecc-9b29-81b28664d55a\",\"attributes\":{\"tags\":[\"hv_created\"],\"renderers\":\"auto\",\"zoom_together\":\"none\"}},{\"type\":\"object\",\"name\":\"SaveTool\",\"id\":\"0c720254-7d72-4c4e-aab6-3c5a792baea0\"},{\"type\":\"object\",\"name\":\"PanTool\",\"id\":\"9c873fb9-ddad-4ee3-be9c-10e028a099c8\"},{\"type\":\"object\",\"name\":\"BoxZoomTool\",\"id\":\"4acce1ff-0ff3-43b8-bbd2-0c26b7d409b0\",\"attributes\":{\"overlay\":{\"type\":\"object\",\"name\":\"BoxAnnotation\",\"id\":\"7fd42bda-dd0a-4a3e-9640-24920ec41e00\",\"attributes\":{\"syncable\":false,\"line_color\":\"black\",\"line_alpha\":1.0,\"line_width\":2,\"line_dash\":[4,4],\"fill_color\":\"lightgrey\",\"fill_alpha\":0.5,\"level\":\"overlay\",\"visible\":false,\"left\":{\"type\":\"number\",\"value\":\"nan\"},\"right\":{\"type\":\"number\",\"value\":\"nan\"},\"top\":{\"type\":\"number\",\"value\":\"nan\"},\"bottom\":{\"type\":\"number\",\"value\":\"nan\"},\"left_units\":\"canvas\",\"right_units\":\"canvas\",\"top_units\":\"canvas\",\"bottom_units\":\"canvas\",\"handles\":{\"type\":\"object\",\"name\":\"BoxInteractionHandles\",\"id\":\"a71bf933-b27b-4d54-b081-0151af06fd8f\",\"attributes\":{\"all\":{\"type\":\"object\",\"name\":\"AreaVisuals\",\"id\":\"092a04f6-1069-4d8e-837d-2100b7e8ea0e\",\"attributes\":{\"fill_color\":\"white\",\"hover_fill_color\":\"lightgray\"}}}}}}}},{\"type\":\"object\",\"name\":\"ResetTool\",\"id\":\"a12882f4-27e4-4722-bb90-c12e582e547f\"}],\"active_drag\":{\"id\":\"9c873fb9-ddad-4ee3-be9c-10e028a099c8\"},\"active_scroll\":{\"id\":\"4cd32823-365e-4ecc-9b29-81b28664d55a\"}}},\"left\":[{\"type\":\"object\",\"name\":\"LinearAxis\",\"id\":\"edb80ac0-751f-47cc-87ad-fe83a71d24b8\",\"attributes\":{\"ticker\":{\"type\":\"object\",\"name\":\"BasicTicker\",\"id\":\"271aa9d2-cf79-4a16-8c69-e2b8aa9acee3\",\"attributes\":{\"mantissas\":[1,2,5]}},\"formatter\":{\"type\":\"object\",\"name\":\"BasicTickFormatter\",\"id\":\"91c7e2e9-e61d-4311-8cc5-ab6d80c00629\"},\"axis_label\":\"VALUE\",\"major_label_policy\":{\"type\":\"object\",\"name\":\"AllLabels\",\"id\":\"c7c6ba8e-5705-470e-9d16-c03f5cd9a90e\"}}}],\"below\":[{\"type\":\"object\",\"name\":\"CategoricalAxis\",\"id\":\"be42fa7a-c208-4eb6-9c0d-45794282a36b\",\"attributes\":{\"ticker\":{\"type\":\"object\",\"name\":\"CategoricalTicker\",\"id\":\"8fc6fae4-09ff-4ebd-ae11-b73058d88c3f\"},\"formatter\":{\"type\":\"object\",\"name\":\"CategoricalTickFormatter\",\"id\":\"7bda4142-0c9c-46e4-b359-785a043f20c6\"},\"axis_label\":\"\",\"major_label_policy\":{\"type\":\"object\",\"name\":\"AllLabels\",\"id\":\"a576b387-04c7-4317-84e2-c286cf0e5c00\"}}}],\"center\":[{\"type\":\"object\",\"name\":\"Grid\",\"id\":\"da24d75e-3dff-4149-ab26-42c339d02db7\",\"attributes\":{\"axis\":{\"id\":\"be42fa7a-c208-4eb6-9c0d-45794282a36b\"},\"grid_line_color\":null}},{\"type\":\"object\",\"name\":\"Grid\",\"id\":\"2a6be4b5-6993-432b-863d-19773000bae2\",\"attributes\":{\"dimension\":1,\"axis\":{\"id\":\"edb80ac0-751f-47cc-87ad-fe83a71d24b8\"},\"grid_line_color\":null}}],\"min_border_top\":10,\"min_border_bottom\":10,\"min_border_left\":10,\"min_border_right\":10,\"output_backend\":\"webgl\"}},{\"type\":\"object\",\"name\":\"Spacer\",\"id\":\"c879bf87-d59c-4474-906c-3135fe64659c\",\"attributes\":{\"name\":\"HSpacer00294\",\"stylesheets\":[\"\\n:host(.pn-loading):before, .pn-loading:before {\\n  background-color: #c3c3c3;\\n  mask-size: auto calc(min(50%, 400px));\\n  -webkit-mask-size: auto calc(min(50%, 400px));\\n}\",{\"id\":\"e73315e1-dc20-40bc-bba8-10226973854a\"},{\"id\":\"1a591b94-537c-4303-bd37-0de82b2e08e4\"},{\"id\":\"1fd33d5f-2c45-4711-a66c-2a6cd11ab3eb\"}],\"margin\":0,\"sizing_mode\":\"stretch_width\",\"align\":\"start\"}}]}}],\"defs\":[{\"type\":\"model\",\"name\":\"ReactiveHTML1\"},{\"type\":\"model\",\"name\":\"FlexBox1\",\"properties\":[{\"name\":\"align_content\",\"kind\":\"Any\",\"default\":\"flex-start\"},{\"name\":\"align_items\",\"kind\":\"Any\",\"default\":\"flex-start\"},{\"name\":\"flex_direction\",\"kind\":\"Any\",\"default\":\"row\"},{\"name\":\"flex_wrap\",\"kind\":\"Any\",\"default\":\"wrap\"},{\"name\":\"gap\",\"kind\":\"Any\",\"default\":\"\"},{\"name\":\"justify_content\",\"kind\":\"Any\",\"default\":\"flex-start\"}]},{\"type\":\"model\",\"name\":\"FloatPanel1\",\"properties\":[{\"name\":\"config\",\"kind\":\"Any\",\"default\":{\"type\":\"map\"}},{\"name\":\"contained\",\"kind\":\"Any\",\"default\":true},{\"name\":\"position\",\"kind\":\"Any\",\"default\":\"right-top\"},{\"name\":\"offsetx\",\"kind\":\"Any\",\"default\":null},{\"name\":\"offsety\",\"kind\":\"Any\",\"default\":null},{\"name\":\"theme\",\"kind\":\"Any\",\"default\":\"primary\"},{\"name\":\"status\",\"kind\":\"Any\",\"default\":\"normalized\"}]},{\"type\":\"model\",\"name\":\"GridStack1\",\"properties\":[{\"name\":\"mode\",\"kind\":\"Any\",\"default\":\"warn\"},{\"name\":\"ncols\",\"kind\":\"Any\",\"default\":null},{\"name\":\"nrows\",\"kind\":\"Any\",\"default\":null},{\"name\":\"allow_resize\",\"kind\":\"Any\",\"default\":true},{\"name\":\"allow_drag\",\"kind\":\"Any\",\"default\":true},{\"name\":\"state\",\"kind\":\"Any\",\"default\":[]}]},{\"type\":\"model\",\"name\":\"drag1\",\"properties\":[{\"name\":\"slider_width\",\"kind\":\"Any\",\"default\":5},{\"name\":\"slider_color\",\"kind\":\"Any\",\"default\":\"black\"},{\"name\":\"value\",\"kind\":\"Any\",\"default\":50}]},{\"type\":\"model\",\"name\":\"click1\",\"properties\":[{\"name\":\"terminal_output\",\"kind\":\"Any\",\"default\":\"\"},{\"name\":\"debug_name\",\"kind\":\"Any\",\"default\":\"\"},{\"name\":\"clears\",\"kind\":\"Any\",\"default\":0}]},{\"type\":\"model\",\"name\":\"FastWrapper1\",\"properties\":[{\"name\":\"object\",\"kind\":\"Any\",\"default\":null},{\"name\":\"style\",\"kind\":\"Any\",\"default\":null}]},{\"type\":\"model\",\"name\":\"NotificationAreaBase1\",\"properties\":[{\"name\":\"js_events\",\"kind\":\"Any\",\"default\":{\"type\":\"map\"}},{\"name\":\"position\",\"kind\":\"Any\",\"default\":\"bottom-right\"},{\"name\":\"_clear\",\"kind\":\"Any\",\"default\":0}]},{\"type\":\"model\",\"name\":\"NotificationArea1\",\"properties\":[{\"name\":\"js_events\",\"kind\":\"Any\",\"default\":{\"type\":\"map\"}},{\"name\":\"notifications\",\"kind\":\"Any\",\"default\":[]},{\"name\":\"position\",\"kind\":\"Any\",\"default\":\"bottom-right\"},{\"name\":\"_clear\",\"kind\":\"Any\",\"default\":0},{\"name\":\"types\",\"kind\":\"Any\",\"default\":[{\"type\":\"map\",\"entries\":[[\"type\",\"warning\"],[\"background\",\"#ffc107\"],[\"icon\",{\"type\":\"map\",\"entries\":[[\"className\",\"fas fa-exclamation-triangle\"],[\"tagName\",\"i\"],[\"color\",\"white\"]]}]]},{\"type\":\"map\",\"entries\":[[\"type\",\"info\"],[\"background\",\"#007bff\"],[\"icon\",{\"type\":\"map\",\"entries\":[[\"className\",\"fas fa-info-circle\"],[\"tagName\",\"i\"],[\"color\",\"white\"]]}]]}]}]},{\"type\":\"model\",\"name\":\"Notification\",\"properties\":[{\"name\":\"background\",\"kind\":\"Any\",\"default\":null},{\"name\":\"duration\",\"kind\":\"Any\",\"default\":3000},{\"name\":\"icon\",\"kind\":\"Any\",\"default\":null},{\"name\":\"message\",\"kind\":\"Any\",\"default\":\"\"},{\"name\":\"notification_type\",\"kind\":\"Any\",\"default\":null},{\"name\":\"_destroyed\",\"kind\":\"Any\",\"default\":false}]},{\"type\":\"model\",\"name\":\"TemplateActions1\",\"properties\":[{\"name\":\"open_modal\",\"kind\":\"Any\",\"default\":0},{\"name\":\"close_modal\",\"kind\":\"Any\",\"default\":0}]},{\"type\":\"model\",\"name\":\"BootstrapTemplateActions1\",\"properties\":[{\"name\":\"open_modal\",\"kind\":\"Any\",\"default\":0},{\"name\":\"close_modal\",\"kind\":\"Any\",\"default\":0}]},{\"type\":\"model\",\"name\":\"TemplateEditor1\",\"properties\":[{\"name\":\"layout\",\"kind\":\"Any\",\"default\":[]}]},{\"type\":\"model\",\"name\":\"MaterialTemplateActions1\",\"properties\":[{\"name\":\"open_modal\",\"kind\":\"Any\",\"default\":0},{\"name\":\"close_modal\",\"kind\":\"Any\",\"default\":0}]},{\"type\":\"model\",\"name\":\"ReactiveESM1\",\"properties\":[{\"name\":\"esm_constants\",\"kind\":\"Any\",\"default\":{\"type\":\"map\"}}]},{\"type\":\"model\",\"name\":\"JSComponent1\",\"properties\":[{\"name\":\"esm_constants\",\"kind\":\"Any\",\"default\":{\"type\":\"map\"}}]},{\"type\":\"model\",\"name\":\"ReactComponent1\",\"properties\":[{\"name\":\"esm_constants\",\"kind\":\"Any\",\"default\":{\"type\":\"map\"}}]},{\"type\":\"model\",\"name\":\"AnyWidgetComponent1\",\"properties\":[{\"name\":\"esm_constants\",\"kind\":\"Any\",\"default\":{\"type\":\"map\"}}]},{\"type\":\"model\",\"name\":\"request_value1\",\"properties\":[{\"name\":\"fill\",\"kind\":\"Any\",\"default\":\"none\"},{\"name\":\"_synced\",\"kind\":\"Any\",\"default\":null},{\"name\":\"_request_sync\",\"kind\":\"Any\",\"default\":0}]}]}};\n",
       "  var render_items = [{\"docid\":\"fd79913f-43d7-41eb-9c37-02675dee9895\",\"roots\":{\"13c10f2b-1cbd-4b7c-893f-6a034e3aefd4\":\"cb46e23d-b68d-447a-a3cf-009ce2b045b6\"},\"root_ids\":[\"13c10f2b-1cbd-4b7c-893f-6a034e3aefd4\"]}];\n",
       "  var docs = Object.values(docs_json)\n",
       "  if (!docs) {\n",
       "    return\n",
       "  }\n",
       "  const py_version = docs[0].version.replace('rc', '-rc.').replace('.dev', '-dev.')\n",
       "  async function embed_document(root) {\n",
       "    var Bokeh = get_bokeh(root)\n",
       "    await Bokeh.embed.embed_items_notebook(docs_json, render_items);\n",
       "    for (const render_item of render_items) {\n",
       "      for (const root_id of render_item.root_ids) {\n",
       "\tconst id_el = document.getElementById(root_id)\n",
       "\tif (id_el.children.length && id_el.children[0].hasAttribute('data-root-id')) {\n",
       "\t  const root_el = id_el.children[0]\n",
       "\t  root_el.id = root_el.id + '-rendered'\n",
       "\t  for (const child of root_el.children) {\n",
       "            // Ensure JupyterLab does not capture keyboard shortcuts\n",
       "            // see: https://jupyterlab.readthedocs.io/en/4.1.x/extension/notebook.html#keyboard-interaction-model\n",
       "\t    child.setAttribute('data-lm-suppress-shortcuts', 'true')\n",
       "\t  }\n",
       "\t}\n",
       "      }\n",
       "    }\n",
       "  }\n",
       "  function get_bokeh(root) {\n",
       "    if (root.Bokeh === undefined) {\n",
       "      return null\n",
       "    } else if (root.Bokeh.version !== py_version) {\n",
       "      if (root.Bokeh.versions === undefined || !root.Bokeh.versions.has(py_version)) {\n",
       "\treturn null\n",
       "      }\n",
       "      return root.Bokeh.versions.get(py_version);\n",
       "    } else if (root.Bokeh.version === py_version) {\n",
       "      return root.Bokeh\n",
       "    }\n",
       "    return null\n",
       "  }\n",
       "  function is_loaded(root) {\n",
       "    var Bokeh = get_bokeh(root)\n",
       "    return (Bokeh != null && Bokeh.Panel !== undefined)\n",
       "  }\n",
       "  if (is_loaded(root)) {\n",
       "    embed_document(root);\n",
       "  } else {\n",
       "    var attempts = 0;\n",
       "    var timer = setInterval(function(root) {\n",
       "      if (is_loaded(root)) {\n",
       "        clearInterval(timer);\n",
       "        embed_document(root);\n",
       "      } else if (document.readyState == \"complete\") {\n",
       "        attempts++;\n",
       "        if (attempts > 200) {\n",
       "          clearInterval(timer);\n",
       "\t  var Bokeh = get_bokeh(root)\n",
       "\t  if (Bokeh == null || Bokeh.Panel == null) {\n",
       "            console.warn(\"Panel: ERROR: Unable to run Panel code because Bokeh or Panel library is missing\");\n",
       "\t  } else {\n",
       "\t    console.warn(\"Panel: WARNING: Attempting to render but not all required libraries could be resolved.\")\n",
       "\t    embed_document(root)\n",
       "\t  }\n",
       "        }\n",
       "      }\n",
       "    }, 25, root)\n",
       "  }\n",
       "})(window);</script>"
      ],
      "text/plain": [
       ":BoxWhisker   (VALUE)"
      ]
     },
     "execution_count": 49,
     "metadata": {
      "application/vnd.holoviews_exec.v0+json": {
       "id": "13c10f2b-1cbd-4b7c-893f-6a034e3aefd4"
      }
     },
     "output_type": "execute_result"
    }
   ],
   "source": [
    "# Detecting Outliers by box plot vacancies. \n",
    "job_vacancies.hvplot.box(y='VALUE')"
   ]
  },
  {
   "cell_type": "code",
   "execution_count": 50,
   "metadata": {},
   "outputs": [
    {
     "data": {
      "text/plain": [
       "REF_DATE\n",
       "2015-04-01     410030.0\n",
       "2015-07-01     381645.0\n",
       "2015-10-01     339260.0\n",
       "2016-01-01     313245.0\n",
       "2016-04-01     368010.0\n",
       "2016-07-01     389575.0\n",
       "2016-10-01     357945.0\n",
       "2017-01-01     365045.0\n",
       "2017-04-01     446580.0\n",
       "2017-07-01     459595.0\n",
       "2017-10-01     461250.0\n",
       "2018-01-01     450640.0\n",
       "2018-04-01     539580.0\n",
       "2018-07-01     543295.0\n",
       "2018-10-01     539150.0\n",
       "2019-01-01     499380.0\n",
       "2019-04-01     571800.0\n",
       "2019-07-01     551700.0\n",
       "2019-10-01     501350.0\n",
       "2020-01-01     506250.0\n",
       "2020-10-01     551575.0\n",
       "2021-01-01     539980.0\n",
       "2021-04-01     716780.0\n",
       "2021-07-01     900795.0\n",
       "2021-10-01     904290.0\n",
       "2022-01-01     882895.0\n",
       "2022-04-01    1022835.0\n",
       "2022-07-01     978480.0\n",
       "2022-10-01     842695.0\n",
       "2023-01-01     771270.0\n",
       "2023-04-01     806030.0\n",
       "2023-07-01     723880.0\n",
       "2023-10-01     638225.0\n",
       "2024-01-01     588855.0\n",
       "2024-04-01     608630.0\n",
       "Name: VALUE, dtype: float64"
      ]
     },
     "execution_count": 50,
     "metadata": {},
     "output_type": "execute_result"
    }
   ],
   "source": [
    "# Group Date_jv.Value\n",
    "jv_noc_broad = job_vacancies.groupby([\"REF_DATE\"]).sum()[\"VALUE\"]\n",
    "jv_noc_broad"
   ]
  },
  {
   "cell_type": "code",
   "execution_count": 51,
   "metadata": {},
   "outputs": [
    {
     "data": {
      "text/html": [
       "<div>\n",
       "<style scoped>\n",
       "    .dataframe tbody tr th:only-of-type {\n",
       "        vertical-align: middle;\n",
       "    }\n",
       "\n",
       "    .dataframe tbody tr th {\n",
       "        vertical-align: top;\n",
       "    }\n",
       "\n",
       "    .dataframe thead th {\n",
       "        text-align: right;\n",
       "    }\n",
       "</style>\n",
       "<table border=\"1\" class=\"dataframe\">\n",
       "  <thead>\n",
       "    <tr style=\"text-align: right;\">\n",
       "      <th></th>\n",
       "      <th>REF_DATE</th>\n",
       "      <th>GEO</th>\n",
       "      <th>National Occupational Classification</th>\n",
       "      <th>Job vacancy characteristics</th>\n",
       "      <th>Statistics</th>\n",
       "      <th>VALUE</th>\n",
       "    </tr>\n",
       "  </thead>\n",
       "  <tbody>\n",
       "    <tr>\n",
       "      <th>1534288</th>\n",
       "      <td>2015-04</td>\n",
       "      <td>Canada</td>\n",
       "      <td>Total, all occupations</td>\n",
       "      <td>Type of work, all types</td>\n",
       "      <td>Job vacancies</td>\n",
       "      <td>452315.0</td>\n",
       "    </tr>\n",
       "    <tr>\n",
       "      <th>3068576</th>\n",
       "      <td>2015-07</td>\n",
       "      <td>Canada</td>\n",
       "      <td>Total, all occupations</td>\n",
       "      <td>Type of work, all types</td>\n",
       "      <td>Job vacancies</td>\n",
       "      <td>409650.0</td>\n",
       "    </tr>\n",
       "    <tr>\n",
       "      <th>4602864</th>\n",
       "      <td>2015-10</td>\n",
       "      <td>Canada</td>\n",
       "      <td>Total, all occupations</td>\n",
       "      <td>Type of work, all types</td>\n",
       "      <td>Job vacancies</td>\n",
       "      <td>359080.0</td>\n",
       "    </tr>\n",
       "    <tr>\n",
       "      <th>6137152</th>\n",
       "      <td>2016-01</td>\n",
       "      <td>Canada</td>\n",
       "      <td>Total, all occupations</td>\n",
       "      <td>Type of work, all types</td>\n",
       "      <td>Job vacancies</td>\n",
       "      <td>331520.0</td>\n",
       "    </tr>\n",
       "    <tr>\n",
       "      <th>7671440</th>\n",
       "      <td>2016-04</td>\n",
       "      <td>Canada</td>\n",
       "      <td>Total, all occupations</td>\n",
       "      <td>Type of work, all types</td>\n",
       "      <td>Job vacancies</td>\n",
       "      <td>392420.0</td>\n",
       "    </tr>\n",
       "    <tr>\n",
       "      <th>9205728</th>\n",
       "      <td>2016-07</td>\n",
       "      <td>Canada</td>\n",
       "      <td>Total, all occupations</td>\n",
       "      <td>Type of work, all types</td>\n",
       "      <td>Job vacancies</td>\n",
       "      <td>406125.0</td>\n",
       "    </tr>\n",
       "    <tr>\n",
       "      <th>10740016</th>\n",
       "      <td>2016-10</td>\n",
       "      <td>Canada</td>\n",
       "      <td>Total, all occupations</td>\n",
       "      <td>Type of work, all types</td>\n",
       "      <td>Job vacancies</td>\n",
       "      <td>382405.0</td>\n",
       "    </tr>\n",
       "    <tr>\n",
       "      <th>12274304</th>\n",
       "      <td>2017-01</td>\n",
       "      <td>Canada</td>\n",
       "      <td>Total, all occupations</td>\n",
       "      <td>Type of work, all types</td>\n",
       "      <td>Job vacancies</td>\n",
       "      <td>388435.0</td>\n",
       "    </tr>\n",
       "    <tr>\n",
       "      <th>13808592</th>\n",
       "      <td>2017-04</td>\n",
       "      <td>Canada</td>\n",
       "      <td>Total, all occupations</td>\n",
       "      <td>Type of work, all types</td>\n",
       "      <td>Job vacancies</td>\n",
       "      <td>461345.0</td>\n",
       "    </tr>\n",
       "    <tr>\n",
       "      <th>15342880</th>\n",
       "      <td>2017-07</td>\n",
       "      <td>Canada</td>\n",
       "      <td>Total, all occupations</td>\n",
       "      <td>Type of work, all types</td>\n",
       "      <td>Job vacancies</td>\n",
       "      <td>469220.0</td>\n",
       "    </tr>\n",
       "    <tr>\n",
       "      <th>16877168</th>\n",
       "      <td>2017-10</td>\n",
       "      <td>Canada</td>\n",
       "      <td>Total, all occupations</td>\n",
       "      <td>Type of work, all types</td>\n",
       "      <td>Job vacancies</td>\n",
       "      <td>471205.0</td>\n",
       "    </tr>\n",
       "    <tr>\n",
       "      <th>18411456</th>\n",
       "      <td>2018-01</td>\n",
       "      <td>Canada</td>\n",
       "      <td>Total, all occupations</td>\n",
       "      <td>Type of work, all types</td>\n",
       "      <td>Job vacancies</td>\n",
       "      <td>462750.0</td>\n",
       "    </tr>\n",
       "    <tr>\n",
       "      <th>19945744</th>\n",
       "      <td>2018-04</td>\n",
       "      <td>Canada</td>\n",
       "      <td>Total, all occupations</td>\n",
       "      <td>Type of work, all types</td>\n",
       "      <td>Job vacancies</td>\n",
       "      <td>549190.0</td>\n",
       "    </tr>\n",
       "    <tr>\n",
       "      <th>21480032</th>\n",
       "      <td>2018-07</td>\n",
       "      <td>Canada</td>\n",
       "      <td>Total, all occupations</td>\n",
       "      <td>Type of work, all types</td>\n",
       "      <td>Job vacancies</td>\n",
       "      <td>553025.0</td>\n",
       "    </tr>\n",
       "    <tr>\n",
       "      <th>23014320</th>\n",
       "      <td>2018-10</td>\n",
       "      <td>Canada</td>\n",
       "      <td>Total, all occupations</td>\n",
       "      <td>Type of work, all types</td>\n",
       "      <td>Job vacancies</td>\n",
       "      <td>550695.0</td>\n",
       "    </tr>\n",
       "    <tr>\n",
       "      <th>24548608</th>\n",
       "      <td>2019-01</td>\n",
       "      <td>Canada</td>\n",
       "      <td>Total, all occupations</td>\n",
       "      <td>Type of work, all types</td>\n",
       "      <td>Job vacancies</td>\n",
       "      <td>508585.0</td>\n",
       "    </tr>\n",
       "    <tr>\n",
       "      <th>26082896</th>\n",
       "      <td>2019-04</td>\n",
       "      <td>Canada</td>\n",
       "      <td>Total, all occupations</td>\n",
       "      <td>Type of work, all types</td>\n",
       "      <td>Job vacancies</td>\n",
       "      <td>584445.0</td>\n",
       "    </tr>\n",
       "    <tr>\n",
       "      <th>27617184</th>\n",
       "      <td>2019-07</td>\n",
       "      <td>Canada</td>\n",
       "      <td>Total, all occupations</td>\n",
       "      <td>Type of work, all types</td>\n",
       "      <td>Job vacancies</td>\n",
       "      <td>565840.0</td>\n",
       "    </tr>\n",
       "    <tr>\n",
       "      <th>29151472</th>\n",
       "      <td>2019-10</td>\n",
       "      <td>Canada</td>\n",
       "      <td>Total, all occupations</td>\n",
       "      <td>Type of work, all types</td>\n",
       "      <td>Job vacancies</td>\n",
       "      <td>511375.0</td>\n",
       "    </tr>\n",
       "    <tr>\n",
       "      <th>30685760</th>\n",
       "      <td>2020-01</td>\n",
       "      <td>Canada</td>\n",
       "      <td>Total, all occupations</td>\n",
       "      <td>Type of work, all types</td>\n",
       "      <td>Job vacancies</td>\n",
       "      <td>515660.0</td>\n",
       "    </tr>\n",
       "    <tr>\n",
       "      <th>32220048</th>\n",
       "      <td>2020-10</td>\n",
       "      <td>Canada</td>\n",
       "      <td>Total, all occupations</td>\n",
       "      <td>Type of work, all types</td>\n",
       "      <td>Job vacancies</td>\n",
       "      <td>562695.0</td>\n",
       "    </tr>\n",
       "    <tr>\n",
       "      <th>33754336</th>\n",
       "      <td>2021-01</td>\n",
       "      <td>Canada</td>\n",
       "      <td>Total, all occupations</td>\n",
       "      <td>Type of work, all types</td>\n",
       "      <td>Job vacancies</td>\n",
       "      <td>554790.0</td>\n",
       "    </tr>\n",
       "    <tr>\n",
       "      <th>35288624</th>\n",
       "      <td>2021-04</td>\n",
       "      <td>Canada</td>\n",
       "      <td>Total, all occupations</td>\n",
       "      <td>Type of work, all types</td>\n",
       "      <td>Job vacancies</td>\n",
       "      <td>732815.0</td>\n",
       "    </tr>\n",
       "    <tr>\n",
       "      <th>36822912</th>\n",
       "      <td>2021-07</td>\n",
       "      <td>Canada</td>\n",
       "      <td>Total, all occupations</td>\n",
       "      <td>Type of work, all types</td>\n",
       "      <td>Job vacancies</td>\n",
       "      <td>913250.0</td>\n",
       "    </tr>\n",
       "    <tr>\n",
       "      <th>38357200</th>\n",
       "      <td>2021-10</td>\n",
       "      <td>Canada</td>\n",
       "      <td>Total, all occupations</td>\n",
       "      <td>Type of work, all types</td>\n",
       "      <td>Job vacancies</td>\n",
       "      <td>915875.0</td>\n",
       "    </tr>\n",
       "    <tr>\n",
       "      <th>39891488</th>\n",
       "      <td>2022-01</td>\n",
       "      <td>Canada</td>\n",
       "      <td>Total, all occupations</td>\n",
       "      <td>Type of work, all types</td>\n",
       "      <td>Job vacancies</td>\n",
       "      <td>890495.0</td>\n",
       "    </tr>\n",
       "    <tr>\n",
       "      <th>41425776</th>\n",
       "      <td>2022-04</td>\n",
       "      <td>Canada</td>\n",
       "      <td>Total, all occupations</td>\n",
       "      <td>Type of work, all types</td>\n",
       "      <td>Job vacancies</td>\n",
       "      <td>1032215.0</td>\n",
       "    </tr>\n",
       "    <tr>\n",
       "      <th>42960064</th>\n",
       "      <td>2022-07</td>\n",
       "      <td>Canada</td>\n",
       "      <td>Total, all occupations</td>\n",
       "      <td>Type of work, all types</td>\n",
       "      <td>Job vacancies</td>\n",
       "      <td>991835.0</td>\n",
       "    </tr>\n",
       "    <tr>\n",
       "      <th>44494352</th>\n",
       "      <td>2022-10</td>\n",
       "      <td>Canada</td>\n",
       "      <td>Total, all occupations</td>\n",
       "      <td>Type of work, all types</td>\n",
       "      <td>Job vacancies</td>\n",
       "      <td>855965.0</td>\n",
       "    </tr>\n",
       "    <tr>\n",
       "      <th>46028640</th>\n",
       "      <td>2023-01</td>\n",
       "      <td>Canada</td>\n",
       "      <td>Total, all occupations</td>\n",
       "      <td>Type of work, all types</td>\n",
       "      <td>Job vacancies</td>\n",
       "      <td>781250.0</td>\n",
       "    </tr>\n",
       "    <tr>\n",
       "      <th>47562928</th>\n",
       "      <td>2023-04</td>\n",
       "      <td>Canada</td>\n",
       "      <td>Total, all occupations</td>\n",
       "      <td>Type of work, all types</td>\n",
       "      <td>Job vacancies</td>\n",
       "      <td>818135.0</td>\n",
       "    </tr>\n",
       "    <tr>\n",
       "      <th>49097216</th>\n",
       "      <td>2023-07</td>\n",
       "      <td>Canada</td>\n",
       "      <td>Total, all occupations</td>\n",
       "      <td>Type of work, all types</td>\n",
       "      <td>Job vacancies</td>\n",
       "      <td>737555.0</td>\n",
       "    </tr>\n",
       "    <tr>\n",
       "      <th>50631504</th>\n",
       "      <td>2023-10</td>\n",
       "      <td>Canada</td>\n",
       "      <td>Total, all occupations</td>\n",
       "      <td>Type of work, all types</td>\n",
       "      <td>Job vacancies</td>\n",
       "      <td>646365.0</td>\n",
       "    </tr>\n",
       "    <tr>\n",
       "      <th>52165792</th>\n",
       "      <td>2024-01</td>\n",
       "      <td>Canada</td>\n",
       "      <td>Total, all occupations</td>\n",
       "      <td>Type of work, all types</td>\n",
       "      <td>Job vacancies</td>\n",
       "      <td>601755.0</td>\n",
       "    </tr>\n",
       "    <tr>\n",
       "      <th>53700080</th>\n",
       "      <td>2024-04</td>\n",
       "      <td>Canada</td>\n",
       "      <td>Total, all occupations</td>\n",
       "      <td>Type of work, all types</td>\n",
       "      <td>Job vacancies</td>\n",
       "      <td>621085.0</td>\n",
       "    </tr>\n",
       "  </tbody>\n",
       "</table>\n",
       "</div>"
      ],
      "text/plain": [
       "         REF_DATE     GEO National Occupational Classification  \\\n",
       "1534288   2015-04  Canada               Total, all occupations   \n",
       "3068576   2015-07  Canada               Total, all occupations   \n",
       "4602864   2015-10  Canada               Total, all occupations   \n",
       "6137152   2016-01  Canada               Total, all occupations   \n",
       "7671440   2016-04  Canada               Total, all occupations   \n",
       "9205728   2016-07  Canada               Total, all occupations   \n",
       "10740016  2016-10  Canada               Total, all occupations   \n",
       "12274304  2017-01  Canada               Total, all occupations   \n",
       "13808592  2017-04  Canada               Total, all occupations   \n",
       "15342880  2017-07  Canada               Total, all occupations   \n",
       "16877168  2017-10  Canada               Total, all occupations   \n",
       "18411456  2018-01  Canada               Total, all occupations   \n",
       "19945744  2018-04  Canada               Total, all occupations   \n",
       "21480032  2018-07  Canada               Total, all occupations   \n",
       "23014320  2018-10  Canada               Total, all occupations   \n",
       "24548608  2019-01  Canada               Total, all occupations   \n",
       "26082896  2019-04  Canada               Total, all occupations   \n",
       "27617184  2019-07  Canada               Total, all occupations   \n",
       "29151472  2019-10  Canada               Total, all occupations   \n",
       "30685760  2020-01  Canada               Total, all occupations   \n",
       "32220048  2020-10  Canada               Total, all occupations   \n",
       "33754336  2021-01  Canada               Total, all occupations   \n",
       "35288624  2021-04  Canada               Total, all occupations   \n",
       "36822912  2021-07  Canada               Total, all occupations   \n",
       "38357200  2021-10  Canada               Total, all occupations   \n",
       "39891488  2022-01  Canada               Total, all occupations   \n",
       "41425776  2022-04  Canada               Total, all occupations   \n",
       "42960064  2022-07  Canada               Total, all occupations   \n",
       "44494352  2022-10  Canada               Total, all occupations   \n",
       "46028640  2023-01  Canada               Total, all occupations   \n",
       "47562928  2023-04  Canada               Total, all occupations   \n",
       "49097216  2023-07  Canada               Total, all occupations   \n",
       "50631504  2023-10  Canada               Total, all occupations   \n",
       "52165792  2024-01  Canada               Total, all occupations   \n",
       "53700080  2024-04  Canada               Total, all occupations   \n",
       "\n",
       "         Job vacancy characteristics     Statistics      VALUE  \n",
       "1534288      Type of work, all types  Job vacancies   452315.0  \n",
       "3068576      Type of work, all types  Job vacancies   409650.0  \n",
       "4602864      Type of work, all types  Job vacancies   359080.0  \n",
       "6137152      Type of work, all types  Job vacancies   331520.0  \n",
       "7671440      Type of work, all types  Job vacancies   392420.0  \n",
       "9205728      Type of work, all types  Job vacancies   406125.0  \n",
       "10740016     Type of work, all types  Job vacancies   382405.0  \n",
       "12274304     Type of work, all types  Job vacancies   388435.0  \n",
       "13808592     Type of work, all types  Job vacancies   461345.0  \n",
       "15342880     Type of work, all types  Job vacancies   469220.0  \n",
       "16877168     Type of work, all types  Job vacancies   471205.0  \n",
       "18411456     Type of work, all types  Job vacancies   462750.0  \n",
       "19945744     Type of work, all types  Job vacancies   549190.0  \n",
       "21480032     Type of work, all types  Job vacancies   553025.0  \n",
       "23014320     Type of work, all types  Job vacancies   550695.0  \n",
       "24548608     Type of work, all types  Job vacancies   508585.0  \n",
       "26082896     Type of work, all types  Job vacancies   584445.0  \n",
       "27617184     Type of work, all types  Job vacancies   565840.0  \n",
       "29151472     Type of work, all types  Job vacancies   511375.0  \n",
       "30685760     Type of work, all types  Job vacancies   515660.0  \n",
       "32220048     Type of work, all types  Job vacancies   562695.0  \n",
       "33754336     Type of work, all types  Job vacancies   554790.0  \n",
       "35288624     Type of work, all types  Job vacancies   732815.0  \n",
       "36822912     Type of work, all types  Job vacancies   913250.0  \n",
       "38357200     Type of work, all types  Job vacancies   915875.0  \n",
       "39891488     Type of work, all types  Job vacancies   890495.0  \n",
       "41425776     Type of work, all types  Job vacancies  1032215.0  \n",
       "42960064     Type of work, all types  Job vacancies   991835.0  \n",
       "44494352     Type of work, all types  Job vacancies   855965.0  \n",
       "46028640     Type of work, all types  Job vacancies   781250.0  \n",
       "47562928     Type of work, all types  Job vacancies   818135.0  \n",
       "49097216     Type of work, all types  Job vacancies   737555.0  \n",
       "50631504     Type of work, all types  Job vacancies   646365.0  \n",
       "52165792     Type of work, all types  Job vacancies   601755.0  \n",
       "53700080     Type of work, all types  Job vacancies   621085.0  "
      ]
     },
     "execution_count": 51,
     "metadata": {},
     "output_type": "execute_result"
    }
   ],
   "source": [
    "# Calculating Total Canada / Total NOC / Total Job vacancy characteristics\n",
    "# Filter number of vacancies\n",
    "job_vacancies_ttl = df.copy()\n",
    "job_vacancies_ttl = df.loc[df['Statistics'] == \"Job vacancies\"]\n",
    "job_vacancies_ttl = job_vacancies_ttl.loc[job_vacancies_ttl['GEO'] == \"Canada\"] \n",
    "job_vacancies_ttl = job_vacancies_ttl.loc[job_vacancies_ttl['National Occupational Classification'] == \"Total, all occupations\"]\n",
    "job_vacancies_ttl = job_vacancies_ttl.loc[job_vacancies_ttl['Job vacancy characteristics'] == \"Type of work, all types\"] \n",
    "job_vacancies_ttl"
   ]
  },
  {
   "cell_type": "code",
   "execution_count": 52,
   "metadata": {},
   "outputs": [],
   "source": [
    "job_vacancies_ttl['REF_DATE'] = pd.to_datetime(job_vacancies_ttl['REF_DATE'], format='%Y-%m')"
   ]
  },
  {
   "cell_type": "code",
   "execution_count": 53,
   "metadata": {},
   "outputs": [
    {
     "data": {
      "text/plain": [
       "REF_DATE\n",
       "2015-04-01     452315.0\n",
       "2015-07-01     409650.0\n",
       "2015-10-01     359080.0\n",
       "2016-01-01     331520.0\n",
       "2016-04-01     392420.0\n",
       "2016-07-01     406125.0\n",
       "2016-10-01     382405.0\n",
       "2017-01-01     388435.0\n",
       "2017-04-01     461345.0\n",
       "2017-07-01     469220.0\n",
       "2017-10-01     471205.0\n",
       "2018-01-01     462750.0\n",
       "2018-04-01     549190.0\n",
       "2018-07-01     553025.0\n",
       "2018-10-01     550695.0\n",
       "2019-01-01     508585.0\n",
       "2019-04-01     584445.0\n",
       "2019-07-01     565840.0\n",
       "2019-10-01     511375.0\n",
       "2020-01-01     515660.0\n",
       "2020-10-01     562695.0\n",
       "2021-01-01     554790.0\n",
       "2021-04-01     732815.0\n",
       "2021-07-01     913250.0\n",
       "2021-10-01     915875.0\n",
       "2022-01-01     890495.0\n",
       "2022-04-01    1032215.0\n",
       "2022-07-01     991835.0\n",
       "2022-10-01     855965.0\n",
       "2023-01-01     781250.0\n",
       "2023-04-01     818135.0\n",
       "2023-07-01     737555.0\n",
       "2023-10-01     646365.0\n",
       "2024-01-01     601755.0\n",
       "2024-04-01     621085.0\n",
       "Name: VALUE, dtype: float64"
      ]
     },
     "execution_count": 53,
     "metadata": {},
     "output_type": "execute_result"
    }
   ],
   "source": [
    "# Group Date_jv.ttl.Value\n",
    "jv_ttl = job_vacancies_ttl.groupby([\"REF_DATE\"]).sum()[\"VALUE\"]\n",
    "jv_ttl "
   ]
  },
  {
   "cell_type": "code",
   "execution_count": 54,
   "metadata": {},
   "outputs": [
    {
     "data": {
      "text/html": [
       "<div>\n",
       "<style scoped>\n",
       "    .dataframe tbody tr th:only-of-type {\n",
       "        vertical-align: middle;\n",
       "    }\n",
       "\n",
       "    .dataframe tbody tr th {\n",
       "        vertical-align: top;\n",
       "    }\n",
       "\n",
       "    .dataframe thead th {\n",
       "        text-align: right;\n",
       "    }\n",
       "</style>\n",
       "<table border=\"1\" class=\"dataframe\">\n",
       "  <thead>\n",
       "    <tr style=\"text-align: right;\">\n",
       "      <th></th>\n",
       "      <th>JV_BroadNOC</th>\n",
       "      <th>JV_by_TOTAL</th>\n",
       "      <th>dif,%</th>\n",
       "    </tr>\n",
       "    <tr>\n",
       "      <th>REF_DATE</th>\n",
       "      <th></th>\n",
       "      <th></th>\n",
       "      <th></th>\n",
       "    </tr>\n",
       "  </thead>\n",
       "  <tbody>\n",
       "    <tr>\n",
       "      <th>2015-04-01</th>\n",
       "      <td>410030.0</td>\n",
       "      <td>452315.0</td>\n",
       "      <td>10.0</td>\n",
       "    </tr>\n",
       "    <tr>\n",
       "      <th>2015-07-01</th>\n",
       "      <td>381645.0</td>\n",
       "      <td>409650.0</td>\n",
       "      <td>7.0</td>\n",
       "    </tr>\n",
       "    <tr>\n",
       "      <th>2015-10-01</th>\n",
       "      <td>339260.0</td>\n",
       "      <td>359080.0</td>\n",
       "      <td>6.0</td>\n",
       "    </tr>\n",
       "    <tr>\n",
       "      <th>2016-01-01</th>\n",
       "      <td>313245.0</td>\n",
       "      <td>331520.0</td>\n",
       "      <td>6.0</td>\n",
       "    </tr>\n",
       "    <tr>\n",
       "      <th>2016-04-01</th>\n",
       "      <td>368010.0</td>\n",
       "      <td>392420.0</td>\n",
       "      <td>7.0</td>\n",
       "    </tr>\n",
       "    <tr>\n",
       "      <th>2016-07-01</th>\n",
       "      <td>389575.0</td>\n",
       "      <td>406125.0</td>\n",
       "      <td>4.0</td>\n",
       "    </tr>\n",
       "    <tr>\n",
       "      <th>2016-10-01</th>\n",
       "      <td>357945.0</td>\n",
       "      <td>382405.0</td>\n",
       "      <td>7.0</td>\n",
       "    </tr>\n",
       "    <tr>\n",
       "      <th>2017-01-01</th>\n",
       "      <td>365045.0</td>\n",
       "      <td>388435.0</td>\n",
       "      <td>6.0</td>\n",
       "    </tr>\n",
       "    <tr>\n",
       "      <th>2017-04-01</th>\n",
       "      <td>446580.0</td>\n",
       "      <td>461345.0</td>\n",
       "      <td>3.0</td>\n",
       "    </tr>\n",
       "    <tr>\n",
       "      <th>2017-07-01</th>\n",
       "      <td>459595.0</td>\n",
       "      <td>469220.0</td>\n",
       "      <td>2.0</td>\n",
       "    </tr>\n",
       "    <tr>\n",
       "      <th>2017-10-01</th>\n",
       "      <td>461250.0</td>\n",
       "      <td>471205.0</td>\n",
       "      <td>2.0</td>\n",
       "    </tr>\n",
       "    <tr>\n",
       "      <th>2018-01-01</th>\n",
       "      <td>450640.0</td>\n",
       "      <td>462750.0</td>\n",
       "      <td>3.0</td>\n",
       "    </tr>\n",
       "    <tr>\n",
       "      <th>2018-04-01</th>\n",
       "      <td>539580.0</td>\n",
       "      <td>549190.0</td>\n",
       "      <td>2.0</td>\n",
       "    </tr>\n",
       "    <tr>\n",
       "      <th>2018-07-01</th>\n",
       "      <td>543295.0</td>\n",
       "      <td>553025.0</td>\n",
       "      <td>2.0</td>\n",
       "    </tr>\n",
       "    <tr>\n",
       "      <th>2018-10-01</th>\n",
       "      <td>539150.0</td>\n",
       "      <td>550695.0</td>\n",
       "      <td>2.0</td>\n",
       "    </tr>\n",
       "    <tr>\n",
       "      <th>2019-01-01</th>\n",
       "      <td>499380.0</td>\n",
       "      <td>508585.0</td>\n",
       "      <td>2.0</td>\n",
       "    </tr>\n",
       "    <tr>\n",
       "      <th>2019-04-01</th>\n",
       "      <td>571800.0</td>\n",
       "      <td>584445.0</td>\n",
       "      <td>2.0</td>\n",
       "    </tr>\n",
       "    <tr>\n",
       "      <th>2019-07-01</th>\n",
       "      <td>551700.0</td>\n",
       "      <td>565840.0</td>\n",
       "      <td>3.0</td>\n",
       "    </tr>\n",
       "    <tr>\n",
       "      <th>2019-10-01</th>\n",
       "      <td>501350.0</td>\n",
       "      <td>511375.0</td>\n",
       "      <td>2.0</td>\n",
       "    </tr>\n",
       "    <tr>\n",
       "      <th>2020-01-01</th>\n",
       "      <td>506250.0</td>\n",
       "      <td>515660.0</td>\n",
       "      <td>2.0</td>\n",
       "    </tr>\n",
       "    <tr>\n",
       "      <th>2020-10-01</th>\n",
       "      <td>551575.0</td>\n",
       "      <td>562695.0</td>\n",
       "      <td>2.0</td>\n",
       "    </tr>\n",
       "    <tr>\n",
       "      <th>2021-01-01</th>\n",
       "      <td>539980.0</td>\n",
       "      <td>554790.0</td>\n",
       "      <td>3.0</td>\n",
       "    </tr>\n",
       "    <tr>\n",
       "      <th>2021-04-01</th>\n",
       "      <td>716780.0</td>\n",
       "      <td>732815.0</td>\n",
       "      <td>2.0</td>\n",
       "    </tr>\n",
       "    <tr>\n",
       "      <th>2021-07-01</th>\n",
       "      <td>900795.0</td>\n",
       "      <td>913250.0</td>\n",
       "      <td>1.0</td>\n",
       "    </tr>\n",
       "    <tr>\n",
       "      <th>2021-10-01</th>\n",
       "      <td>904290.0</td>\n",
       "      <td>915875.0</td>\n",
       "      <td>1.0</td>\n",
       "    </tr>\n",
       "    <tr>\n",
       "      <th>2022-01-01</th>\n",
       "      <td>882895.0</td>\n",
       "      <td>890495.0</td>\n",
       "      <td>1.0</td>\n",
       "    </tr>\n",
       "    <tr>\n",
       "      <th>2022-04-01</th>\n",
       "      <td>1022835.0</td>\n",
       "      <td>1032215.0</td>\n",
       "      <td>1.0</td>\n",
       "    </tr>\n",
       "    <tr>\n",
       "      <th>2022-07-01</th>\n",
       "      <td>978480.0</td>\n",
       "      <td>991835.0</td>\n",
       "      <td>1.0</td>\n",
       "    </tr>\n",
       "    <tr>\n",
       "      <th>2022-10-01</th>\n",
       "      <td>842695.0</td>\n",
       "      <td>855965.0</td>\n",
       "      <td>2.0</td>\n",
       "    </tr>\n",
       "    <tr>\n",
       "      <th>2023-01-01</th>\n",
       "      <td>771270.0</td>\n",
       "      <td>781250.0</td>\n",
       "      <td>1.0</td>\n",
       "    </tr>\n",
       "    <tr>\n",
       "      <th>2023-04-01</th>\n",
       "      <td>806030.0</td>\n",
       "      <td>818135.0</td>\n",
       "      <td>2.0</td>\n",
       "    </tr>\n",
       "    <tr>\n",
       "      <th>2023-07-01</th>\n",
       "      <td>723880.0</td>\n",
       "      <td>737555.0</td>\n",
       "      <td>2.0</td>\n",
       "    </tr>\n",
       "    <tr>\n",
       "      <th>2023-10-01</th>\n",
       "      <td>638225.0</td>\n",
       "      <td>646365.0</td>\n",
       "      <td>1.0</td>\n",
       "    </tr>\n",
       "    <tr>\n",
       "      <th>2024-01-01</th>\n",
       "      <td>588855.0</td>\n",
       "      <td>601755.0</td>\n",
       "      <td>2.0</td>\n",
       "    </tr>\n",
       "    <tr>\n",
       "      <th>2024-04-01</th>\n",
       "      <td>608630.0</td>\n",
       "      <td>621085.0</td>\n",
       "      <td>2.0</td>\n",
       "    </tr>\n",
       "  </tbody>\n",
       "</table>\n",
       "</div>"
      ],
      "text/plain": [
       "            JV_BroadNOC  JV_by_TOTAL  dif,%\n",
       "REF_DATE                                   \n",
       "2015-04-01     410030.0     452315.0   10.0\n",
       "2015-07-01     381645.0     409650.0    7.0\n",
       "2015-10-01     339260.0     359080.0    6.0\n",
       "2016-01-01     313245.0     331520.0    6.0\n",
       "2016-04-01     368010.0     392420.0    7.0\n",
       "2016-07-01     389575.0     406125.0    4.0\n",
       "2016-10-01     357945.0     382405.0    7.0\n",
       "2017-01-01     365045.0     388435.0    6.0\n",
       "2017-04-01     446580.0     461345.0    3.0\n",
       "2017-07-01     459595.0     469220.0    2.0\n",
       "2017-10-01     461250.0     471205.0    2.0\n",
       "2018-01-01     450640.0     462750.0    3.0\n",
       "2018-04-01     539580.0     549190.0    2.0\n",
       "2018-07-01     543295.0     553025.0    2.0\n",
       "2018-10-01     539150.0     550695.0    2.0\n",
       "2019-01-01     499380.0     508585.0    2.0\n",
       "2019-04-01     571800.0     584445.0    2.0\n",
       "2019-07-01     551700.0     565840.0    3.0\n",
       "2019-10-01     501350.0     511375.0    2.0\n",
       "2020-01-01     506250.0     515660.0    2.0\n",
       "2020-10-01     551575.0     562695.0    2.0\n",
       "2021-01-01     539980.0     554790.0    3.0\n",
       "2021-04-01     716780.0     732815.0    2.0\n",
       "2021-07-01     900795.0     913250.0    1.0\n",
       "2021-10-01     904290.0     915875.0    1.0\n",
       "2022-01-01     882895.0     890495.0    1.0\n",
       "2022-04-01    1022835.0    1032215.0    1.0\n",
       "2022-07-01     978480.0     991835.0    1.0\n",
       "2022-10-01     842695.0     855965.0    2.0\n",
       "2023-01-01     771270.0     781250.0    1.0\n",
       "2023-04-01     806030.0     818135.0    2.0\n",
       "2023-07-01     723880.0     737555.0    2.0\n",
       "2023-10-01     638225.0     646365.0    1.0\n",
       "2024-01-01     588855.0     601755.0    2.0\n",
       "2024-04-01     608630.0     621085.0    2.0"
      ]
     },
     "execution_count": 54,
     "metadata": {},
     "output_type": "execute_result"
    }
   ],
   "source": [
    "# difference in %\n",
    "jv_difference =pd.merge(jv_noc_broad, jv_ttl, how='left', on=['REF_DATE'])\n",
    "jv_difference['dif,%'] = round(((jv_difference.VALUE_y / jv_difference.VALUE_x)-1)*100)\n",
    "jv_difference=jv_difference.rename(columns={'VALUE_y':'JV_by_TOTAL', 'VALUE_x':'JV_BroadNOC'})\n",
    "jv_difference"
   ]
  },
  {
   "cell_type": "markdown",
   "metadata": {},
   "source": [
    "<h1><span style=\"color:green\"> 3. Average Hourly Wage </span></h1>"
   ]
  },
  {
   "cell_type": "code",
   "execution_count": 55,
   "metadata": {},
   "outputs": [
    {
     "data": {
      "text/plain": [
       "(4162688, 6)"
      ]
     },
     "execution_count": 55,
     "metadata": {},
     "output_type": "execute_result"
    }
   ],
   "source": [
    "# Filtering Average Hourly Wage\n",
    "avg_wage = df.loc[df['Statistics'] == \"Average offered hourly wage\"]\n",
    "avg_wage.shape"
   ]
  },
  {
   "cell_type": "code",
   "execution_count": 56,
   "metadata": {},
   "outputs": [
    {
     "data": {
      "text/plain": [
       "(3418126, 6)"
      ]
     },
     "execution_count": 56,
     "metadata": {},
     "output_type": "execute_result"
    }
   ],
   "source": [
    "# Filtering GEO.Canada\n",
    "avg_wage = avg_wage.loc[avg_wage.GEO != \"Canada\"]\n",
    "avg_wage.shape"
   ]
  },
  {
   "cell_type": "code",
   "execution_count": 57,
   "metadata": {},
   "outputs": [],
   "source": [
    "# Filtering Job vacancy characteristics\n",
    "avg_wage = avg_wage.loc[(avg_wage['Job vacancy characteristics'] == 'Full-time') | \\\n",
    "                          (avg_wage['Job vacancy characteristics'] == 'Part-time')]"
   ]
  },
  {
   "cell_type": "code",
   "execution_count": 58,
   "metadata": {},
   "outputs": [],
   "source": [
    "# Filtering NOC 1 level\n",
    "inc_list = ['Business, finance and administration occupations [1]', \\\n",
    "            'Health occupations [3]', \\\n",
    "            'Management occupations [0]', 'Natural and applied sciences and related occupations [2]', \\\n",
    "            'Natural resources, agriculture and related production occupations [8]', \\\n",
    "            'Occupations in art, culture, recreation and sport [5]', \\\n",
    "            'Occupations in education, law and social, community and government services [4]', \\\n",
    "            'Occupations in manufacturing and utilities [9]', \\\n",
    "            'Sales and service occupations [6]', \\\n",
    "            'Trades, transport and equipment operators and related occupations [7]']\n",
    "avg_wage = avg_wage[avg_wage['National Occupational Classification'].isin(inc_list)]"
   ]
  },
  {
   "cell_type": "code",
   "execution_count": 59,
   "metadata": {},
   "outputs": [],
   "source": [
    "# Handle Missing Data\n",
    "avg_wage = avg_wage.dropna(subset=['VALUE'])"
   ]
  },
  {
   "cell_type": "code",
   "execution_count": 60,
   "metadata": {},
   "outputs": [
    {
     "data": {
      "text/html": [
       "<div>\n",
       "<style scoped>\n",
       "    .dataframe tbody tr th:only-of-type {\n",
       "        vertical-align: middle;\n",
       "    }\n",
       "\n",
       "    .dataframe tbody tr th {\n",
       "        vertical-align: top;\n",
       "    }\n",
       "\n",
       "    .dataframe thead th {\n",
       "        text-align: right;\n",
       "    }\n",
       "</style>\n",
       "<table border=\"1\" class=\"dataframe\">\n",
       "  <thead>\n",
       "    <tr style=\"text-align: right;\">\n",
       "      <th></th>\n",
       "      <th>VALUE</th>\n",
       "    </tr>\n",
       "  </thead>\n",
       "  <tbody>\n",
       "    <tr>\n",
       "      <th>count</th>\n",
       "      <td>7103.000000</td>\n",
       "    </tr>\n",
       "    <tr>\n",
       "      <th>mean</th>\n",
       "      <td>22.341419</td>\n",
       "    </tr>\n",
       "    <tr>\n",
       "      <th>std</th>\n",
       "      <td>7.098401</td>\n",
       "    </tr>\n",
       "    <tr>\n",
       "      <th>min</th>\n",
       "      <td>10.500000</td>\n",
       "    </tr>\n",
       "    <tr>\n",
       "      <th>25%</th>\n",
       "      <td>16.800000</td>\n",
       "    </tr>\n",
       "    <tr>\n",
       "      <th>50%</th>\n",
       "      <td>21.150000</td>\n",
       "    </tr>\n",
       "    <tr>\n",
       "      <th>75%</th>\n",
       "      <td>26.700000</td>\n",
       "    </tr>\n",
       "    <tr>\n",
       "      <th>max</th>\n",
       "      <td>76.700000</td>\n",
       "    </tr>\n",
       "  </tbody>\n",
       "</table>\n",
       "</div>"
      ],
      "text/plain": [
       "             VALUE\n",
       "count  7103.000000\n",
       "mean     22.341419\n",
       "std       7.098401\n",
       "min      10.500000\n",
       "25%      16.800000\n",
       "50%      21.150000\n",
       "75%      26.700000\n",
       "max      76.700000"
      ]
     },
     "execution_count": 60,
     "metadata": {},
     "output_type": "execute_result"
    }
   ],
   "source": [
    "avg_wage.describe()"
   ]
  },
  {
   "cell_type": "code",
   "execution_count": 61,
   "metadata": {},
   "outputs": [
    {
     "data": {},
     "metadata": {},
     "output_type": "display_data"
    },
    {
     "data": {
      "application/vnd.holoviews_exec.v0+json": "",
      "text/html": [
       "<div id='e9d1189c-ee3a-440b-80b4-f4f4525a9193'>\n",
       "  <div id=\"f00b2acc-58ce-4c19-894a-a2ae7f818d9a\" data-root-id=\"e9d1189c-ee3a-440b-80b4-f4f4525a9193\" style=\"display: contents;\"></div>\n",
       "</div>\n",
       "<script type=\"application/javascript\">(function(root) {\n",
       "  var docs_json = {\"d162df54-92b0-4a50-9a71-e5267e5da012\":{\"version\":\"3.6.1\",\"title\":\"Bokeh Application\",\"roots\":[{\"type\":\"object\",\"name\":\"Row\",\"id\":\"e9d1189c-ee3a-440b-80b4-f4f4525a9193\",\"attributes\":{\"name\":\"Row00373\",\"tags\":[\"embedded\"],\"stylesheets\":[\"\\n:host(.pn-loading):before, .pn-loading:before {\\n  background-color: #c3c3c3;\\n  mask-size: auto calc(min(50%, 400px));\\n  -webkit-mask-size: auto calc(min(50%, 400px));\\n}\",{\"type\":\"object\",\"name\":\"ImportedStyleSheet\",\"id\":\"fc74c48f-51e3-4937-8045-f9e68b8c51e3\",\"attributes\":{\"url\":\"https://cdn.holoviz.org/panel/1.5.4/dist/css/loading.css\"}},{\"type\":\"object\",\"name\":\"ImportedStyleSheet\",\"id\":\"09fd6cb7-9b9f-4424-8df3-ccc68deb7dee\",\"attributes\":{\"url\":\"https://cdn.holoviz.org/panel/1.5.4/dist/css/listpanel.css\"}},{\"type\":\"object\",\"name\":\"ImportedStyleSheet\",\"id\":\"cf8594ae-c291-42a1-bf74-6c2105b502dd\",\"attributes\":{\"url\":\"https://cdn.holoviz.org/panel/1.5.4/dist/bundled/theme/default.css\"}},{\"type\":\"object\",\"name\":\"ImportedStyleSheet\",\"id\":\"dc86ee55-73fe-4601-b56f-999b8b90bd7a\",\"attributes\":{\"url\":\"https://cdn.holoviz.org/panel/1.5.4/dist/bundled/theme/native.css\"}}],\"min_width\":700,\"margin\":0,\"sizing_mode\":\"stretch_width\",\"align\":\"start\",\"children\":[{\"type\":\"object\",\"name\":\"Spacer\",\"id\":\"5405ee5e-d94b-4acb-959d-996631b13972\",\"attributes\":{\"name\":\"HSpacer00377\",\"stylesheets\":[\"\\n:host(.pn-loading):before, .pn-loading:before {\\n  background-color: #c3c3c3;\\n  mask-size: auto calc(min(50%, 400px));\\n  -webkit-mask-size: auto calc(min(50%, 400px));\\n}\",{\"id\":\"fc74c48f-51e3-4937-8045-f9e68b8c51e3\"},{\"id\":\"cf8594ae-c291-42a1-bf74-6c2105b502dd\"},{\"id\":\"dc86ee55-73fe-4601-b56f-999b8b90bd7a\"}],\"margin\":0,\"sizing_mode\":\"stretch_width\",\"align\":\"start\"}},{\"type\":\"object\",\"name\":\"Figure\",\"id\":\"13a7d7b4-2d17-433e-b970-fff8ade719de\",\"attributes\":{\"width\":700,\"height\":300,\"margin\":[5,10],\"sizing_mode\":\"fixed\",\"align\":\"start\",\"x_range\":{\"type\":\"object\",\"name\":\"FactorRange\",\"id\":\"4f8e4581-f0f0-4f61-b816-19ba8f63084e\",\"attributes\":{\"factors\":[\"\"]}},\"y_range\":{\"type\":\"object\",\"name\":\"Range1d\",\"id\":\"24a3b169-13b3-4284-b750-11ce05445e60\",\"attributes\":{\"name\":\"VALUE\",\"tags\":[[[\"VALUE\",null]],{\"type\":\"map\",\"entries\":[[\"invert_yaxis\",false],[\"autorange\",false]]}],\"start\":3.879999999999999,\"end\":83.32000000000001,\"reset_start\":3.879999999999999,\"reset_end\":83.32000000000001}},\"x_scale\":{\"type\":\"object\",\"name\":\"CategoricalScale\",\"id\":\"225793ac-90b0-4a7b-8a26-a1f18d20b0da\"},\"y_scale\":{\"type\":\"object\",\"name\":\"LinearScale\",\"id\":\"21d5a8c1-0be2-4184-95ce-d86e998fc7f8\"},\"title\":{\"type\":\"object\",\"name\":\"Title\",\"id\":\"51c6aee0-7132-49cf-b759-b05e05d14b9f\",\"attributes\":{\"text_color\":\"black\",\"text_font_size\":\"12pt\"}},\"renderers\":[{\"type\":\"object\",\"name\":\"GlyphRenderer\",\"id\":\"7792f775-da10-4783-acc8-581ce8f1dd90\",\"attributes\":{\"data_source\":{\"type\":\"object\",\"name\":\"ColumnDataSource\",\"id\":\"8bd8a604-6c06-4b3f-ae44-74167cb05664\",\"attributes\":{\"selected\":{\"type\":\"object\",\"name\":\"Selection\",\"id\":\"7291cc06-608a-4cab-86d6-a03dec347a92\",\"attributes\":{\"indices\":[],\"line_indices\":[]}},\"selection_policy\":{\"type\":\"object\",\"name\":\"UnionRenderers\",\"id\":\"9c7358a3-8c59-4aa2-a8e3-f196ffacceb4\"},\"data\":{\"type\":\"map\",\"entries\":[[\"index\",[\"\",\"\",\"\",\"\",\"\",\"\",\"\",\"\",\"\",\"\",\"\",\"\",\"\",\"\",\"\",\"\",\"\",\"\",\"\",\"\",\"\",\"\",\"\",\"\",\"\",\"\",\"\",\"\",\"\",\"\",\"\",\"\",\"\",\"\",\"\",\"\",\"\",\"\",\"\",\"\",\"\",\"\",\"\",\"\",\"\",\"\",\"\",\"\",\"\",\"\",\"\",\"\",\"\",\"\",\"\",\"\",\"\",\"\",\"\",\"\",\"\",\"\",\"\",\"\",\"\",\"\",\"\",\"\",\"\",\"\",\"\",\"\",\"\",\"\",\"\",\"\",\"\",\"\",\"\",\"\",\"\",\"\",\"\",\"\",\"\",\"\"]],[\"VALUE\",{\"type\":\"ndarray\",\"array\":{\"type\":\"bytes\",\"data\":\"MzMzMzNzRUCamZmZmXlFQJqZmZmZWUVAzczMzMwsRUDNzMzMzMxIQAAAAAAAAElAzczMzMwsU0DNzMzMzMxFQJqZmZmZOUZAAAAAAACAUUDNzMzMzCxPQAAAAAAAgEpAmpmZmZl5RkCamZmZmRlFQAAAAAAAgEZAMzMzMzPzRECamZmZmXlHQAAAAAAA4ERAmpmZmZl5RUCamZmZmVlFQGZmZmZmpkVAZmZmZmZGRUAAAAAAAGBIQAAAAAAAAEdAZmZmZmZGRUAAAAAAAIBIQAAAAAAAgEVAMzMzMzPTR0CamZmZmTlFQGZmZmZmhkVAAAAAAAAARUBmZmZmZqZGQDMzMzMz00VAAAAAAADARUAAAAAAAMBGQGZmZmZmZkVAmpmZmZkZRUBmZmZmZuZFQDMzMzMzE0ZAzczMzMxMSEAAAAAAAABJQAAAAAAAAEdAmpmZmZl5RUAAAAAAACBFQJqZmZmZOUZAzczMzMzMSEAzMzMzM3NFQDMzMzMz00RAzczMzMwMR0AAAAAAAABJQM3MzMzMLEZAMzMzMzPzREAAAAAAAABIQJqZmZmZuUdAMzMzMzOzRUAAAAAAAEBLQM3MzMzMTEZAAAAAAABASUAzMzMzM9NGQJqZmZmZmUhAzczMzMzMREAzMzMzM3NFQGZmZmZmBklAMzMzMzPzRECamZmZmXlGQJqZmZmZGUdAmpmZmZlZR0AAAAAAAIBHQGZmZmZm5kpAmpmZmZk5RUBmZmZmZuZGQAAAAAAAoEZAZmZmZmYmR0CamZmZmdlEQAAAAAAAIEZAmpmZmZkZR0BmZmZmZuZEQM3MzMzM7EhAMzMzMzMzSEAAAAAAAOBEQDMzMzMzE0VAMzMzMzOTRkCamZmZmflEQGZmZmZm5klAAAAAAAAgR0DNzMzMzMxEQA==\"},\"shape\":[86],\"dtype\":\"float64\",\"order\":\"little\"}]]}}},\"view\":{\"type\":\"object\",\"name\":\"CDSView\",\"id\":\"6feeb1dd-0bf6-48b4-b54f-e144c8826acc\",\"attributes\":{\"filter\":{\"type\":\"object\",\"name\":\"AllIndices\",\"id\":\"c2667a6e-90ef-4926-b31d-7dfd04761485\"}}},\"glyph\":{\"type\":\"object\",\"name\":\"Circle\",\"id\":\"522d6ab1-fdde-437d-88ed-6d1b1f0e2887\",\"attributes\":{\"x\":{\"type\":\"field\",\"field\":\"index\"},\"y\":{\"type\":\"field\",\"field\":\"VALUE\"},\"radius\":{\"type\":\"value\",\"value\":0.01},\"fill_color\":{\"type\":\"value\",\"value\":\"black\"}}},\"selection_glyph\":{\"type\":\"object\",\"name\":\"Circle\",\"id\":\"7b66a1ec-1199-4d5c-889b-4ae2002ba7d8\",\"attributes\":{\"x\":{\"type\":\"field\",\"field\":\"index\"},\"y\":{\"type\":\"field\",\"field\":\"VALUE\"},\"radius\":{\"type\":\"value\",\"value\":0.01},\"line_color\":{\"type\":\"value\",\"value\":\"black\"},\"line_alpha\":{\"type\":\"value\",\"value\":1.0},\"line_width\":{\"type\":\"value\",\"value\":1},\"line_join\":{\"type\":\"value\",\"value\":\"bevel\"},\"line_cap\":{\"type\":\"value\",\"value\":\"butt\"},\"line_dash\":{\"type\":\"value\",\"value\":[]},\"line_dash_offset\":{\"type\":\"value\",\"value\":0},\"fill_color\":{\"type\":\"value\",\"value\":\"black\"},\"fill_alpha\":{\"type\":\"value\",\"value\":1.0},\"hatch_color\":{\"type\":\"value\",\"value\":\"black\"},\"hatch_alpha\":{\"type\":\"value\",\"value\":1.0},\"hatch_scale\":{\"type\":\"value\",\"value\":12.0},\"hatch_pattern\":{\"type\":\"value\",\"value\":null},\"hatch_weight\":{\"type\":\"value\",\"value\":1.0}}},\"nonselection_glyph\":{\"type\":\"object\",\"name\":\"Circle\",\"id\":\"7e7effd4-d819-4843-be4e-1a24b356ae86\",\"attributes\":{\"x\":{\"type\":\"field\",\"field\":\"index\"},\"y\":{\"type\":\"field\",\"field\":\"VALUE\"},\"radius\":{\"type\":\"value\",\"value\":0.01},\"line_alpha\":{\"type\":\"value\",\"value\":0.1},\"fill_color\":{\"type\":\"value\",\"value\":\"black\"},\"fill_alpha\":{\"type\":\"value\",\"value\":0.1},\"hatch_alpha\":{\"type\":\"value\",\"value\":0.1}}},\"muted_glyph\":{\"type\":\"object\",\"name\":\"Circle\",\"id\":\"5b402ccc-7ba7-45e3-9b8f-6ac210fa477d\",\"attributes\":{\"x\":{\"type\":\"field\",\"field\":\"index\"},\"y\":{\"type\":\"field\",\"field\":\"VALUE\"},\"radius\":{\"type\":\"value\",\"value\":0.01},\"line_alpha\":{\"type\":\"value\",\"value\":0.2},\"fill_color\":{\"type\":\"value\",\"value\":\"black\"},\"fill_alpha\":{\"type\":\"value\",\"value\":0.2},\"hatch_alpha\":{\"type\":\"value\",\"value\":0.2}}}}},{\"type\":\"object\",\"name\":\"GlyphRenderer\",\"id\":\"f27fa52f-705d-4800-96a2-42bfa5482d12\",\"attributes\":{\"data_source\":{\"type\":\"object\",\"name\":\"ColumnDataSource\",\"id\":\"ac81c3de-d747-457b-bcdd-ad6b7810c75f\",\"attributes\":{\"selected\":{\"type\":\"object\",\"name\":\"Selection\",\"id\":\"a7443682-6c22-45b3-a040-73940ca073c5\",\"attributes\":{\"indices\":[],\"line_indices\":[]}},\"selection_policy\":{\"type\":\"object\",\"name\":\"UnionRenderers\",\"id\":\"a1038898-ca2d-4d4d-915f-58cc12a7c382\"},\"data\":{\"type\":\"map\",\"entries\":[[\"x0\",[\"\"]],[\"y0\",{\"type\":\"ndarray\",\"array\":{\"type\":\"bytes\",\"data\":\"ZmZmZmbGREA=\"},\"shape\":[1],\"dtype\":\"float64\",\"order\":\"little\"}],[\"x1\",[\"\"]],[\"y1\",{\"type\":\"ndarray\",\"array\":{\"type\":\"bytes\",\"data\":\"MzMzMzOzOkA=\"},\"shape\":[1],\"dtype\":\"float64\",\"order\":\"little\"}]]}}},\"view\":{\"type\":\"object\",\"name\":\"CDSView\",\"id\":\"8e7a0a27-e2a1-45de-bbbf-71601b37da08\",\"attributes\":{\"filter\":{\"type\":\"object\",\"name\":\"AllIndices\",\"id\":\"75e35eb2-5f3e-4198-9dde-e751b48434cc\"}}},\"glyph\":{\"type\":\"object\",\"name\":\"Segment\",\"id\":\"2994f951-e467-43c9-ab08-e937eaa48d5e\",\"attributes\":{\"x0\":{\"type\":\"field\",\"field\":\"x0\"},\"y0\":{\"type\":\"field\",\"field\":\"y0\"},\"x1\":{\"type\":\"field\",\"field\":\"x1\"},\"y1\":{\"type\":\"field\",\"field\":\"y1\"}}},\"selection_glyph\":{\"type\":\"object\",\"name\":\"Segment\",\"id\":\"26ffdd5b-b4d5-4bf2-9ab5-df7bcff0cf43\",\"attributes\":{\"x0\":{\"type\":\"field\",\"field\":\"x0\"},\"y0\":{\"type\":\"field\",\"field\":\"y0\"},\"x1\":{\"type\":\"field\",\"field\":\"x1\"},\"y1\":{\"type\":\"field\",\"field\":\"y1\"},\"line_color\":{\"type\":\"value\",\"value\":\"black\"},\"line_alpha\":{\"type\":\"value\",\"value\":1.0},\"line_width\":{\"type\":\"value\",\"value\":1},\"line_join\":{\"type\":\"value\",\"value\":\"bevel\"},\"line_cap\":{\"type\":\"value\",\"value\":\"butt\"},\"line_dash\":{\"type\":\"value\",\"value\":[]},\"line_dash_offset\":{\"type\":\"value\",\"value\":0}}},\"nonselection_glyph\":{\"type\":\"object\",\"name\":\"Segment\",\"id\":\"8555db89-e2f9-4045-934d-3be8409f2cbb\",\"attributes\":{\"x0\":{\"type\":\"field\",\"field\":\"x0\"},\"y0\":{\"type\":\"field\",\"field\":\"y0\"},\"x1\":{\"type\":\"field\",\"field\":\"x1\"},\"y1\":{\"type\":\"field\",\"field\":\"y1\"},\"line_alpha\":{\"type\":\"value\",\"value\":0.1}}},\"muted_glyph\":{\"type\":\"object\",\"name\":\"Segment\",\"id\":\"d5cf4bdc-a726-412e-9527-5c8c5fad18cc\",\"attributes\":{\"x0\":{\"type\":\"field\",\"field\":\"x0\"},\"y0\":{\"type\":\"field\",\"field\":\"y0\"},\"x1\":{\"type\":\"field\",\"field\":\"x1\"},\"y1\":{\"type\":\"field\",\"field\":\"y1\"},\"line_alpha\":{\"type\":\"value\",\"value\":0.2}}}}},{\"type\":\"object\",\"name\":\"GlyphRenderer\",\"id\":\"13cb7dd7-c443-4e4c-9370-33c17e7bf55c\",\"attributes\":{\"data_source\":{\"type\":\"object\",\"name\":\"ColumnDataSource\",\"id\":\"d3acaf2d-bb64-4a9d-bdfb-81db6d62bc94\",\"attributes\":{\"selected\":{\"type\":\"object\",\"name\":\"Selection\",\"id\":\"3b8286e3-6029-4c3e-b5c4-fd2812e5841b\",\"attributes\":{\"indices\":[],\"line_indices\":[]}},\"selection_policy\":{\"type\":\"object\",\"name\":\"UnionRenderers\",\"id\":\"28ada511-ecef-4ae4-a36e-5f2bc5306c29\"},\"data\":{\"type\":\"map\",\"entries\":[[\"x0\",[\"\"]],[\"y0\",{\"type\":\"ndarray\",\"array\":{\"type\":\"bytes\",\"data\":\"AAAAAAAAJUA=\"},\"shape\":[1],\"dtype\":\"float64\",\"order\":\"little\"}],[\"x1\",[\"\"]],[\"y1\",{\"type\":\"ndarray\",\"array\":{\"type\":\"bytes\",\"data\":\"zczMzMzMMEA=\"},\"shape\":[1],\"dtype\":\"float64\",\"order\":\"little\"}]]}}},\"view\":{\"type\":\"object\",\"name\":\"CDSView\",\"id\":\"f51621b2-74b9-412c-89b7-0267a934bc6f\",\"attributes\":{\"filter\":{\"type\":\"object\",\"name\":\"AllIndices\",\"id\":\"bead3b75-3091-4b00-93b3-63373512f8c3\"}}},\"glyph\":{\"type\":\"object\",\"name\":\"Segment\",\"id\":\"4c60ecb2-787b-40f5-a671-3c6551087669\",\"attributes\":{\"x0\":{\"type\":\"field\",\"field\":\"x0\"},\"y0\":{\"type\":\"field\",\"field\":\"y0\"},\"x1\":{\"type\":\"field\",\"field\":\"x1\"},\"y1\":{\"type\":\"field\",\"field\":\"y1\"}}},\"selection_glyph\":{\"type\":\"object\",\"name\":\"Segment\",\"id\":\"0784b60a-0186-4659-8505-b51949ea6dc9\",\"attributes\":{\"x0\":{\"type\":\"field\",\"field\":\"x0\"},\"y0\":{\"type\":\"field\",\"field\":\"y0\"},\"x1\":{\"type\":\"field\",\"field\":\"x1\"},\"y1\":{\"type\":\"field\",\"field\":\"y1\"},\"line_color\":{\"type\":\"value\",\"value\":\"black\"},\"line_alpha\":{\"type\":\"value\",\"value\":1.0},\"line_width\":{\"type\":\"value\",\"value\":1},\"line_join\":{\"type\":\"value\",\"value\":\"bevel\"},\"line_cap\":{\"type\":\"value\",\"value\":\"butt\"},\"line_dash\":{\"type\":\"value\",\"value\":[]},\"line_dash_offset\":{\"type\":\"value\",\"value\":0}}},\"nonselection_glyph\":{\"type\":\"object\",\"name\":\"Segment\",\"id\":\"21333763-dff1-4d24-a550-d9209da867b1\",\"attributes\":{\"x0\":{\"type\":\"field\",\"field\":\"x0\"},\"y0\":{\"type\":\"field\",\"field\":\"y0\"},\"x1\":{\"type\":\"field\",\"field\":\"x1\"},\"y1\":{\"type\":\"field\",\"field\":\"y1\"},\"line_alpha\":{\"type\":\"value\",\"value\":0.1}}},\"muted_glyph\":{\"type\":\"object\",\"name\":\"Segment\",\"id\":\"5a783c39-b12f-42ff-830f-84efd4315169\",\"attributes\":{\"x0\":{\"type\":\"field\",\"field\":\"x0\"},\"y0\":{\"type\":\"field\",\"field\":\"y0\"},\"x1\":{\"type\":\"field\",\"field\":\"x1\"},\"y1\":{\"type\":\"field\",\"field\":\"y1\"},\"line_alpha\":{\"type\":\"value\",\"value\":0.2}}}}},{\"type\":\"object\",\"name\":\"GlyphRenderer\",\"id\":\"2a56814f-00ce-4ab1-9de8-5393203cb158\",\"attributes\":{\"data_source\":{\"type\":\"object\",\"name\":\"ColumnDataSource\",\"id\":\"ae71acb1-54e2-439a-a436-e4d0bbf20a55\",\"attributes\":{\"selected\":{\"type\":\"object\",\"name\":\"Selection\",\"id\":\"ede21c32-d810-44d6-8c2f-7a9180c7492c\",\"attributes\":{\"indices\":[],\"line_indices\":[]}},\"selection_policy\":{\"type\":\"object\",\"name\":\"UnionRenderers\",\"id\":\"c81ea59e-32e1-4538-9974-b1366bd1e984\"},\"data\":{\"type\":\"map\",\"entries\":[[\"x0\",[[\"\",-0.2]]],[\"y0\",[10.5]],[\"x1\",[[\"\",0.2]]],[\"y1\",[10.5]]]}}},\"view\":{\"type\":\"object\",\"name\":\"CDSView\",\"id\":\"90e4fc48-bbe1-409f-a4b0-c181a72f7322\",\"attributes\":{\"filter\":{\"type\":\"object\",\"name\":\"AllIndices\",\"id\":\"69c29515-393d-4105-b886-2e300fa19767\"}}},\"glyph\":{\"type\":\"object\",\"name\":\"Segment\",\"id\":\"4ac53f4e-0493-4aba-92d7-f1369a0c440a\",\"attributes\":{\"x0\":{\"type\":\"field\",\"field\":\"x0\"},\"y0\":{\"type\":\"field\",\"field\":\"y0\"},\"x1\":{\"type\":\"field\",\"field\":\"x1\"},\"y1\":{\"type\":\"field\",\"field\":\"y1\"}}},\"selection_glyph\":{\"type\":\"object\",\"name\":\"Segment\",\"id\":\"c429fcbd-96d6-4959-a55a-8a288cfaf648\",\"attributes\":{\"x0\":{\"type\":\"field\",\"field\":\"x0\"},\"y0\":{\"type\":\"field\",\"field\":\"y0\"},\"x1\":{\"type\":\"field\",\"field\":\"x1\"},\"y1\":{\"type\":\"field\",\"field\":\"y1\"},\"line_color\":{\"type\":\"value\",\"value\":\"black\"},\"line_alpha\":{\"type\":\"value\",\"value\":1.0},\"line_width\":{\"type\":\"value\",\"value\":1},\"line_join\":{\"type\":\"value\",\"value\":\"bevel\"},\"line_cap\":{\"type\":\"value\",\"value\":\"butt\"},\"line_dash\":{\"type\":\"value\",\"value\":[]},\"line_dash_offset\":{\"type\":\"value\",\"value\":0}}},\"nonselection_glyph\":{\"type\":\"object\",\"name\":\"Segment\",\"id\":\"8cf25bdb-aec9-4645-bbd5-418cc91df798\",\"attributes\":{\"x0\":{\"type\":\"field\",\"field\":\"x0\"},\"y0\":{\"type\":\"field\",\"field\":\"y0\"},\"x1\":{\"type\":\"field\",\"field\":\"x1\"},\"y1\":{\"type\":\"field\",\"field\":\"y1\"},\"line_alpha\":{\"type\":\"value\",\"value\":0.1}}},\"muted_glyph\":{\"type\":\"object\",\"name\":\"Segment\",\"id\":\"01235ca3-62b1-44ad-bfe8-b35c011daccd\",\"attributes\":{\"x0\":{\"type\":\"field\",\"field\":\"x0\"},\"y0\":{\"type\":\"field\",\"field\":\"y0\"},\"x1\":{\"type\":\"field\",\"field\":\"x1\"},\"y1\":{\"type\":\"field\",\"field\":\"y1\"},\"line_alpha\":{\"type\":\"value\",\"value\":0.2}}}}},{\"type\":\"object\",\"name\":\"GlyphRenderer\",\"id\":\"cece00cb-e0ca-4ecf-aae2-d770416b37e2\",\"attributes\":{\"data_source\":{\"type\":\"object\",\"name\":\"ColumnDataSource\",\"id\":\"561768d6-5b3f-4e6a-9030-686def1ae133\",\"attributes\":{\"selected\":{\"type\":\"object\",\"name\":\"Selection\",\"id\":\"ef80e36d-c218-481b-8bb5-59b8dc29c107\",\"attributes\":{\"indices\":[],\"line_indices\":[]}},\"selection_policy\":{\"type\":\"object\",\"name\":\"UnionRenderers\",\"id\":\"e5d2b2bb-1842-4fbe-874f-7f0b6ce8d041\"},\"data\":{\"type\":\"map\",\"entries\":[[\"x0\",[[\"\",-0.2]]],[\"y0\",[41.55]],[\"x1\",[[\"\",0.2]]],[\"y1\",[41.55]]]}}},\"view\":{\"type\":\"object\",\"name\":\"CDSView\",\"id\":\"1641b21f-843c-46ce-b59e-07c54705298c\",\"attributes\":{\"filter\":{\"type\":\"object\",\"name\":\"AllIndices\",\"id\":\"a433ef80-0b4a-4970-b326-f33c7e179f71\"}}},\"glyph\":{\"type\":\"object\",\"name\":\"Segment\",\"id\":\"f0668539-5557-4efb-b0db-06c03514a2fb\",\"attributes\":{\"x0\":{\"type\":\"field\",\"field\":\"x0\"},\"y0\":{\"type\":\"field\",\"field\":\"y0\"},\"x1\":{\"type\":\"field\",\"field\":\"x1\"},\"y1\":{\"type\":\"field\",\"field\":\"y1\"}}},\"selection_glyph\":{\"type\":\"object\",\"name\":\"Segment\",\"id\":\"5aad29d5-57ad-4700-b779-d81c29ce25dc\",\"attributes\":{\"x0\":{\"type\":\"field\",\"field\":\"x0\"},\"y0\":{\"type\":\"field\",\"field\":\"y0\"},\"x1\":{\"type\":\"field\",\"field\":\"x1\"},\"y1\":{\"type\":\"field\",\"field\":\"y1\"},\"line_color\":{\"type\":\"value\",\"value\":\"black\"},\"line_alpha\":{\"type\":\"value\",\"value\":1.0},\"line_width\":{\"type\":\"value\",\"value\":1},\"line_join\":{\"type\":\"value\",\"value\":\"bevel\"},\"line_cap\":{\"type\":\"value\",\"value\":\"butt\"},\"line_dash\":{\"type\":\"value\",\"value\":[]},\"line_dash_offset\":{\"type\":\"value\",\"value\":0}}},\"nonselection_glyph\":{\"type\":\"object\",\"name\":\"Segment\",\"id\":\"d1de2487-eccf-4adc-9e05-9a9576606eaa\",\"attributes\":{\"x0\":{\"type\":\"field\",\"field\":\"x0\"},\"y0\":{\"type\":\"field\",\"field\":\"y0\"},\"x1\":{\"type\":\"field\",\"field\":\"x1\"},\"y1\":{\"type\":\"field\",\"field\":\"y1\"},\"line_alpha\":{\"type\":\"value\",\"value\":0.1}}},\"muted_glyph\":{\"type\":\"object\",\"name\":\"Segment\",\"id\":\"6e89d135-f212-477d-a6df-198562ceacb6\",\"attributes\":{\"x0\":{\"type\":\"field\",\"field\":\"x0\"},\"y0\":{\"type\":\"field\",\"field\":\"y0\"},\"x1\":{\"type\":\"field\",\"field\":\"x1\"},\"y1\":{\"type\":\"field\",\"field\":\"y1\"},\"line_alpha\":{\"type\":\"value\",\"value\":0.2}}}}},{\"type\":\"object\",\"name\":\"GlyphRenderer\",\"id\":\"d5ed55c4-da29-4496-a976-ef5fc079246c\",\"attributes\":{\"data_source\":{\"type\":\"object\",\"name\":\"ColumnDataSource\",\"id\":\"612226cd-6a71-4689-9cf6-252ed1aa4c9f\",\"attributes\":{\"selected\":{\"type\":\"object\",\"name\":\"Selection\",\"id\":\"927d1b9d-68a1-4cb1-a1cf-dcea7a5ce46a\",\"attributes\":{\"indices\":[],\"line_indices\":[]}},\"selection_policy\":{\"type\":\"object\",\"name\":\"UnionRenderers\",\"id\":\"5eafeac3-4bc3-4908-aa58-c33cbd135af7\"},\"data\":{\"type\":\"map\",\"entries\":[[\"index\",[\"\"]],[\"top\",{\"type\":\"ndarray\",\"array\":{\"type\":\"bytes\",\"data\":\"ZmZmZmYmNUA=\"},\"shape\":[1],\"dtype\":\"float64\",\"order\":\"little\"}],[\"bottom\",{\"type\":\"ndarray\",\"array\":{\"type\":\"bytes\",\"data\":\"MzMzMzOzOkA=\"},\"shape\":[1],\"dtype\":\"float64\",\"order\":\"little\"}]]}}},\"view\":{\"type\":\"object\",\"name\":\"CDSView\",\"id\":\"1b54ffcc-6e4a-46f3-a4fb-8d8427852c66\",\"attributes\":{\"filter\":{\"type\":\"object\",\"name\":\"AllIndices\",\"id\":\"c680bb0d-e6f0-4dcb-9e88-1d0647a481f7\"}}},\"glyph\":{\"type\":\"object\",\"name\":\"VBar\",\"id\":\"163697b4-9f6d-4fb0-bead-4471269ac79f\",\"attributes\":{\"x\":{\"type\":\"field\",\"field\":\"index\"},\"width\":{\"type\":\"value\",\"value\":0.7},\"bottom\":{\"type\":\"field\",\"field\":\"bottom\"},\"top\":{\"type\":\"field\",\"field\":\"top\"},\"fill_color\":{\"type\":\"value\",\"value\":\"#30a2da\"}}},\"selection_glyph\":{\"type\":\"object\",\"name\":\"VBar\",\"id\":\"40dbd073-6f1b-4b59-8dce-efee29c31883\",\"attributes\":{\"x\":{\"type\":\"field\",\"field\":\"index\"},\"width\":{\"type\":\"value\",\"value\":0.7},\"bottom\":{\"type\":\"field\",\"field\":\"bottom\"},\"top\":{\"type\":\"field\",\"field\":\"top\"},\"line_color\":{\"type\":\"value\",\"value\":\"black\"},\"line_alpha\":{\"type\":\"value\",\"value\":1.0},\"line_width\":{\"type\":\"value\",\"value\":1},\"line_join\":{\"type\":\"value\",\"value\":\"bevel\"},\"line_cap\":{\"type\":\"value\",\"value\":\"butt\"},\"line_dash\":{\"type\":\"value\",\"value\":[]},\"line_dash_offset\":{\"type\":\"value\",\"value\":0},\"fill_color\":{\"type\":\"value\",\"value\":\"#30a2da\"},\"fill_alpha\":{\"type\":\"value\",\"value\":1.0},\"hatch_color\":{\"type\":\"value\",\"value\":\"black\"},\"hatch_alpha\":{\"type\":\"value\",\"value\":1.0},\"hatch_scale\":{\"type\":\"value\",\"value\":12.0},\"hatch_pattern\":{\"type\":\"value\",\"value\":null},\"hatch_weight\":{\"type\":\"value\",\"value\":1.0}}},\"nonselection_glyph\":{\"type\":\"object\",\"name\":\"VBar\",\"id\":\"48fea4ef-a959-4468-abb3-00bf605284ce\",\"attributes\":{\"x\":{\"type\":\"field\",\"field\":\"index\"},\"width\":{\"type\":\"value\",\"value\":0.7},\"bottom\":{\"type\":\"field\",\"field\":\"bottom\"},\"top\":{\"type\":\"field\",\"field\":\"top\"},\"line_alpha\":{\"type\":\"value\",\"value\":0.1},\"fill_color\":{\"type\":\"value\",\"value\":\"#30a2da\"},\"fill_alpha\":{\"type\":\"value\",\"value\":0.1},\"hatch_alpha\":{\"type\":\"value\",\"value\":0.1}}},\"muted_glyph\":{\"type\":\"object\",\"name\":\"VBar\",\"id\":\"387ef113-6bba-419f-8748-d5822c468a60\",\"attributes\":{\"x\":{\"type\":\"field\",\"field\":\"index\"},\"width\":{\"type\":\"value\",\"value\":0.7},\"bottom\":{\"type\":\"field\",\"field\":\"bottom\"},\"top\":{\"type\":\"field\",\"field\":\"top\"},\"line_alpha\":{\"type\":\"value\",\"value\":0.2},\"fill_color\":{\"type\":\"value\",\"value\":\"#30a2da\"},\"fill_alpha\":{\"type\":\"value\",\"value\":0.2},\"hatch_alpha\":{\"type\":\"value\",\"value\":0.2}}}}},{\"type\":\"object\",\"name\":\"GlyphRenderer\",\"id\":\"4c7c988e-71e5-4e45-bc13-778cb659f070\",\"attributes\":{\"data_source\":{\"type\":\"object\",\"name\":\"ColumnDataSource\",\"id\":\"62fe834f-b884-49a4-bcae-20041f37d8a8\",\"attributes\":{\"selected\":{\"type\":\"object\",\"name\":\"Selection\",\"id\":\"49da11e9-4a11-4803-80d4-3570b6a6dfdb\",\"attributes\":{\"indices\":[],\"line_indices\":[]}},\"selection_policy\":{\"type\":\"object\",\"name\":\"UnionRenderers\",\"id\":\"e09722b8-4f75-4e46-85ea-97874cb6da4a\"},\"data\":{\"type\":\"map\",\"entries\":[[\"index\",[\"\"]],[\"top\",{\"type\":\"ndarray\",\"array\":{\"type\":\"bytes\",\"data\":\"zczMzMzMMEA=\"},\"shape\":[1],\"dtype\":\"float64\",\"order\":\"little\"}],[\"bottom\",{\"type\":\"ndarray\",\"array\":{\"type\":\"bytes\",\"data\":\"ZmZmZmYmNUA=\"},\"shape\":[1],\"dtype\":\"float64\",\"order\":\"little\"}]]}}},\"view\":{\"type\":\"object\",\"name\":\"CDSView\",\"id\":\"e8a805f1-d3f7-4dbc-81cf-172f7f0997b6\",\"attributes\":{\"filter\":{\"type\":\"object\",\"name\":\"AllIndices\",\"id\":\"13c95826-6013-4740-95d4-ec464e2f24c6\"}}},\"glyph\":{\"type\":\"object\",\"name\":\"VBar\",\"id\":\"1c72927a-72f8-4ccc-b21d-e9a41317d679\",\"attributes\":{\"x\":{\"type\":\"field\",\"field\":\"index\"},\"width\":{\"type\":\"value\",\"value\":0.7},\"bottom\":{\"type\":\"field\",\"field\":\"bottom\"},\"top\":{\"type\":\"field\",\"field\":\"top\"},\"fill_color\":{\"type\":\"value\",\"value\":\"#30a2da\"}}},\"selection_glyph\":{\"type\":\"object\",\"name\":\"VBar\",\"id\":\"d5e16748-a708-4b3b-abba-3c8e7a636d5b\",\"attributes\":{\"x\":{\"type\":\"field\",\"field\":\"index\"},\"width\":{\"type\":\"value\",\"value\":0.7},\"bottom\":{\"type\":\"field\",\"field\":\"bottom\"},\"top\":{\"type\":\"field\",\"field\":\"top\"},\"line_color\":{\"type\":\"value\",\"value\":\"black\"},\"line_alpha\":{\"type\":\"value\",\"value\":1.0},\"line_width\":{\"type\":\"value\",\"value\":1},\"line_join\":{\"type\":\"value\",\"value\":\"bevel\"},\"line_cap\":{\"type\":\"value\",\"value\":\"butt\"},\"line_dash\":{\"type\":\"value\",\"value\":[]},\"line_dash_offset\":{\"type\":\"value\",\"value\":0},\"fill_color\":{\"type\":\"value\",\"value\":\"#30a2da\"},\"fill_alpha\":{\"type\":\"value\",\"value\":1.0},\"hatch_color\":{\"type\":\"value\",\"value\":\"black\"},\"hatch_alpha\":{\"type\":\"value\",\"value\":1.0},\"hatch_scale\":{\"type\":\"value\",\"value\":12.0},\"hatch_pattern\":{\"type\":\"value\",\"value\":null},\"hatch_weight\":{\"type\":\"value\",\"value\":1.0}}},\"nonselection_glyph\":{\"type\":\"object\",\"name\":\"VBar\",\"id\":\"b2bf0c33-fc03-40a2-9425-b9740551eb97\",\"attributes\":{\"x\":{\"type\":\"field\",\"field\":\"index\"},\"width\":{\"type\":\"value\",\"value\":0.7},\"bottom\":{\"type\":\"field\",\"field\":\"bottom\"},\"top\":{\"type\":\"field\",\"field\":\"top\"},\"line_alpha\":{\"type\":\"value\",\"value\":0.1},\"fill_color\":{\"type\":\"value\",\"value\":\"#30a2da\"},\"fill_alpha\":{\"type\":\"value\",\"value\":0.1},\"hatch_alpha\":{\"type\":\"value\",\"value\":0.1}}},\"muted_glyph\":{\"type\":\"object\",\"name\":\"VBar\",\"id\":\"76c63473-ec15-478b-b998-d8fa261b00a6\",\"attributes\":{\"x\":{\"type\":\"field\",\"field\":\"index\"},\"width\":{\"type\":\"value\",\"value\":0.7},\"bottom\":{\"type\":\"field\",\"field\":\"bottom\"},\"top\":{\"type\":\"field\",\"field\":\"top\"},\"line_alpha\":{\"type\":\"value\",\"value\":0.2},\"fill_color\":{\"type\":\"value\",\"value\":\"#30a2da\"},\"fill_alpha\":{\"type\":\"value\",\"value\":0.2},\"hatch_alpha\":{\"type\":\"value\",\"value\":0.2}}}}}],\"toolbar\":{\"type\":\"object\",\"name\":\"Toolbar\",\"id\":\"3f94caa9-4499-43ee-abf2-5f8864d94997\",\"attributes\":{\"tools\":[{\"type\":\"object\",\"name\":\"WheelZoomTool\",\"id\":\"8e40bd56-6e5d-4b52-a64d-52a208ea25cc\",\"attributes\":{\"tags\":[\"hv_created\"],\"renderers\":\"auto\",\"zoom_together\":\"none\"}},{\"type\":\"object\",\"name\":\"SaveTool\",\"id\":\"7ef4d637-3eea-4c3d-81aa-2d21a9ef1d20\"},{\"type\":\"object\",\"name\":\"PanTool\",\"id\":\"df86d71a-6565-4c54-b16e-285ddbf1384f\"},{\"type\":\"object\",\"name\":\"BoxZoomTool\",\"id\":\"5d860de2-a67f-4340-a903-ca4134cd6843\",\"attributes\":{\"overlay\":{\"type\":\"object\",\"name\":\"BoxAnnotation\",\"id\":\"76c63f5b-a25a-49ea-bbca-18f914e4d41b\",\"attributes\":{\"syncable\":false,\"line_color\":\"black\",\"line_alpha\":1.0,\"line_width\":2,\"line_dash\":[4,4],\"fill_color\":\"lightgrey\",\"fill_alpha\":0.5,\"level\":\"overlay\",\"visible\":false,\"left\":{\"type\":\"number\",\"value\":\"nan\"},\"right\":{\"type\":\"number\",\"value\":\"nan\"},\"top\":{\"type\":\"number\",\"value\":\"nan\"},\"bottom\":{\"type\":\"number\",\"value\":\"nan\"},\"left_units\":\"canvas\",\"right_units\":\"canvas\",\"top_units\":\"canvas\",\"bottom_units\":\"canvas\",\"handles\":{\"type\":\"object\",\"name\":\"BoxInteractionHandles\",\"id\":\"241f76e4-25db-4da0-90b8-800ca67fcaa5\",\"attributes\":{\"all\":{\"type\":\"object\",\"name\":\"AreaVisuals\",\"id\":\"8dea752a-6990-424e-a322-4d166224acdd\",\"attributes\":{\"fill_color\":\"white\",\"hover_fill_color\":\"lightgray\"}}}}}}}},{\"type\":\"object\",\"name\":\"ResetTool\",\"id\":\"2ad58def-ee28-4c88-81ba-654e5b04ad70\"}],\"active_drag\":{\"id\":\"df86d71a-6565-4c54-b16e-285ddbf1384f\"},\"active_scroll\":{\"id\":\"8e40bd56-6e5d-4b52-a64d-52a208ea25cc\"}}},\"left\":[{\"type\":\"object\",\"name\":\"LinearAxis\",\"id\":\"95c5dfbc-b597-4bca-97f1-16594d49b83f\",\"attributes\":{\"ticker\":{\"type\":\"object\",\"name\":\"BasicTicker\",\"id\":\"d628f277-7e5d-41b8-9540-e9c8026beaf6\",\"attributes\":{\"mantissas\":[1,2,5]}},\"formatter\":{\"type\":\"object\",\"name\":\"BasicTickFormatter\",\"id\":\"344e79e4-147d-4484-9fba-025e0fa3e598\"},\"axis_label\":\"VALUE\",\"major_label_policy\":{\"type\":\"object\",\"name\":\"AllLabels\",\"id\":\"061d4e45-e7d6-4879-926f-9bfd25dd31f7\"}}}],\"below\":[{\"type\":\"object\",\"name\":\"CategoricalAxis\",\"id\":\"3ef87312-c340-49bf-9be6-32f7411b44bb\",\"attributes\":{\"ticker\":{\"type\":\"object\",\"name\":\"CategoricalTicker\",\"id\":\"27b536a6-b3a6-490f-9c3c-814bd1e8ff1e\"},\"formatter\":{\"type\":\"object\",\"name\":\"CategoricalTickFormatter\",\"id\":\"9f399ee6-ea5a-441d-9a93-79f716069a8b\"},\"axis_label\":\"\",\"major_label_policy\":{\"type\":\"object\",\"name\":\"AllLabels\",\"id\":\"f4d51ecf-7360-4e4c-9cdd-8b191e9bab81\"}}}],\"center\":[{\"type\":\"object\",\"name\":\"Grid\",\"id\":\"5f43360a-25cb-4f61-9ecc-e135d7a36667\",\"attributes\":{\"axis\":{\"id\":\"3ef87312-c340-49bf-9be6-32f7411b44bb\"},\"grid_line_color\":null}},{\"type\":\"object\",\"name\":\"Grid\",\"id\":\"565442ae-a1cb-4f06-ae1c-84913fcb49fd\",\"attributes\":{\"dimension\":1,\"axis\":{\"id\":\"95c5dfbc-b597-4bca-97f1-16594d49b83f\"},\"grid_line_color\":null}}],\"min_border_top\":10,\"min_border_bottom\":10,\"min_border_left\":10,\"min_border_right\":10,\"output_backend\":\"webgl\"}},{\"type\":\"object\",\"name\":\"Spacer\",\"id\":\"a565f9e8-d74c-482a-a37b-915e1873ff9a\",\"attributes\":{\"name\":\"HSpacer00378\",\"stylesheets\":[\"\\n:host(.pn-loading):before, .pn-loading:before {\\n  background-color: #c3c3c3;\\n  mask-size: auto calc(min(50%, 400px));\\n  -webkit-mask-size: auto calc(min(50%, 400px));\\n}\",{\"id\":\"fc74c48f-51e3-4937-8045-f9e68b8c51e3\"},{\"id\":\"cf8594ae-c291-42a1-bf74-6c2105b502dd\"},{\"id\":\"dc86ee55-73fe-4601-b56f-999b8b90bd7a\"}],\"margin\":0,\"sizing_mode\":\"stretch_width\",\"align\":\"start\"}}]}}],\"defs\":[{\"type\":\"model\",\"name\":\"ReactiveHTML1\"},{\"type\":\"model\",\"name\":\"FlexBox1\",\"properties\":[{\"name\":\"align_content\",\"kind\":\"Any\",\"default\":\"flex-start\"},{\"name\":\"align_items\",\"kind\":\"Any\",\"default\":\"flex-start\"},{\"name\":\"flex_direction\",\"kind\":\"Any\",\"default\":\"row\"},{\"name\":\"flex_wrap\",\"kind\":\"Any\",\"default\":\"wrap\"},{\"name\":\"gap\",\"kind\":\"Any\",\"default\":\"\"},{\"name\":\"justify_content\",\"kind\":\"Any\",\"default\":\"flex-start\"}]},{\"type\":\"model\",\"name\":\"FloatPanel1\",\"properties\":[{\"name\":\"config\",\"kind\":\"Any\",\"default\":{\"type\":\"map\"}},{\"name\":\"contained\",\"kind\":\"Any\",\"default\":true},{\"name\":\"position\",\"kind\":\"Any\",\"default\":\"right-top\"},{\"name\":\"offsetx\",\"kind\":\"Any\",\"default\":null},{\"name\":\"offsety\",\"kind\":\"Any\",\"default\":null},{\"name\":\"theme\",\"kind\":\"Any\",\"default\":\"primary\"},{\"name\":\"status\",\"kind\":\"Any\",\"default\":\"normalized\"}]},{\"type\":\"model\",\"name\":\"GridStack1\",\"properties\":[{\"name\":\"mode\",\"kind\":\"Any\",\"default\":\"warn\"},{\"name\":\"ncols\",\"kind\":\"Any\",\"default\":null},{\"name\":\"nrows\",\"kind\":\"Any\",\"default\":null},{\"name\":\"allow_resize\",\"kind\":\"Any\",\"default\":true},{\"name\":\"allow_drag\",\"kind\":\"Any\",\"default\":true},{\"name\":\"state\",\"kind\":\"Any\",\"default\":[]}]},{\"type\":\"model\",\"name\":\"drag1\",\"properties\":[{\"name\":\"slider_width\",\"kind\":\"Any\",\"default\":5},{\"name\":\"slider_color\",\"kind\":\"Any\",\"default\":\"black\"},{\"name\":\"value\",\"kind\":\"Any\",\"default\":50}]},{\"type\":\"model\",\"name\":\"click1\",\"properties\":[{\"name\":\"terminal_output\",\"kind\":\"Any\",\"default\":\"\"},{\"name\":\"debug_name\",\"kind\":\"Any\",\"default\":\"\"},{\"name\":\"clears\",\"kind\":\"Any\",\"default\":0}]},{\"type\":\"model\",\"name\":\"FastWrapper1\",\"properties\":[{\"name\":\"object\",\"kind\":\"Any\",\"default\":null},{\"name\":\"style\",\"kind\":\"Any\",\"default\":null}]},{\"type\":\"model\",\"name\":\"NotificationAreaBase1\",\"properties\":[{\"name\":\"js_events\",\"kind\":\"Any\",\"default\":{\"type\":\"map\"}},{\"name\":\"position\",\"kind\":\"Any\",\"default\":\"bottom-right\"},{\"name\":\"_clear\",\"kind\":\"Any\",\"default\":0}]},{\"type\":\"model\",\"name\":\"NotificationArea1\",\"properties\":[{\"name\":\"js_events\",\"kind\":\"Any\",\"default\":{\"type\":\"map\"}},{\"name\":\"notifications\",\"kind\":\"Any\",\"default\":[]},{\"name\":\"position\",\"kind\":\"Any\",\"default\":\"bottom-right\"},{\"name\":\"_clear\",\"kind\":\"Any\",\"default\":0},{\"name\":\"types\",\"kind\":\"Any\",\"default\":[{\"type\":\"map\",\"entries\":[[\"type\",\"warning\"],[\"background\",\"#ffc107\"],[\"icon\",{\"type\":\"map\",\"entries\":[[\"className\",\"fas fa-exclamation-triangle\"],[\"tagName\",\"i\"],[\"color\",\"white\"]]}]]},{\"type\":\"map\",\"entries\":[[\"type\",\"info\"],[\"background\",\"#007bff\"],[\"icon\",{\"type\":\"map\",\"entries\":[[\"className\",\"fas fa-info-circle\"],[\"tagName\",\"i\"],[\"color\",\"white\"]]}]]}]}]},{\"type\":\"model\",\"name\":\"Notification\",\"properties\":[{\"name\":\"background\",\"kind\":\"Any\",\"default\":null},{\"name\":\"duration\",\"kind\":\"Any\",\"default\":3000},{\"name\":\"icon\",\"kind\":\"Any\",\"default\":null},{\"name\":\"message\",\"kind\":\"Any\",\"default\":\"\"},{\"name\":\"notification_type\",\"kind\":\"Any\",\"default\":null},{\"name\":\"_destroyed\",\"kind\":\"Any\",\"default\":false}]},{\"type\":\"model\",\"name\":\"TemplateActions1\",\"properties\":[{\"name\":\"open_modal\",\"kind\":\"Any\",\"default\":0},{\"name\":\"close_modal\",\"kind\":\"Any\",\"default\":0}]},{\"type\":\"model\",\"name\":\"BootstrapTemplateActions1\",\"properties\":[{\"name\":\"open_modal\",\"kind\":\"Any\",\"default\":0},{\"name\":\"close_modal\",\"kind\":\"Any\",\"default\":0}]},{\"type\":\"model\",\"name\":\"TemplateEditor1\",\"properties\":[{\"name\":\"layout\",\"kind\":\"Any\",\"default\":[]}]},{\"type\":\"model\",\"name\":\"MaterialTemplateActions1\",\"properties\":[{\"name\":\"open_modal\",\"kind\":\"Any\",\"default\":0},{\"name\":\"close_modal\",\"kind\":\"Any\",\"default\":0}]},{\"type\":\"model\",\"name\":\"ReactiveESM1\",\"properties\":[{\"name\":\"esm_constants\",\"kind\":\"Any\",\"default\":{\"type\":\"map\"}}]},{\"type\":\"model\",\"name\":\"JSComponent1\",\"properties\":[{\"name\":\"esm_constants\",\"kind\":\"Any\",\"default\":{\"type\":\"map\"}}]},{\"type\":\"model\",\"name\":\"ReactComponent1\",\"properties\":[{\"name\":\"esm_constants\",\"kind\":\"Any\",\"default\":{\"type\":\"map\"}}]},{\"type\":\"model\",\"name\":\"AnyWidgetComponent1\",\"properties\":[{\"name\":\"esm_constants\",\"kind\":\"Any\",\"default\":{\"type\":\"map\"}}]},{\"type\":\"model\",\"name\":\"request_value1\",\"properties\":[{\"name\":\"fill\",\"kind\":\"Any\",\"default\":\"none\"},{\"name\":\"_synced\",\"kind\":\"Any\",\"default\":null},{\"name\":\"_request_sync\",\"kind\":\"Any\",\"default\":0}]}]}};\n",
       "  var render_items = [{\"docid\":\"d162df54-92b0-4a50-9a71-e5267e5da012\",\"roots\":{\"e9d1189c-ee3a-440b-80b4-f4f4525a9193\":\"f00b2acc-58ce-4c19-894a-a2ae7f818d9a\"},\"root_ids\":[\"e9d1189c-ee3a-440b-80b4-f4f4525a9193\"]}];\n",
       "  var docs = Object.values(docs_json)\n",
       "  if (!docs) {\n",
       "    return\n",
       "  }\n",
       "  const py_version = docs[0].version.replace('rc', '-rc.').replace('.dev', '-dev.')\n",
       "  async function embed_document(root) {\n",
       "    var Bokeh = get_bokeh(root)\n",
       "    await Bokeh.embed.embed_items_notebook(docs_json, render_items);\n",
       "    for (const render_item of render_items) {\n",
       "      for (const root_id of render_item.root_ids) {\n",
       "\tconst id_el = document.getElementById(root_id)\n",
       "\tif (id_el.children.length && id_el.children[0].hasAttribute('data-root-id')) {\n",
       "\t  const root_el = id_el.children[0]\n",
       "\t  root_el.id = root_el.id + '-rendered'\n",
       "\t  for (const child of root_el.children) {\n",
       "            // Ensure JupyterLab does not capture keyboard shortcuts\n",
       "            // see: https://jupyterlab.readthedocs.io/en/4.1.x/extension/notebook.html#keyboard-interaction-model\n",
       "\t    child.setAttribute('data-lm-suppress-shortcuts', 'true')\n",
       "\t  }\n",
       "\t}\n",
       "      }\n",
       "    }\n",
       "  }\n",
       "  function get_bokeh(root) {\n",
       "    if (root.Bokeh === undefined) {\n",
       "      return null\n",
       "    } else if (root.Bokeh.version !== py_version) {\n",
       "      if (root.Bokeh.versions === undefined || !root.Bokeh.versions.has(py_version)) {\n",
       "\treturn null\n",
       "      }\n",
       "      return root.Bokeh.versions.get(py_version);\n",
       "    } else if (root.Bokeh.version === py_version) {\n",
       "      return root.Bokeh\n",
       "    }\n",
       "    return null\n",
       "  }\n",
       "  function is_loaded(root) {\n",
       "    var Bokeh = get_bokeh(root)\n",
       "    return (Bokeh != null && Bokeh.Panel !== undefined)\n",
       "  }\n",
       "  if (is_loaded(root)) {\n",
       "    embed_document(root);\n",
       "  } else {\n",
       "    var attempts = 0;\n",
       "    var timer = setInterval(function(root) {\n",
       "      if (is_loaded(root)) {\n",
       "        clearInterval(timer);\n",
       "        embed_document(root);\n",
       "      } else if (document.readyState == \"complete\") {\n",
       "        attempts++;\n",
       "        if (attempts > 200) {\n",
       "          clearInterval(timer);\n",
       "\t  var Bokeh = get_bokeh(root)\n",
       "\t  if (Bokeh == null || Bokeh.Panel == null) {\n",
       "            console.warn(\"Panel: ERROR: Unable to run Panel code because Bokeh or Panel library is missing\");\n",
       "\t  } else {\n",
       "\t    console.warn(\"Panel: WARNING: Attempting to render but not all required libraries could be resolved.\")\n",
       "\t    embed_document(root)\n",
       "\t  }\n",
       "        }\n",
       "      }\n",
       "    }, 25, root)\n",
       "  }\n",
       "})(window);</script>"
      ],
      "text/plain": [
       ":BoxWhisker   (VALUE)"
      ]
     },
     "execution_count": 61,
     "metadata": {
      "application/vnd.holoviews_exec.v0+json": {
       "id": "e9d1189c-ee3a-440b-80b4-f4f4525a9193"
      }
     },
     "output_type": "execute_result"
    }
   ],
   "source": [
    "# Detecting Outliers by box plot average_wage. \n",
    "avg_wage.hvplot.box(y='VALUE')"
   ]
  },
  {
   "cell_type": "code",
   "execution_count": 62,
   "metadata": {},
   "outputs": [
    {
     "data": {},
     "metadata": {},
     "output_type": "display_data"
    },
    {
     "data": {
      "application/vnd.holoviews_exec.v0+json": "",
      "text/html": [
       "<div id='2b91ecbb-bcbf-4687-8d48-14b904728c10'>\n",
       "  <div id=\"e2af4753-5cf1-4bc9-a27f-15488976a5cf\" data-root-id=\"2b91ecbb-bcbf-4687-8d48-14b904728c10\" style=\"display: contents;\"></div>\n",
       "</div>\n",
       "<script type=\"application/javascript\">(function(root) {\n",
       "  var docs_json = {\"e326d6cb-df2d-4274-87e7-71e22f53a8d5\":{\"version\":\"3.6.1\",\"title\":\"Bokeh Application\",\"roots\":[{\"type\":\"object\",\"name\":\"Row\",\"id\":\"2b91ecbb-bcbf-4687-8d48-14b904728c10\",\"attributes\":{\"name\":\"Row00451\",\"tags\":[\"embedded\"],\"stylesheets\":[\"\\n:host(.pn-loading):before, .pn-loading:before {\\n  background-color: #c3c3c3;\\n  mask-size: auto calc(min(50%, 400px));\\n  -webkit-mask-size: auto calc(min(50%, 400px));\\n}\",{\"type\":\"object\",\"name\":\"ImportedStyleSheet\",\"id\":\"2d214ea4-8716-42c3-9fe9-51119d79f342\",\"attributes\":{\"url\":\"https://cdn.holoviz.org/panel/1.5.4/dist/css/loading.css\"}},{\"type\":\"object\",\"name\":\"ImportedStyleSheet\",\"id\":\"f9a95afc-1de8-445a-9280-24dbb8adbb37\",\"attributes\":{\"url\":\"https://cdn.holoviz.org/panel/1.5.4/dist/css/listpanel.css\"}},{\"type\":\"object\",\"name\":\"ImportedStyleSheet\",\"id\":\"39db9c02-2fdd-49b9-9744-c6ad931c96b7\",\"attributes\":{\"url\":\"https://cdn.holoviz.org/panel/1.5.4/dist/bundled/theme/default.css\"}},{\"type\":\"object\",\"name\":\"ImportedStyleSheet\",\"id\":\"46302349-a67e-4ffe-9814-af4dde924315\",\"attributes\":{\"url\":\"https://cdn.holoviz.org/panel/1.5.4/dist/bundled/theme/native.css\"}}],\"min_width\":700,\"margin\":0,\"sizing_mode\":\"stretch_width\",\"align\":\"start\",\"children\":[{\"type\":\"object\",\"name\":\"Spacer\",\"id\":\"d8bf248b-c885-4828-83b1-fe3184e97d1d\",\"attributes\":{\"name\":\"HSpacer00455\",\"stylesheets\":[\"\\n:host(.pn-loading):before, .pn-loading:before {\\n  background-color: #c3c3c3;\\n  mask-size: auto calc(min(50%, 400px));\\n  -webkit-mask-size: auto calc(min(50%, 400px));\\n}\",{\"id\":\"2d214ea4-8716-42c3-9fe9-51119d79f342\"},{\"id\":\"39db9c02-2fdd-49b9-9744-c6ad931c96b7\"},{\"id\":\"46302349-a67e-4ffe-9814-af4dde924315\"}],\"margin\":0,\"sizing_mode\":\"stretch_width\",\"align\":\"start\"}},{\"type\":\"object\",\"name\":\"Figure\",\"id\":\"29279872-c016-4cc9-aecb-d2855c2c5350\",\"attributes\":{\"width\":700,\"height\":300,\"margin\":[5,10],\"sizing_mode\":\"fixed\",\"align\":\"start\",\"x_range\":{\"type\":\"object\",\"name\":\"Range1d\",\"id\":\"1575e855-232b-4e36-99d2-d54085b075de\",\"attributes\":{\"name\":\"REF_DATE\",\"tags\":[[[\"REF_DATE\",null]],[]],\"start\":1407562148571.4287,\"end\":1724437851428.5713,\"reset_start\":1407562148571.4287,\"reset_end\":1724437851428.5713}},\"y_range\":{\"type\":\"object\",\"name\":\"Range1d\",\"id\":\"077d4c5b-e656-4989-a047-3f9cdb753838\",\"attributes\":{\"name\":\"VALUE\",\"tags\":[[[\"VALUE\",null]],{\"type\":\"map\",\"entries\":[[\"invert_yaxis\",false],[\"autorange\",false]]}],\"start\":3.879999999999999,\"end\":83.32000000000001,\"reset_start\":3.879999999999999,\"reset_end\":83.32000000000001}},\"x_scale\":{\"type\":\"object\",\"name\":\"LinearScale\",\"id\":\"a0828426-1b2f-4917-b703-b60a5f2a79b5\"},\"y_scale\":{\"type\":\"object\",\"name\":\"LinearScale\",\"id\":\"97c97a59-b421-49b5-9916-748cf83bd5e5\"},\"title\":{\"type\":\"object\",\"name\":\"Title\",\"id\":\"8e2a8bcb-5121-4cb7-8387-ffe29de408a0\",\"attributes\":{\"text_color\":\"black\",\"text_font_size\":\"12pt\"}},\"renderers\":[{\"type\":\"object\",\"name\":\"GlyphRenderer\",\"id\":\"6e2f95b2-5f47-4405-bffc-93e690b03ed2\",\"attributes\":{\"data_source\":{\"type\":\"object\",\"name\":\"ColumnDataSource\",\"id\":\"e5335356-905d-4985-8870-9d2cf4d287d3\",\"attributes\":{\"selected\":{\"type\":\"object\",\"name\":\"Selection\",\"id\":\"1821f8f6-2bcf-4fd1-b34f-02fce9a776de\",\"attributes\":{\"indices\":[],\"line_indices\":[]}},\"selection_policy\":{\"type\":\"object\",\"name\":\"UnionRenderers\",\"id\":\"2ef15e16-f4d3-4914-810c-69c88ab6c9cf\"},\"data\":{\"type\":\"map\",\"entries\":[[\"REF_DATE\",{\"type\":\"ndarray\",\"array\":{\"type\":\"bytes\",\"data\":\"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\"},\"shape\":[7103],\"dtype\":\"float64\",\"order\":\"little\"}],[\"VALUE\",{\"type\":\"ndarray\",\"array\":{\"type\":\"bytes\",\"data\":\"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\"},\"shape\":[7103],\"dtype\":\"float64\",\"order\":\"little\"}]]}}},\"view\":{\"type\":\"object\",\"name\":\"CDSView\",\"id\":\"32381866-2d4e-408c-bf48-df0486fa6ff7\",\"attributes\":{\"filter\":{\"type\":\"object\",\"name\":\"AllIndices\",\"id\":\"994d10b1-1c7c-40ef-a711-c2932ca91fee\"}}},\"glyph\":{\"type\":\"object\",\"name\":\"Scatter\",\"id\":\"1dfa7a27-60a3-4be6-8154-b75adbda092e\",\"attributes\":{\"tags\":[\"apply_ranges\"],\"x\":{\"type\":\"field\",\"field\":\"REF_DATE\"},\"y\":{\"type\":\"field\",\"field\":\"VALUE\"},\"size\":{\"type\":\"value\",\"value\":5.477225575051661},\"line_color\":{\"type\":\"value\",\"value\":\"#30a2da\"},\"fill_color\":{\"type\":\"value\",\"value\":\"#30a2da\"},\"hatch_color\":{\"type\":\"value\",\"value\":\"#30a2da\"}}},\"selection_glyph\":{\"type\":\"object\",\"name\":\"Scatter\",\"id\":\"02a4ddc6-d528-4b38-b80b-d65fb8d7bf6b\",\"attributes\":{\"tags\":[\"apply_ranges\"],\"x\":{\"type\":\"field\",\"field\":\"REF_DATE\"},\"y\":{\"type\":\"field\",\"field\":\"VALUE\"},\"size\":{\"type\":\"value\",\"value\":5.477225575051661},\"angle\":{\"type\":\"value\",\"value\":0.0},\"line_color\":{\"type\":\"value\",\"value\":\"#30a2da\"},\"line_alpha\":{\"type\":\"value\",\"value\":1.0},\"line_width\":{\"type\":\"value\",\"value\":1},\"line_join\":{\"type\":\"value\",\"value\":\"bevel\"},\"line_cap\":{\"type\":\"value\",\"value\":\"butt\"},\"line_dash\":{\"type\":\"value\",\"value\":[]},\"line_dash_offset\":{\"type\":\"value\",\"value\":0},\"fill_color\":{\"type\":\"value\",\"value\":\"#30a2da\"},\"fill_alpha\":{\"type\":\"value\",\"value\":1.0},\"hatch_color\":{\"type\":\"value\",\"value\":\"#30a2da\"},\"hatch_alpha\":{\"type\":\"value\",\"value\":1.0},\"hatch_scale\":{\"type\":\"value\",\"value\":12.0},\"hatch_pattern\":{\"type\":\"value\",\"value\":null},\"hatch_weight\":{\"type\":\"value\",\"value\":1.0},\"marker\":{\"type\":\"value\",\"value\":\"circle\"}}},\"nonselection_glyph\":{\"type\":\"object\",\"name\":\"Scatter\",\"id\":\"ea09564b-beb8-4458-b41b-9ea21727d9d2\",\"attributes\":{\"tags\":[\"apply_ranges\"],\"x\":{\"type\":\"field\",\"field\":\"REF_DATE\"},\"y\":{\"type\":\"field\",\"field\":\"VALUE\"},\"size\":{\"type\":\"value\",\"value\":5.477225575051661},\"line_color\":{\"type\":\"value\",\"value\":\"#30a2da\"},\"line_alpha\":{\"type\":\"value\",\"value\":0.1},\"fill_color\":{\"type\":\"value\",\"value\":\"#30a2da\"},\"fill_alpha\":{\"type\":\"value\",\"value\":0.1},\"hatch_color\":{\"type\":\"value\",\"value\":\"#30a2da\"},\"hatch_alpha\":{\"type\":\"value\",\"value\":0.1}}},\"muted_glyph\":{\"type\":\"object\",\"name\":\"Scatter\",\"id\":\"7891ed63-0885-4343-bd94-2cf1ce62bdff\",\"attributes\":{\"tags\":[\"apply_ranges\"],\"x\":{\"type\":\"field\",\"field\":\"REF_DATE\"},\"y\":{\"type\":\"field\",\"field\":\"VALUE\"},\"size\":{\"type\":\"value\",\"value\":5.477225575051661},\"line_color\":{\"type\":\"value\",\"value\":\"#30a2da\"},\"line_alpha\":{\"type\":\"value\",\"value\":0.2},\"fill_color\":{\"type\":\"value\",\"value\":\"#30a2da\"},\"fill_alpha\":{\"type\":\"value\",\"value\":0.2},\"hatch_color\":{\"type\":\"value\",\"value\":\"#30a2da\"},\"hatch_alpha\":{\"type\":\"value\",\"value\":0.2}}}}}],\"toolbar\":{\"type\":\"object\",\"name\":\"Toolbar\",\"id\":\"6b5077b6-8286-4d88-9df5-22b88037e364\",\"attributes\":{\"tools\":[{\"type\":\"object\",\"name\":\"WheelZoomTool\",\"id\":\"a8ada11c-30ee-49ac-b24b-866b2907a0d2\",\"attributes\":{\"tags\":[\"hv_created\"],\"renderers\":\"auto\",\"zoom_together\":\"none\"}},{\"type\":\"object\",\"name\":\"HoverTool\",\"id\":\"c7828081-6ec8-4d55-bed8-378d73e9c3da\",\"attributes\":{\"tags\":[\"hv_created\"],\"renderers\":[{\"id\":\"6e2f95b2-5f47-4405-bffc-93e690b03ed2\"}],\"tooltips\":[[\"REF_DATE\",\"@{REF_DATE}{%F %T}\"],[\"VALUE\",\"@{VALUE}\"]],\"formatters\":{\"type\":\"map\",\"entries\":[[\"@{REF_DATE}\",\"datetime\"]]}}},{\"type\":\"object\",\"name\":\"SaveTool\",\"id\":\"c1fc9062-9f1a-45bf-9a63-c8f81a54fe83\"},{\"type\":\"object\",\"name\":\"PanTool\",\"id\":\"0ab65e8e-3669-4ba4-a333-ba61cb5fc2c2\"},{\"type\":\"object\",\"name\":\"BoxZoomTool\",\"id\":\"7f287269-0d26-4ad8-b0ce-317b6bc3702a\",\"attributes\":{\"overlay\":{\"type\":\"object\",\"name\":\"BoxAnnotation\",\"id\":\"1902ec9d-0d7f-4b26-8945-740683b2604d\",\"attributes\":{\"syncable\":false,\"line_color\":\"black\",\"line_alpha\":1.0,\"line_width\":2,\"line_dash\":[4,4],\"fill_color\":\"lightgrey\",\"fill_alpha\":0.5,\"level\":\"overlay\",\"visible\":false,\"left\":{\"type\":\"number\",\"value\":\"nan\"},\"right\":{\"type\":\"number\",\"value\":\"nan\"},\"top\":{\"type\":\"number\",\"value\":\"nan\"},\"bottom\":{\"type\":\"number\",\"value\":\"nan\"},\"left_units\":\"canvas\",\"right_units\":\"canvas\",\"top_units\":\"canvas\",\"bottom_units\":\"canvas\",\"handles\":{\"type\":\"object\",\"name\":\"BoxInteractionHandles\",\"id\":\"f573f293-fd40-4165-92f6-96311b4b9ef6\",\"attributes\":{\"all\":{\"type\":\"object\",\"name\":\"AreaVisuals\",\"id\":\"0d6d8f3b-1fa9-4292-9d1d-af682c6e235c\",\"attributes\":{\"fill_color\":\"white\",\"hover_fill_color\":\"lightgray\"}}}}}}}},{\"type\":\"object\",\"name\":\"ResetTool\",\"id\":\"4d3f47f8-45f6-4551-b881-c5755c656e84\"}],\"active_drag\":{\"id\":\"0ab65e8e-3669-4ba4-a333-ba61cb5fc2c2\"},\"active_scroll\":{\"id\":\"a8ada11c-30ee-49ac-b24b-866b2907a0d2\"}}},\"left\":[{\"type\":\"object\",\"name\":\"LinearAxis\",\"id\":\"ce41cff9-9939-45b0-b8af-454b5438be14\",\"attributes\":{\"ticker\":{\"type\":\"object\",\"name\":\"BasicTicker\",\"id\":\"a230cfd0-1c08-420d-8678-57e75ba8d571\",\"attributes\":{\"mantissas\":[1,2,5]}},\"formatter\":{\"type\":\"object\",\"name\":\"BasicTickFormatter\",\"id\":\"f34e027e-fb9a-4ec8-9c57-61b70cfef748\"},\"axis_label\":\"VALUE\",\"major_label_policy\":{\"type\":\"object\",\"name\":\"AllLabels\",\"id\":\"bb55167e-c669-4e89-a795-63640b454f6f\"}}}],\"below\":[{\"type\":\"object\",\"name\":\"DatetimeAxis\",\"id\":\"bae1abc4-a948-4d4b-812d-0d9ff18c83b4\",\"attributes\":{\"ticker\":{\"type\":\"object\",\"name\":\"DatetimeTicker\",\"id\":\"70c3bf5b-e8c9-4bfb-86fc-811bb5ca25ea\",\"attributes\":{\"num_minor_ticks\":5,\"tickers\":[{\"type\":\"object\",\"name\":\"AdaptiveTicker\",\"id\":\"7fd0a7c8-2cbe-4041-93d3-ea2b73f4174c\",\"attributes\":{\"num_minor_ticks\":0,\"mantissas\":[1,2,5],\"max_interval\":500.0}},{\"type\":\"object\",\"name\":\"AdaptiveTicker\",\"id\":\"6ed9356e-8546-4ce7-8e52-60c0b0257f14\",\"attributes\":{\"num_minor_ticks\":0,\"base\":60,\"mantissas\":[1,2,5,10,15,20,30],\"min_interval\":1000.0,\"max_interval\":1800000.0}},{\"type\":\"object\",\"name\":\"AdaptiveTicker\",\"id\":\"36022f7b-51a2-423c-8c8e-51b357dd270a\",\"attributes\":{\"num_minor_ticks\":0,\"base\":24,\"mantissas\":[1,2,4,6,8,12],\"min_interval\":3600000.0,\"max_interval\":43200000.0}},{\"type\":\"object\",\"name\":\"DaysTicker\",\"id\":\"69ca5bc8-9226-4790-a6b8-863828c5ee55\",\"attributes\":{\"days\":[1,2,3,4,5,6,7,8,9,10,11,12,13,14,15,16,17,18,19,20,21,22,23,24,25,26,27,28,29,30,31]}},{\"type\":\"object\",\"name\":\"DaysTicker\",\"id\":\"c1a16b8c-f333-4907-ba8e-e4a1f56247df\",\"attributes\":{\"days\":[1,4,7,10,13,16,19,22,25,28]}},{\"type\":\"object\",\"name\":\"DaysTicker\",\"id\":\"af8ce182-167f-4dcd-8e28-273789391e22\",\"attributes\":{\"days\":[1,8,15,22]}},{\"type\":\"object\",\"name\":\"DaysTicker\",\"id\":\"e5f6fe3c-5adb-4d60-b78b-53272d354994\",\"attributes\":{\"days\":[1,15]}},{\"type\":\"object\",\"name\":\"MonthsTicker\",\"id\":\"b08e22bd-09dd-45ad-bb31-d1f4c39bd8ba\",\"attributes\":{\"months\":[0,1,2,3,4,5,6,7,8,9,10,11]}},{\"type\":\"object\",\"name\":\"MonthsTicker\",\"id\":\"87e359e1-999a-46ab-b7e7-2e06bad423fc\",\"attributes\":{\"months\":[0,2,4,6,8,10]}},{\"type\":\"object\",\"name\":\"MonthsTicker\",\"id\":\"bbd147f2-bd2f-439c-b732-35256fc7dc19\",\"attributes\":{\"months\":[0,4,8]}},{\"type\":\"object\",\"name\":\"MonthsTicker\",\"id\":\"d35fe4b9-e3e6-48d9-b9a4-5d78e55e610b\",\"attributes\":{\"months\":[0,6]}},{\"type\":\"object\",\"name\":\"YearsTicker\",\"id\":\"56ffa348-27ff-42fe-ae29-ec2da636968d\"}]}},\"formatter\":{\"type\":\"object\",\"name\":\"DatetimeTickFormatter\",\"id\":\"7b0c065d-3990-41b2-b54d-4ca9c8d0eaf9\"},\"axis_label\":\"REF_DATE\",\"major_label_policy\":{\"type\":\"object\",\"name\":\"AllLabels\",\"id\":\"9107b317-f9d5-4bb3-abf7-0bcc360ab7d9\"}}}],\"center\":[{\"type\":\"object\",\"name\":\"Grid\",\"id\":\"114ef9bc-aaf8-4996-9d0d-4f21df8e19c7\",\"attributes\":{\"axis\":{\"id\":\"bae1abc4-a948-4d4b-812d-0d9ff18c83b4\"},\"grid_line_color\":null}},{\"type\":\"object\",\"name\":\"Grid\",\"id\":\"e938eb9c-ad4c-4b8d-99ce-5408b3f497a9\",\"attributes\":{\"dimension\":1,\"axis\":{\"id\":\"ce41cff9-9939-45b0-b8af-454b5438be14\"},\"grid_line_color\":null}}],\"min_border_top\":10,\"min_border_bottom\":10,\"min_border_left\":10,\"min_border_right\":10,\"output_backend\":\"webgl\"}},{\"type\":\"object\",\"name\":\"Spacer\",\"id\":\"ce5e1464-cd26-4536-9f78-85e7521547bc\",\"attributes\":{\"name\":\"HSpacer00456\",\"stylesheets\":[\"\\n:host(.pn-loading):before, .pn-loading:before {\\n  background-color: #c3c3c3;\\n  mask-size: auto calc(min(50%, 400px));\\n  -webkit-mask-size: auto calc(min(50%, 400px));\\n}\",{\"id\":\"2d214ea4-8716-42c3-9fe9-51119d79f342\"},{\"id\":\"39db9c02-2fdd-49b9-9744-c6ad931c96b7\"},{\"id\":\"46302349-a67e-4ffe-9814-af4dde924315\"}],\"margin\":0,\"sizing_mode\":\"stretch_width\",\"align\":\"start\"}}]}}],\"defs\":[{\"type\":\"model\",\"name\":\"ReactiveHTML1\"},{\"type\":\"model\",\"name\":\"FlexBox1\",\"properties\":[{\"name\":\"align_content\",\"kind\":\"Any\",\"default\":\"flex-start\"},{\"name\":\"align_items\",\"kind\":\"Any\",\"default\":\"flex-start\"},{\"name\":\"flex_direction\",\"kind\":\"Any\",\"default\":\"row\"},{\"name\":\"flex_wrap\",\"kind\":\"Any\",\"default\":\"wrap\"},{\"name\":\"gap\",\"kind\":\"Any\",\"default\":\"\"},{\"name\":\"justify_content\",\"kind\":\"Any\",\"default\":\"flex-start\"}]},{\"type\":\"model\",\"name\":\"FloatPanel1\",\"properties\":[{\"name\":\"config\",\"kind\":\"Any\",\"default\":{\"type\":\"map\"}},{\"name\":\"contained\",\"kind\":\"Any\",\"default\":true},{\"name\":\"position\",\"kind\":\"Any\",\"default\":\"right-top\"},{\"name\":\"offsetx\",\"kind\":\"Any\",\"default\":null},{\"name\":\"offsety\",\"kind\":\"Any\",\"default\":null},{\"name\":\"theme\",\"kind\":\"Any\",\"default\":\"primary\"},{\"name\":\"status\",\"kind\":\"Any\",\"default\":\"normalized\"}]},{\"type\":\"model\",\"name\":\"GridStack1\",\"properties\":[{\"name\":\"mode\",\"kind\":\"Any\",\"default\":\"warn\"},{\"name\":\"ncols\",\"kind\":\"Any\",\"default\":null},{\"name\":\"nrows\",\"kind\":\"Any\",\"default\":null},{\"name\":\"allow_resize\",\"kind\":\"Any\",\"default\":true},{\"name\":\"allow_drag\",\"kind\":\"Any\",\"default\":true},{\"name\":\"state\",\"kind\":\"Any\",\"default\":[]}]},{\"type\":\"model\",\"name\":\"drag1\",\"properties\":[{\"name\":\"slider_width\",\"kind\":\"Any\",\"default\":5},{\"name\":\"slider_color\",\"kind\":\"Any\",\"default\":\"black\"},{\"name\":\"value\",\"kind\":\"Any\",\"default\":50}]},{\"type\":\"model\",\"name\":\"click1\",\"properties\":[{\"name\":\"terminal_output\",\"kind\":\"Any\",\"default\":\"\"},{\"name\":\"debug_name\",\"kind\":\"Any\",\"default\":\"\"},{\"name\":\"clears\",\"kind\":\"Any\",\"default\":0}]},{\"type\":\"model\",\"name\":\"FastWrapper1\",\"properties\":[{\"name\":\"object\",\"kind\":\"Any\",\"default\":null},{\"name\":\"style\",\"kind\":\"Any\",\"default\":null}]},{\"type\":\"model\",\"name\":\"NotificationAreaBase1\",\"properties\":[{\"name\":\"js_events\",\"kind\":\"Any\",\"default\":{\"type\":\"map\"}},{\"name\":\"position\",\"kind\":\"Any\",\"default\":\"bottom-right\"},{\"name\":\"_clear\",\"kind\":\"Any\",\"default\":0}]},{\"type\":\"model\",\"name\":\"NotificationArea1\",\"properties\":[{\"name\":\"js_events\",\"kind\":\"Any\",\"default\":{\"type\":\"map\"}},{\"name\":\"notifications\",\"kind\":\"Any\",\"default\":[]},{\"name\":\"position\",\"kind\":\"Any\",\"default\":\"bottom-right\"},{\"name\":\"_clear\",\"kind\":\"Any\",\"default\":0},{\"name\":\"types\",\"kind\":\"Any\",\"default\":[{\"type\":\"map\",\"entries\":[[\"type\",\"warning\"],[\"background\",\"#ffc107\"],[\"icon\",{\"type\":\"map\",\"entries\":[[\"className\",\"fas fa-exclamation-triangle\"],[\"tagName\",\"i\"],[\"color\",\"white\"]]}]]},{\"type\":\"map\",\"entries\":[[\"type\",\"info\"],[\"background\",\"#007bff\"],[\"icon\",{\"type\":\"map\",\"entries\":[[\"className\",\"fas fa-info-circle\"],[\"tagName\",\"i\"],[\"color\",\"white\"]]}]]}]}]},{\"type\":\"model\",\"name\":\"Notification\",\"properties\":[{\"name\":\"background\",\"kind\":\"Any\",\"default\":null},{\"name\":\"duration\",\"kind\":\"Any\",\"default\":3000},{\"name\":\"icon\",\"kind\":\"Any\",\"default\":null},{\"name\":\"message\",\"kind\":\"Any\",\"default\":\"\"},{\"name\":\"notification_type\",\"kind\":\"Any\",\"default\":null},{\"name\":\"_destroyed\",\"kind\":\"Any\",\"default\":false}]},{\"type\":\"model\",\"name\":\"TemplateActions1\",\"properties\":[{\"name\":\"open_modal\",\"kind\":\"Any\",\"default\":0},{\"name\":\"close_modal\",\"kind\":\"Any\",\"default\":0}]},{\"type\":\"model\",\"name\":\"BootstrapTemplateActions1\",\"properties\":[{\"name\":\"open_modal\",\"kind\":\"Any\",\"default\":0},{\"name\":\"close_modal\",\"kind\":\"Any\",\"default\":0}]},{\"type\":\"model\",\"name\":\"TemplateEditor1\",\"properties\":[{\"name\":\"layout\",\"kind\":\"Any\",\"default\":[]}]},{\"type\":\"model\",\"name\":\"MaterialTemplateActions1\",\"properties\":[{\"name\":\"open_modal\",\"kind\":\"Any\",\"default\":0},{\"name\":\"close_modal\",\"kind\":\"Any\",\"default\":0}]},{\"type\":\"model\",\"name\":\"ReactiveESM1\",\"properties\":[{\"name\":\"esm_constants\",\"kind\":\"Any\",\"default\":{\"type\":\"map\"}}]},{\"type\":\"model\",\"name\":\"JSComponent1\",\"properties\":[{\"name\":\"esm_constants\",\"kind\":\"Any\",\"default\":{\"type\":\"map\"}}]},{\"type\":\"model\",\"name\":\"ReactComponent1\",\"properties\":[{\"name\":\"esm_constants\",\"kind\":\"Any\",\"default\":{\"type\":\"map\"}}]},{\"type\":\"model\",\"name\":\"AnyWidgetComponent1\",\"properties\":[{\"name\":\"esm_constants\",\"kind\":\"Any\",\"default\":{\"type\":\"map\"}}]},{\"type\":\"model\",\"name\":\"request_value1\",\"properties\":[{\"name\":\"fill\",\"kind\":\"Any\",\"default\":\"none\"},{\"name\":\"_synced\",\"kind\":\"Any\",\"default\":null},{\"name\":\"_request_sync\",\"kind\":\"Any\",\"default\":0}]}]}};\n",
       "  var render_items = [{\"docid\":\"e326d6cb-df2d-4274-87e7-71e22f53a8d5\",\"roots\":{\"2b91ecbb-bcbf-4687-8d48-14b904728c10\":\"e2af4753-5cf1-4bc9-a27f-15488976a5cf\"},\"root_ids\":[\"2b91ecbb-bcbf-4687-8d48-14b904728c10\"]}];\n",
       "  var docs = Object.values(docs_json)\n",
       "  if (!docs) {\n",
       "    return\n",
       "  }\n",
       "  const py_version = docs[0].version.replace('rc', '-rc.').replace('.dev', '-dev.')\n",
       "  async function embed_document(root) {\n",
       "    var Bokeh = get_bokeh(root)\n",
       "    await Bokeh.embed.embed_items_notebook(docs_json, render_items);\n",
       "    for (const render_item of render_items) {\n",
       "      for (const root_id of render_item.root_ids) {\n",
       "\tconst id_el = document.getElementById(root_id)\n",
       "\tif (id_el.children.length && id_el.children[0].hasAttribute('data-root-id')) {\n",
       "\t  const root_el = id_el.children[0]\n",
       "\t  root_el.id = root_el.id + '-rendered'\n",
       "\t  for (const child of root_el.children) {\n",
       "            // Ensure JupyterLab does not capture keyboard shortcuts\n",
       "            // see: https://jupyterlab.readthedocs.io/en/4.1.x/extension/notebook.html#keyboard-interaction-model\n",
       "\t    child.setAttribute('data-lm-suppress-shortcuts', 'true')\n",
       "\t  }\n",
       "\t}\n",
       "      }\n",
       "    }\n",
       "  }\n",
       "  function get_bokeh(root) {\n",
       "    if (root.Bokeh === undefined) {\n",
       "      return null\n",
       "    } else if (root.Bokeh.version !== py_version) {\n",
       "      if (root.Bokeh.versions === undefined || !root.Bokeh.versions.has(py_version)) {\n",
       "\treturn null\n",
       "      }\n",
       "      return root.Bokeh.versions.get(py_version);\n",
       "    } else if (root.Bokeh.version === py_version) {\n",
       "      return root.Bokeh\n",
       "    }\n",
       "    return null\n",
       "  }\n",
       "  function is_loaded(root) {\n",
       "    var Bokeh = get_bokeh(root)\n",
       "    return (Bokeh != null && Bokeh.Panel !== undefined)\n",
       "  }\n",
       "  if (is_loaded(root)) {\n",
       "    embed_document(root);\n",
       "  } else {\n",
       "    var attempts = 0;\n",
       "    var timer = setInterval(function(root) {\n",
       "      if (is_loaded(root)) {\n",
       "        clearInterval(timer);\n",
       "        embed_document(root);\n",
       "      } else if (document.readyState == \"complete\") {\n",
       "        attempts++;\n",
       "        if (attempts > 200) {\n",
       "          clearInterval(timer);\n",
       "\t  var Bokeh = get_bokeh(root)\n",
       "\t  if (Bokeh == null || Bokeh.Panel == null) {\n",
       "            console.warn(\"Panel: ERROR: Unable to run Panel code because Bokeh or Panel library is missing\");\n",
       "\t  } else {\n",
       "\t    console.warn(\"Panel: WARNING: Attempting to render but not all required libraries could be resolved.\")\n",
       "\t    embed_document(root)\n",
       "\t  }\n",
       "        }\n",
       "      }\n",
       "    }, 25, root)\n",
       "  }\n",
       "})(window);</script>"
      ],
      "text/plain": [
       ":Scatter   [REF_DATE]   (VALUE)"
      ]
     },
     "execution_count": 62,
     "metadata": {
      "application/vnd.holoviews_exec.v0+json": {
       "id": "2b91ecbb-bcbf-4687-8d48-14b904728c10"
      }
     },
     "output_type": "execute_result"
    }
   ],
   "source": [
    "# Ploting average wage\n",
    "avg_wage['REF_DATE'] = pd.to_datetime(avg_wage['REF_DATE'], format='%Y-%m')\n",
    "avg_wage.hvplot(x='REF_DATE', y='VALUE', kind='scatter')"
   ]
  },
  {
   "cell_type": "code",
   "execution_count": 65,
   "metadata": {},
   "outputs": [
    {
     "data": {},
     "metadata": {},
     "output_type": "display_data"
    },
    {
     "data": {
      "application/vnd.holoviews_exec.v0+json": "",
      "text/html": [
       "<div id='02f7c3d1-4b09-4c4b-8b83-b6bce973be2c'>\n",
       "  <div id=\"c63a4a41-9552-4a1c-a3f4-4bd78ddcd0c5\" data-root-id=\"02f7c3d1-4b09-4c4b-8b83-b6bce973be2c\" style=\"display: contents;\"></div>\n",
       "</div>\n",
       "<script type=\"application/javascript\">(function(root) {\n",
       "  var docs_json = {\"d19de98d-bd5f-4a75-9a78-2ee36d58db43\":{\"version\":\"3.6.1\",\"title\":\"Bokeh Application\",\"roots\":[{\"type\":\"object\",\"name\":\"Row\",\"id\":\"02f7c3d1-4b09-4c4b-8b83-b6bce973be2c\",\"attributes\":{\"name\":\"Row00502\",\"tags\":[\"embedded\"],\"stylesheets\":[\"\\n:host(.pn-loading):before, .pn-loading:before {\\n  background-color: #c3c3c3;\\n  mask-size: auto calc(min(50%, 400px));\\n  -webkit-mask-size: auto calc(min(50%, 400px));\\n}\",{\"type\":\"object\",\"name\":\"ImportedStyleSheet\",\"id\":\"fb6936f1-5f78-4a2a-9775-337547c2bf42\",\"attributes\":{\"url\":\"https://cdn.holoviz.org/panel/1.5.4/dist/css/loading.css\"}},{\"type\":\"object\",\"name\":\"ImportedStyleSheet\",\"id\":\"5eade01d-940a-487f-98b7-9ec11cd71b66\",\"attributes\":{\"url\":\"https://cdn.holoviz.org/panel/1.5.4/dist/css/listpanel.css\"}},{\"type\":\"object\",\"name\":\"ImportedStyleSheet\",\"id\":\"9378ed4a-1ad2-4168-adae-95805faca5d3\",\"attributes\":{\"url\":\"https://cdn.holoviz.org/panel/1.5.4/dist/bundled/theme/default.css\"}},{\"type\":\"object\",\"name\":\"ImportedStyleSheet\",\"id\":\"6affb370-285a-4d19-8b23-059b58bd671d\",\"attributes\":{\"url\":\"https://cdn.holoviz.org/panel/1.5.4/dist/bundled/theme/native.css\"}}],\"min_width\":700,\"margin\":0,\"sizing_mode\":\"stretch_width\",\"align\":\"start\",\"children\":[{\"type\":\"object\",\"name\":\"Spacer\",\"id\":\"8084bc65-9d1f-4e26-9d90-13e79d847031\",\"attributes\":{\"name\":\"HSpacer00506\",\"stylesheets\":[\"\\n:host(.pn-loading):before, .pn-loading:before {\\n  background-color: #c3c3c3;\\n  mask-size: auto calc(min(50%, 400px));\\n  -webkit-mask-size: auto calc(min(50%, 400px));\\n}\",{\"id\":\"fb6936f1-5f78-4a2a-9775-337547c2bf42\"},{\"id\":\"9378ed4a-1ad2-4168-adae-95805faca5d3\"},{\"id\":\"6affb370-285a-4d19-8b23-059b58bd671d\"}],\"margin\":0,\"sizing_mode\":\"stretch_width\",\"align\":\"start\"}},{\"type\":\"object\",\"name\":\"Figure\",\"id\":\"e5ddb020-65a1-43ff-a814-4998bb9c3d37\",\"attributes\":{\"width\":700,\"height\":300,\"margin\":[5,10],\"sizing_mode\":\"fixed\",\"align\":\"start\",\"x_range\":{\"type\":\"object\",\"name\":\"Range1d\",\"id\":\"33e72afa-959a-4419-beea-0b5d7d6ead0d\",\"attributes\":{\"name\":\"REF_DATE\",\"tags\":[[[\"REF_DATE\",null]],[]],\"start\":1420070400000.0,\"end\":1711929600000.0,\"reset_start\":1420070400000.0,\"reset_end\":1711929600000.0}},\"y_range\":{\"type\":\"object\",\"name\":\"Range1d\",\"id\":\"4e61f4af-3b70-47d5-b61f-9846e656b8b4\",\"attributes\":{\"name\":\"VALUE\",\"tags\":[[[\"VALUE\",null]],{\"type\":\"map\",\"entries\":[[\"invert_yaxis\",false],[\"autorange\",false]]}],\"start\":17.98931814707231,\"end\":27.23362941446262,\"reset_start\":17.98931814707231,\"reset_end\":27.23362941446262}},\"x_scale\":{\"type\":\"object\",\"name\":\"LinearScale\",\"id\":\"598b1710-91fa-4b66-8f05-236aeb4bb6f5\"},\"y_scale\":{\"type\":\"object\",\"name\":\"LinearScale\",\"id\":\"d5a07ebb-2d9a-4dca-9c79-6b0511465320\"},\"title\":{\"type\":\"object\",\"name\":\"Title\",\"id\":\"39fe65b7-be73-44c1-8052-5e0046458187\",\"attributes\":{\"text\":\"Average Wage Over Time\",\"text_color\":\"black\",\"text_font_size\":\"12pt\"}},\"renderers\":[{\"type\":\"object\",\"name\":\"GlyphRenderer\",\"id\":\"63ef2d8d-0518-4215-b877-5fd53ab884c2\",\"attributes\":{\"data_source\":{\"type\":\"object\",\"name\":\"ColumnDataSource\",\"id\":\"412ec31f-7e4f-429c-8eac-ec22cf52865e\",\"attributes\":{\"selected\":{\"type\":\"object\",\"name\":\"Selection\",\"id\":\"ce07712e-944c-45e9-b6f5-64c494dfc379\",\"attributes\":{\"indices\":[],\"line_indices\":[]}},\"selection_policy\":{\"type\":\"object\",\"name\":\"UnionRenderers\",\"id\":\"afb71889-a04b-4991-9e95-80e147c696e9\"},\"data\":{\"type\":\"map\",\"entries\":[[\"REF_DATE\",{\"type\":\"ndarray\",\"array\":{\"type\":\"bytes\",\"data\":\"AAAAqyyqdEIAAIBwJMd0QgAAwJtu5HRCAADALAsCdUIAAMC9px91QgAAAOnxPHVCAABAFDxadUIAAECl2Hd1QgAAQDZ1lXVCAADA+2yydUIAAAAnt891QgAAALhT7XVCAAAASfAKdkIAAIAO6Cd2QgAAwDkyRXZCAADAys5idkIAAMBba4B2QgAAQCFjnXZCAACATK26dkIAAIDdSdh2QgAAgG7m9XZCAAAAVhdOd0IAAADns2t3QgAAgKyriHdCAADA1/Wld0IAAMBoksN3QgAAwPku4XdCAABAvyb+d0IAAIDqcBt4QgAAgHsNOXhCAACADKpWeEIAAADSoXN4QgAAQP3rkHhCAABAjoiueEIAAEAfJcx4QgAAgEpv6XhC\"},\"shape\":[36],\"dtype\":\"float64\",\"order\":\"little\"}],[\"VALUE\",{\"type\":\"ndarray\",\"array\":{\"type\":\"bytes\",\"data\":\"gqMnOHrCMkBCL/RCL8wzQL4RBSadGjRAWFKU2+B+NEAruY6ulugzQFKFASUv2zNAOz2c+PW2NEBRN4OWHU81QO/u7u7uzDRAKTrZGUQdNEDHO6pZf4Y0QGIgR0uwHzVATmIQWDkENUAj2/l+agQ1QLHkF0t+8TRAbpQvnE54NUBLzVJ26es1QKA/gKrj8jRARb2MxGq4NUABLpKzvtc1QML/3neuLzZAy8vLy8vLNkBqqo98k5E2QB9DJ3w8bDZA3d3d3d3WNkAs9hy4JDc3QECUYtGyijdAaG6n8uiAN0AGOUv21zo4QBqCFg8pjjhAkuCtMQ4kOUAAAAAAAAA5QL5d0EZSUTlAdOA935h2OkCf1LPBAGs6QPYLsaI0njlA\"},\"shape\":[36],\"dtype\":\"float64\",\"order\":\"little\"}]]}}},\"view\":{\"type\":\"object\",\"name\":\"CDSView\",\"id\":\"741a003a-2ca7-47ec-916a-7a0d8476acd1\",\"attributes\":{\"filter\":{\"type\":\"object\",\"name\":\"AllIndices\",\"id\":\"4ea0ec74-494c-42bf-a558-563f58263747\"}}},\"glyph\":{\"type\":\"object\",\"name\":\"Line\",\"id\":\"5af08852-8cee-4e97-8b15-c8d7625b3b64\",\"attributes\":{\"tags\":[\"apply_ranges\"],\"x\":{\"type\":\"field\",\"field\":\"REF_DATE\"},\"y\":{\"type\":\"field\",\"field\":\"VALUE\"},\"line_color\":\"#30a2da\",\"line_width\":2}},\"selection_glyph\":{\"type\":\"object\",\"name\":\"Line\",\"id\":\"d11f87ef-f423-40a8-bac4-ea2d6c6be221\",\"attributes\":{\"tags\":[\"apply_ranges\"],\"x\":{\"type\":\"field\",\"field\":\"REF_DATE\"},\"y\":{\"type\":\"field\",\"field\":\"VALUE\"},\"line_color\":\"#30a2da\",\"line_width\":2}},\"nonselection_glyph\":{\"type\":\"object\",\"name\":\"Line\",\"id\":\"728cc0c2-4310-445f-a3d6-c21711c20f08\",\"attributes\":{\"tags\":[\"apply_ranges\"],\"x\":{\"type\":\"field\",\"field\":\"REF_DATE\"},\"y\":{\"type\":\"field\",\"field\":\"VALUE\"},\"line_color\":\"#30a2da\",\"line_alpha\":0.1,\"line_width\":2}},\"muted_glyph\":{\"type\":\"object\",\"name\":\"Line\",\"id\":\"7edd0dde-196f-4912-9a6c-34a0b15cd922\",\"attributes\":{\"tags\":[\"apply_ranges\"],\"x\":{\"type\":\"field\",\"field\":\"REF_DATE\"},\"y\":{\"type\":\"field\",\"field\":\"VALUE\"},\"line_color\":\"#30a2da\",\"line_alpha\":0.2,\"line_width\":2}}}}],\"toolbar\":{\"type\":\"object\",\"name\":\"Toolbar\",\"id\":\"228c46fc-15a2-4ff8-9971-c8bd8f3ac1df\",\"attributes\":{\"tools\":[{\"type\":\"object\",\"name\":\"WheelZoomTool\",\"id\":\"b0d645f1-a309-40a4-b6fe-c64f7824869b\",\"attributes\":{\"tags\":[\"hv_created\"],\"renderers\":\"auto\",\"zoom_together\":\"none\"}},{\"type\":\"object\",\"name\":\"HoverTool\",\"id\":\"02d1baa4-c16e-4792-af1f-6154f32d596e\",\"attributes\":{\"tags\":[\"hv_created\"],\"renderers\":[{\"id\":\"63ef2d8d-0518-4215-b877-5fd53ab884c2\"}],\"tooltips\":[[\"REF_DATE\",\"@{REF_DATE}{%F %T}\"],[\"VALUE\",\"@{VALUE}\"]],\"formatters\":{\"type\":\"map\",\"entries\":[[\"@{REF_DATE}\",\"datetime\"]]}}},{\"type\":\"object\",\"name\":\"SaveTool\",\"id\":\"2411cb3d-22fa-42f8-9813-889183d40334\"},{\"type\":\"object\",\"name\":\"PanTool\",\"id\":\"4d399fd8-ce5d-4d2d-bebd-5282860649a8\"},{\"type\":\"object\",\"name\":\"BoxZoomTool\",\"id\":\"5fd9a68d-d4f3-420c-b3e0-c954467aa847\",\"attributes\":{\"overlay\":{\"type\":\"object\",\"name\":\"BoxAnnotation\",\"id\":\"5266c3ba-e24c-4d88-87f3-4fcea477d3f2\",\"attributes\":{\"syncable\":false,\"line_color\":\"black\",\"line_alpha\":1.0,\"line_width\":2,\"line_dash\":[4,4],\"fill_color\":\"lightgrey\",\"fill_alpha\":0.5,\"level\":\"overlay\",\"visible\":false,\"left\":{\"type\":\"number\",\"value\":\"nan\"},\"right\":{\"type\":\"number\",\"value\":\"nan\"},\"top\":{\"type\":\"number\",\"value\":\"nan\"},\"bottom\":{\"type\":\"number\",\"value\":\"nan\"},\"left_units\":\"canvas\",\"right_units\":\"canvas\",\"top_units\":\"canvas\",\"bottom_units\":\"canvas\",\"handles\":{\"type\":\"object\",\"name\":\"BoxInteractionHandles\",\"id\":\"6f89b015-ab67-41ce-b19b-b4c247a08acb\",\"attributes\":{\"all\":{\"type\":\"object\",\"name\":\"AreaVisuals\",\"id\":\"535ae5c9-4066-4881-a71e-da7eb951fbf2\",\"attributes\":{\"fill_color\":\"white\",\"hover_fill_color\":\"lightgray\"}}}}}}}},{\"type\":\"object\",\"name\":\"ResetTool\",\"id\":\"a7043047-da11-4b4d-8cd1-bb99b7abace3\"}],\"active_drag\":{\"id\":\"4d399fd8-ce5d-4d2d-bebd-5282860649a8\"},\"active_scroll\":{\"id\":\"b0d645f1-a309-40a4-b6fe-c64f7824869b\"}}},\"left\":[{\"type\":\"object\",\"name\":\"LinearAxis\",\"id\":\"b5d0f413-9df2-48cf-b8ee-337f25617d6e\",\"attributes\":{\"ticker\":{\"type\":\"object\",\"name\":\"BasicTicker\",\"id\":\"172a33db-0eb7-4937-87f3-0bd5153720c3\",\"attributes\":{\"mantissas\":[1,2,5]}},\"formatter\":{\"type\":\"object\",\"name\":\"BasicTickFormatter\",\"id\":\"e1739b93-5668-487c-9c3f-6d828536f69f\"},\"axis_label\":\"\",\"major_label_policy\":{\"type\":\"object\",\"name\":\"AllLabels\",\"id\":\"f78343c3-22f8-41a0-bbab-297473afe275\"}}}],\"below\":[{\"type\":\"object\",\"name\":\"DatetimeAxis\",\"id\":\"96ea5917-1e35-4716-b12b-0860f7efa520\",\"attributes\":{\"ticker\":{\"type\":\"object\",\"name\":\"DatetimeTicker\",\"id\":\"e7de5b29-3527-4708-bb86-53e8387a5573\",\"attributes\":{\"num_minor_ticks\":5,\"tickers\":[{\"type\":\"object\",\"name\":\"AdaptiveTicker\",\"id\":\"52220c43-9096-4b2e-ab22-4b960df5ab43\",\"attributes\":{\"num_minor_ticks\":0,\"mantissas\":[1,2,5],\"max_interval\":500.0}},{\"type\":\"object\",\"name\":\"AdaptiveTicker\",\"id\":\"fd58e597-abc5-42ca-81ec-2b43312fda76\",\"attributes\":{\"num_minor_ticks\":0,\"base\":60,\"mantissas\":[1,2,5,10,15,20,30],\"min_interval\":1000.0,\"max_interval\":1800000.0}},{\"type\":\"object\",\"name\":\"AdaptiveTicker\",\"id\":\"d3b32af6-afa0-4fa6-bb6f-6c5bea650d45\",\"attributes\":{\"num_minor_ticks\":0,\"base\":24,\"mantissas\":[1,2,4,6,8,12],\"min_interval\":3600000.0,\"max_interval\":43200000.0}},{\"type\":\"object\",\"name\":\"DaysTicker\",\"id\":\"dd10fc3c-678f-46f0-9928-31f70f42d671\",\"attributes\":{\"days\":[1,2,3,4,5,6,7,8,9,10,11,12,13,14,15,16,17,18,19,20,21,22,23,24,25,26,27,28,29,30,31]}},{\"type\":\"object\",\"name\":\"DaysTicker\",\"id\":\"62da461c-4a90-49d0-954b-682aa495e10b\",\"attributes\":{\"days\":[1,4,7,10,13,16,19,22,25,28]}},{\"type\":\"object\",\"name\":\"DaysTicker\",\"id\":\"4ac47446-cf9b-4a14-8c5f-8772c73f4621\",\"attributes\":{\"days\":[1,8,15,22]}},{\"type\":\"object\",\"name\":\"DaysTicker\",\"id\":\"17554aba-e198-453b-8d1c-1732750afa4d\",\"attributes\":{\"days\":[1,15]}},{\"type\":\"object\",\"name\":\"MonthsTicker\",\"id\":\"81812399-4b4b-4e0e-abad-b721e8c02014\",\"attributes\":{\"months\":[0,1,2,3,4,5,6,7,8,9,10,11]}},{\"type\":\"object\",\"name\":\"MonthsTicker\",\"id\":\"c8dd9804-46a1-47c3-917d-540cc01cf007\",\"attributes\":{\"months\":[0,2,4,6,8,10]}},{\"type\":\"object\",\"name\":\"MonthsTicker\",\"id\":\"64f977fe-1119-49b8-993c-120f4406cd3b\",\"attributes\":{\"months\":[0,4,8]}},{\"type\":\"object\",\"name\":\"MonthsTicker\",\"id\":\"e27375ed-baab-4717-b094-c87db1f585c5\",\"attributes\":{\"months\":[0,6]}},{\"type\":\"object\",\"name\":\"YearsTicker\",\"id\":\"1e552969-c236-48e5-8d83-2675ff8d9e07\"}]}},\"formatter\":{\"type\":\"object\",\"name\":\"DatetimeTickFormatter\",\"id\":\"20d96cf0-2650-4823-85dc-5712acf3161d\"},\"axis_label\":\"REF_DATE\",\"major_label_policy\":{\"type\":\"object\",\"name\":\"AllLabels\",\"id\":\"1b7cdfba-3420-4bac-b282-12cfcc171fcb\"}}}],\"center\":[{\"type\":\"object\",\"name\":\"Grid\",\"id\":\"5555edc5-42fb-4294-9481-0605e793ace5\",\"attributes\":{\"axis\":{\"id\":\"96ea5917-1e35-4716-b12b-0860f7efa520\"},\"grid_line_color\":null}},{\"type\":\"object\",\"name\":\"Grid\",\"id\":\"bc937616-0d9c-4f75-b9ed-a0d98a7fd8c5\",\"attributes\":{\"dimension\":1,\"axis\":{\"id\":\"b5d0f413-9df2-48cf-b8ee-337f25617d6e\"},\"grid_line_color\":null}}],\"min_border_top\":10,\"min_border_bottom\":10,\"min_border_left\":10,\"min_border_right\":10,\"output_backend\":\"webgl\"}},{\"type\":\"object\",\"name\":\"Spacer\",\"id\":\"bbec34e3-1070-4431-9bc5-2a7152bd0e6d\",\"attributes\":{\"name\":\"HSpacer00507\",\"stylesheets\":[\"\\n:host(.pn-loading):before, .pn-loading:before {\\n  background-color: #c3c3c3;\\n  mask-size: auto calc(min(50%, 400px));\\n  -webkit-mask-size: auto calc(min(50%, 400px));\\n}\",{\"id\":\"fb6936f1-5f78-4a2a-9775-337547c2bf42\"},{\"id\":\"9378ed4a-1ad2-4168-adae-95805faca5d3\"},{\"id\":\"6affb370-285a-4d19-8b23-059b58bd671d\"}],\"margin\":0,\"sizing_mode\":\"stretch_width\",\"align\":\"start\"}}]}}],\"defs\":[{\"type\":\"model\",\"name\":\"ReactiveHTML1\"},{\"type\":\"model\",\"name\":\"FlexBox1\",\"properties\":[{\"name\":\"align_content\",\"kind\":\"Any\",\"default\":\"flex-start\"},{\"name\":\"align_items\",\"kind\":\"Any\",\"default\":\"flex-start\"},{\"name\":\"flex_direction\",\"kind\":\"Any\",\"default\":\"row\"},{\"name\":\"flex_wrap\",\"kind\":\"Any\",\"default\":\"wrap\"},{\"name\":\"gap\",\"kind\":\"Any\",\"default\":\"\"},{\"name\":\"justify_content\",\"kind\":\"Any\",\"default\":\"flex-start\"}]},{\"type\":\"model\",\"name\":\"FloatPanel1\",\"properties\":[{\"name\":\"config\",\"kind\":\"Any\",\"default\":{\"type\":\"map\"}},{\"name\":\"contained\",\"kind\":\"Any\",\"default\":true},{\"name\":\"position\",\"kind\":\"Any\",\"default\":\"right-top\"},{\"name\":\"offsetx\",\"kind\":\"Any\",\"default\":null},{\"name\":\"offsety\",\"kind\":\"Any\",\"default\":null},{\"name\":\"theme\",\"kind\":\"Any\",\"default\":\"primary\"},{\"name\":\"status\",\"kind\":\"Any\",\"default\":\"normalized\"}]},{\"type\":\"model\",\"name\":\"GridStack1\",\"properties\":[{\"name\":\"mode\",\"kind\":\"Any\",\"default\":\"warn\"},{\"name\":\"ncols\",\"kind\":\"Any\",\"default\":null},{\"name\":\"nrows\",\"kind\":\"Any\",\"default\":null},{\"name\":\"allow_resize\",\"kind\":\"Any\",\"default\":true},{\"name\":\"allow_drag\",\"kind\":\"Any\",\"default\":true},{\"name\":\"state\",\"kind\":\"Any\",\"default\":[]}]},{\"type\":\"model\",\"name\":\"drag1\",\"properties\":[{\"name\":\"slider_width\",\"kind\":\"Any\",\"default\":5},{\"name\":\"slider_color\",\"kind\":\"Any\",\"default\":\"black\"},{\"name\":\"value\",\"kind\":\"Any\",\"default\":50}]},{\"type\":\"model\",\"name\":\"click1\",\"properties\":[{\"name\":\"terminal_output\",\"kind\":\"Any\",\"default\":\"\"},{\"name\":\"debug_name\",\"kind\":\"Any\",\"default\":\"\"},{\"name\":\"clears\",\"kind\":\"Any\",\"default\":0}]},{\"type\":\"model\",\"name\":\"FastWrapper1\",\"properties\":[{\"name\":\"object\",\"kind\":\"Any\",\"default\":null},{\"name\":\"style\",\"kind\":\"Any\",\"default\":null}]},{\"type\":\"model\",\"name\":\"NotificationAreaBase1\",\"properties\":[{\"name\":\"js_events\",\"kind\":\"Any\",\"default\":{\"type\":\"map\"}},{\"name\":\"position\",\"kind\":\"Any\",\"default\":\"bottom-right\"},{\"name\":\"_clear\",\"kind\":\"Any\",\"default\":0}]},{\"type\":\"model\",\"name\":\"NotificationArea1\",\"properties\":[{\"name\":\"js_events\",\"kind\":\"Any\",\"default\":{\"type\":\"map\"}},{\"name\":\"notifications\",\"kind\":\"Any\",\"default\":[]},{\"name\":\"position\",\"kind\":\"Any\",\"default\":\"bottom-right\"},{\"name\":\"_clear\",\"kind\":\"Any\",\"default\":0},{\"name\":\"types\",\"kind\":\"Any\",\"default\":[{\"type\":\"map\",\"entries\":[[\"type\",\"warning\"],[\"background\",\"#ffc107\"],[\"icon\",{\"type\":\"map\",\"entries\":[[\"className\",\"fas fa-exclamation-triangle\"],[\"tagName\",\"i\"],[\"color\",\"white\"]]}]]},{\"type\":\"map\",\"entries\":[[\"type\",\"info\"],[\"background\",\"#007bff\"],[\"icon\",{\"type\":\"map\",\"entries\":[[\"className\",\"fas fa-info-circle\"],[\"tagName\",\"i\"],[\"color\",\"white\"]]}]]}]}]},{\"type\":\"model\",\"name\":\"Notification\",\"properties\":[{\"name\":\"background\",\"kind\":\"Any\",\"default\":null},{\"name\":\"duration\",\"kind\":\"Any\",\"default\":3000},{\"name\":\"icon\",\"kind\":\"Any\",\"default\":null},{\"name\":\"message\",\"kind\":\"Any\",\"default\":\"\"},{\"name\":\"notification_type\",\"kind\":\"Any\",\"default\":null},{\"name\":\"_destroyed\",\"kind\":\"Any\",\"default\":false}]},{\"type\":\"model\",\"name\":\"TemplateActions1\",\"properties\":[{\"name\":\"open_modal\",\"kind\":\"Any\",\"default\":0},{\"name\":\"close_modal\",\"kind\":\"Any\",\"default\":0}]},{\"type\":\"model\",\"name\":\"BootstrapTemplateActions1\",\"properties\":[{\"name\":\"open_modal\",\"kind\":\"Any\",\"default\":0},{\"name\":\"close_modal\",\"kind\":\"Any\",\"default\":0}]},{\"type\":\"model\",\"name\":\"TemplateEditor1\",\"properties\":[{\"name\":\"layout\",\"kind\":\"Any\",\"default\":[]}]},{\"type\":\"model\",\"name\":\"MaterialTemplateActions1\",\"properties\":[{\"name\":\"open_modal\",\"kind\":\"Any\",\"default\":0},{\"name\":\"close_modal\",\"kind\":\"Any\",\"default\":0}]},{\"type\":\"model\",\"name\":\"ReactiveESM1\",\"properties\":[{\"name\":\"esm_constants\",\"kind\":\"Any\",\"default\":{\"type\":\"map\"}}]},{\"type\":\"model\",\"name\":\"JSComponent1\",\"properties\":[{\"name\":\"esm_constants\",\"kind\":\"Any\",\"default\":{\"type\":\"map\"}}]},{\"type\":\"model\",\"name\":\"ReactComponent1\",\"properties\":[{\"name\":\"esm_constants\",\"kind\":\"Any\",\"default\":{\"type\":\"map\"}}]},{\"type\":\"model\",\"name\":\"AnyWidgetComponent1\",\"properties\":[{\"name\":\"esm_constants\",\"kind\":\"Any\",\"default\":{\"type\":\"map\"}}]},{\"type\":\"model\",\"name\":\"request_value1\",\"properties\":[{\"name\":\"fill\",\"kind\":\"Any\",\"default\":\"none\"},{\"name\":\"_synced\",\"kind\":\"Any\",\"default\":null},{\"name\":\"_request_sync\",\"kind\":\"Any\",\"default\":0}]}]}};\n",
       "  var render_items = [{\"docid\":\"d19de98d-bd5f-4a75-9a78-2ee36d58db43\",\"roots\":{\"02f7c3d1-4b09-4c4b-8b83-b6bce973be2c\":\"c63a4a41-9552-4a1c-a3f4-4bd78ddcd0c5\"},\"root_ids\":[\"02f7c3d1-4b09-4c4b-8b83-b6bce973be2c\"]}];\n",
       "  var docs = Object.values(docs_json)\n",
       "  if (!docs) {\n",
       "    return\n",
       "  }\n",
       "  const py_version = docs[0].version.replace('rc', '-rc.').replace('.dev', '-dev.')\n",
       "  async function embed_document(root) {\n",
       "    var Bokeh = get_bokeh(root)\n",
       "    await Bokeh.embed.embed_items_notebook(docs_json, render_items);\n",
       "    for (const render_item of render_items) {\n",
       "      for (const root_id of render_item.root_ids) {\n",
       "\tconst id_el = document.getElementById(root_id)\n",
       "\tif (id_el.children.length && id_el.children[0].hasAttribute('data-root-id')) {\n",
       "\t  const root_el = id_el.children[0]\n",
       "\t  root_el.id = root_el.id + '-rendered'\n",
       "\t  for (const child of root_el.children) {\n",
       "            // Ensure JupyterLab does not capture keyboard shortcuts\n",
       "            // see: https://jupyterlab.readthedocs.io/en/4.1.x/extension/notebook.html#keyboard-interaction-model\n",
       "\t    child.setAttribute('data-lm-suppress-shortcuts', 'true')\n",
       "\t  }\n",
       "\t}\n",
       "      }\n",
       "    }\n",
       "  }\n",
       "  function get_bokeh(root) {\n",
       "    if (root.Bokeh === undefined) {\n",
       "      return null\n",
       "    } else if (root.Bokeh.version !== py_version) {\n",
       "      if (root.Bokeh.versions === undefined || !root.Bokeh.versions.has(py_version)) {\n",
       "\treturn null\n",
       "      }\n",
       "      return root.Bokeh.versions.get(py_version);\n",
       "    } else if (root.Bokeh.version === py_version) {\n",
       "      return root.Bokeh\n",
       "    }\n",
       "    return null\n",
       "  }\n",
       "  function is_loaded(root) {\n",
       "    var Bokeh = get_bokeh(root)\n",
       "    return (Bokeh != null && Bokeh.Panel !== undefined)\n",
       "  }\n",
       "  if (is_loaded(root)) {\n",
       "    embed_document(root);\n",
       "  } else {\n",
       "    var attempts = 0;\n",
       "    var timer = setInterval(function(root) {\n",
       "      if (is_loaded(root)) {\n",
       "        clearInterval(timer);\n",
       "        embed_document(root);\n",
       "      } else if (document.readyState == \"complete\") {\n",
       "        attempts++;\n",
       "        if (attempts > 200) {\n",
       "          clearInterval(timer);\n",
       "\t  var Bokeh = get_bokeh(root)\n",
       "\t  if (Bokeh == null || Bokeh.Panel == null) {\n",
       "            console.warn(\"Panel: ERROR: Unable to run Panel code because Bokeh or Panel library is missing\");\n",
       "\t  } else {\n",
       "\t    console.warn(\"Panel: WARNING: Attempting to render but not all required libraries could be resolved.\")\n",
       "\t    embed_document(root)\n",
       "\t  }\n",
       "        }\n",
       "      }\n",
       "    }, 25, root)\n",
       "  }\n",
       "})(window);</script>"
      ],
      "text/plain": [
       ":Curve   [REF_DATE]   (VALUE)"
      ]
     },
     "execution_count": 65,
     "metadata": {
      "application/vnd.holoviews_exec.v0+json": {
       "id": "02f7c3d1-4b09-4c4b-8b83-b6bce973be2c"
      }
     },
     "output_type": "execute_result"
    }
   ],
   "source": [
    "# Ensure 'VALUE' is numeric, coerce errors to NaN\n",
    "avg_wage['VALUE'] = pd.to_numeric(avg_wage['VALUE'], errors='coerce')\n",
    "\n",
    "# Drop NaN values from 'VALUE' column\n",
    "avg_wage.dropna(subset=['VALUE'], inplace=True)\n",
    "\n",
    "# Convert 'REF_DATE' to datetime format\n",
    "avg_wage['REF_DATE'] = pd.to_datetime(avg_wage['REF_DATE'], format='%Y-%m')\n",
    "\n",
    "# Group by 'REF_DATE' and calculate mean of 'VALUE'\n",
    "avg_wage_sum = avg_wage.groupby('REF_DATE')['VALUE'].mean()\n",
    "\n",
    "# Plot the average wage over time\n",
    "avg_wage_sum.hvplot.line(x='REF_DATE', y='VALUE', title=\"Average Wage Over Time\")\n"
   ]
  },
  {
   "cell_type": "code",
   "execution_count": 66,
   "metadata": {},
   "outputs": [
    {
     "data": {
      "text/html": [
       "<div>\n",
       "<style scoped>\n",
       "    .dataframe tbody tr th:only-of-type {\n",
       "        vertical-align: middle;\n",
       "    }\n",
       "\n",
       "    .dataframe tbody tr th {\n",
       "        vertical-align: top;\n",
       "    }\n",
       "\n",
       "    .dataframe thead th {\n",
       "        text-align: right;\n",
       "    }\n",
       "</style>\n",
       "<table border=\"1\" class=\"dataframe\">\n",
       "  <thead>\n",
       "    <tr style=\"text-align: right;\">\n",
       "      <th></th>\n",
       "      <th></th>\n",
       "      <th>total_vac</th>\n",
       "    </tr>\n",
       "    <tr>\n",
       "      <th>REF_DATE</th>\n",
       "      <th>Job vacancy characteristics</th>\n",
       "      <th></th>\n",
       "    </tr>\n",
       "  </thead>\n",
       "  <tbody>\n",
       "    <tr>\n",
       "      <th rowspan=\"2\" valign=\"top\">2015-01-01</th>\n",
       "      <th>Full-time</th>\n",
       "      <td>21.600000</td>\n",
       "    </tr>\n",
       "    <tr>\n",
       "      <th>Part-time</th>\n",
       "      <td>15.310714</td>\n",
       "    </tr>\n",
       "    <tr>\n",
       "      <th rowspan=\"2\" valign=\"top\">2015-04-01</th>\n",
       "      <th>Full-time</th>\n",
       "      <td>22.509722</td>\n",
       "    </tr>\n",
       "    <tr>\n",
       "      <th>Part-time</th>\n",
       "      <td>16.868500</td>\n",
       "    </tr>\n",
       "    <tr>\n",
       "      <th>2015-07-01</th>\n",
       "      <th>Full-time</th>\n",
       "      <td>22.661650</td>\n",
       "    </tr>\n",
       "    <tr>\n",
       "      <th>...</th>\n",
       "      <th>...</th>\n",
       "      <td>...</td>\n",
       "    </tr>\n",
       "    <tr>\n",
       "      <th>2023-10-01</th>\n",
       "      <th>Part-time</th>\n",
       "      <td>24.267647</td>\n",
       "    </tr>\n",
       "    <tr>\n",
       "      <th rowspan=\"2\" valign=\"top\">2024-01-01</th>\n",
       "      <th>Full-time</th>\n",
       "      <td>28.660680</td>\n",
       "    </tr>\n",
       "    <tr>\n",
       "      <th>Part-time</th>\n",
       "      <td>24.108000</td>\n",
       "    </tr>\n",
       "    <tr>\n",
       "      <th rowspan=\"2\" valign=\"top\">2024-04-01</th>\n",
       "      <th>Full-time</th>\n",
       "      <td>27.841204</td>\n",
       "    </tr>\n",
       "    <tr>\n",
       "      <th>Part-time</th>\n",
       "      <td>23.352830</td>\n",
       "    </tr>\n",
       "  </tbody>\n",
       "</table>\n",
       "<p>72 rows × 1 columns</p>\n",
       "</div>"
      ],
      "text/plain": [
       "                                        total_vac\n",
       "REF_DATE   Job vacancy characteristics           \n",
       "2015-01-01 Full-time                    21.600000\n",
       "           Part-time                    15.310714\n",
       "2015-04-01 Full-time                    22.509722\n",
       "           Part-time                    16.868500\n",
       "2015-07-01 Full-time                    22.661650\n",
       "...                                           ...\n",
       "2023-10-01 Part-time                    24.267647\n",
       "2024-01-01 Full-time                    28.660680\n",
       "           Part-time                    24.108000\n",
       "2024-04-01 Full-time                    27.841204\n",
       "           Part-time                    23.352830\n",
       "\n",
       "[72 rows x 1 columns]"
      ]
     },
     "execution_count": 66,
     "metadata": {},
     "output_type": "execute_result"
    }
   ],
   "source": [
    "# Average hourly wage by characteristics\n",
    "avg_wage.groupby([\"REF_DATE\",\"Job vacancy characteristics\"]).agg(\\\n",
    "                                                                 total_vac=('VALUE','mean'))\n"
   ]
  },
  {
   "cell_type": "code",
   "execution_count": 67,
   "metadata": {},
   "outputs": [
    {
     "data": {
      "text/html": [
       "<div>\n",
       "<style scoped>\n",
       "    .dataframe tbody tr th:only-of-type {\n",
       "        vertical-align: middle;\n",
       "    }\n",
       "\n",
       "    .dataframe tbody tr th {\n",
       "        vertical-align: top;\n",
       "    }\n",
       "\n",
       "    .dataframe thead th {\n",
       "        text-align: right;\n",
       "    }\n",
       "</style>\n",
       "<table border=\"1\" class=\"dataframe\">\n",
       "  <thead>\n",
       "    <tr style=\"text-align: right;\">\n",
       "      <th></th>\n",
       "      <th>REF_DATE</th>\n",
       "      <th>VALUE</th>\n",
       "    </tr>\n",
       "  </thead>\n",
       "  <tbody>\n",
       "    <tr>\n",
       "      <th>count</th>\n",
       "      <td>3656</td>\n",
       "      <td>3656.000000</td>\n",
       "    </tr>\n",
       "    <tr>\n",
       "      <th>mean</th>\n",
       "      <td>2019-09-22 21:02:45.426695680</td>\n",
       "      <td>24.759136</td>\n",
       "    </tr>\n",
       "    <tr>\n",
       "      <th>min</th>\n",
       "      <td>2015-01-01 00:00:00</td>\n",
       "      <td>10.550000</td>\n",
       "    </tr>\n",
       "    <tr>\n",
       "      <th>25%</th>\n",
       "      <td>2017-04-01 00:00:00</td>\n",
       "      <td>19.237500</td>\n",
       "    </tr>\n",
       "    <tr>\n",
       "      <th>50%</th>\n",
       "      <td>2019-07-01 00:00:00</td>\n",
       "      <td>24.200000</td>\n",
       "    </tr>\n",
       "    <tr>\n",
       "      <th>75%</th>\n",
       "      <td>2022-04-01 00:00:00</td>\n",
       "      <td>29.150000</td>\n",
       "    </tr>\n",
       "    <tr>\n",
       "      <th>max</th>\n",
       "      <td>2024-04-01 00:00:00</td>\n",
       "      <td>62.350000</td>\n",
       "    </tr>\n",
       "    <tr>\n",
       "      <th>std</th>\n",
       "      <td>NaN</td>\n",
       "      <td>7.151099</td>\n",
       "    </tr>\n",
       "  </tbody>\n",
       "</table>\n",
       "</div>"
      ],
      "text/plain": [
       "                            REF_DATE        VALUE\n",
       "count                           3656  3656.000000\n",
       "mean   2019-09-22 21:02:45.426695680    24.759136\n",
       "min              2015-01-01 00:00:00    10.550000\n",
       "25%              2017-04-01 00:00:00    19.237500\n",
       "50%              2019-07-01 00:00:00    24.200000\n",
       "75%              2022-04-01 00:00:00    29.150000\n",
       "max              2024-04-01 00:00:00    62.350000\n",
       "std                              NaN     7.151099"
      ]
     },
     "execution_count": 67,
     "metadata": {},
     "output_type": "execute_result"
    }
   ],
   "source": [
    "avg_wage_ft= avg_wage.loc[avg_wage[\"Job vacancy characteristics\"]=='Full-time']\n",
    "avg_wage_ft.describe()"
   ]
  },
  {
   "cell_type": "code",
   "execution_count": 68,
   "metadata": {},
   "outputs": [
    {
     "data": {
      "text/html": [
       "<div>\n",
       "<style scoped>\n",
       "    .dataframe tbody tr th:only-of-type {\n",
       "        vertical-align: middle;\n",
       "    }\n",
       "\n",
       "    .dataframe tbody tr th {\n",
       "        vertical-align: top;\n",
       "    }\n",
       "\n",
       "    .dataframe thead th {\n",
       "        text-align: right;\n",
       "    }\n",
       "</style>\n",
       "<table border=\"1\" class=\"dataframe\">\n",
       "  <thead>\n",
       "    <tr style=\"text-align: right;\">\n",
       "      <th></th>\n",
       "      <th>REF_DATE</th>\n",
       "      <th>VALUE</th>\n",
       "    </tr>\n",
       "  </thead>\n",
       "  <tbody>\n",
       "    <tr>\n",
       "      <th>count</th>\n",
       "      <td>3447</td>\n",
       "      <td>3447.000000</td>\n",
       "    </tr>\n",
       "    <tr>\n",
       "      <th>mean</th>\n",
       "      <td>2019-09-29 20:06:53.577023488</td>\n",
       "      <td>19.777111</td>\n",
       "    </tr>\n",
       "    <tr>\n",
       "      <th>min</th>\n",
       "      <td>2015-01-01 00:00:00</td>\n",
       "      <td>10.500000</td>\n",
       "    </tr>\n",
       "    <tr>\n",
       "      <th>25%</th>\n",
       "      <td>2017-04-01 00:00:00</td>\n",
       "      <td>15.500000</td>\n",
       "    </tr>\n",
       "    <tr>\n",
       "      <th>50%</th>\n",
       "      <td>2019-07-01 00:00:00</td>\n",
       "      <td>18.600000</td>\n",
       "    </tr>\n",
       "    <tr>\n",
       "      <th>75%</th>\n",
       "      <td>2022-04-01 00:00:00</td>\n",
       "      <td>22.800000</td>\n",
       "    </tr>\n",
       "    <tr>\n",
       "      <th>max</th>\n",
       "      <td>2024-04-01 00:00:00</td>\n",
       "      <td>76.700000</td>\n",
       "    </tr>\n",
       "    <tr>\n",
       "      <th>std</th>\n",
       "      <td>NaN</td>\n",
       "      <td>6.068468</td>\n",
       "    </tr>\n",
       "  </tbody>\n",
       "</table>\n",
       "</div>"
      ],
      "text/plain": [
       "                            REF_DATE        VALUE\n",
       "count                           3447  3447.000000\n",
       "mean   2019-09-29 20:06:53.577023488    19.777111\n",
       "min              2015-01-01 00:00:00    10.500000\n",
       "25%              2017-04-01 00:00:00    15.500000\n",
       "50%              2019-07-01 00:00:00    18.600000\n",
       "75%              2022-04-01 00:00:00    22.800000\n",
       "max              2024-04-01 00:00:00    76.700000\n",
       "std                              NaN     6.068468"
      ]
     },
     "execution_count": 68,
     "metadata": {},
     "output_type": "execute_result"
    }
   ],
   "source": [
    "avg_wage_pt= avg_wage.loc[avg_wage[\"Job vacancy characteristics\"]=='Part-time']\n",
    "avg_wage_pt.describe()"
   ]
  },
  {
   "cell_type": "code",
   "execution_count": 69,
   "metadata": {},
   "outputs": [
    {
     "data": {
      "text/html": [
       "<div>\n",
       "<style scoped>\n",
       "    .dataframe tbody tr th:only-of-type {\n",
       "        vertical-align: middle;\n",
       "    }\n",
       "\n",
       "    .dataframe tbody tr th {\n",
       "        vertical-align: top;\n",
       "    }\n",
       "\n",
       "    .dataframe thead th {\n",
       "        text-align: right;\n",
       "    }\n",
       "</style>\n",
       "<table border=\"1\" class=\"dataframe\">\n",
       "  <thead>\n",
       "    <tr style=\"text-align: right;\">\n",
       "      <th></th>\n",
       "      <th></th>\n",
       "      <th>avg_wage</th>\n",
       "    </tr>\n",
       "    <tr>\n",
       "      <th>National Occupational Classification</th>\n",
       "      <th>REF_DATE</th>\n",
       "      <th></th>\n",
       "    </tr>\n",
       "  </thead>\n",
       "  <tbody>\n",
       "    <tr>\n",
       "      <th rowspan=\"5\" valign=\"top\">Business, finance and administration occupations [1]</th>\n",
       "      <th>2015-01-01</th>\n",
       "      <td>19.770000</td>\n",
       "    </tr>\n",
       "    <tr>\n",
       "      <th>2015-04-01</th>\n",
       "      <td>19.663462</td>\n",
       "    </tr>\n",
       "    <tr>\n",
       "      <th>2015-07-01</th>\n",
       "      <td>20.888000</td>\n",
       "    </tr>\n",
       "    <tr>\n",
       "      <th>2015-10-01</th>\n",
       "      <td>20.801923</td>\n",
       "    </tr>\n",
       "    <tr>\n",
       "      <th>2016-01-01</th>\n",
       "      <td>21.890000</td>\n",
       "    </tr>\n",
       "    <tr>\n",
       "      <th>...</th>\n",
       "      <th>...</th>\n",
       "      <td>...</td>\n",
       "    </tr>\n",
       "    <tr>\n",
       "      <th rowspan=\"5\" valign=\"top\">Trades, transport and equipment operators and related occupations [7]</th>\n",
       "      <th>2023-04-01</th>\n",
       "      <td>25.613462</td>\n",
       "    </tr>\n",
       "    <tr>\n",
       "      <th>2023-07-01</th>\n",
       "      <td>25.813462</td>\n",
       "    </tr>\n",
       "    <tr>\n",
       "      <th>2023-10-01</th>\n",
       "      <td>25.680000</td>\n",
       "    </tr>\n",
       "    <tr>\n",
       "      <th>2024-01-01</th>\n",
       "      <td>26.996154</td>\n",
       "    </tr>\n",
       "    <tr>\n",
       "      <th>2024-04-01</th>\n",
       "      <td>25.636538</td>\n",
       "    </tr>\n",
       "  </tbody>\n",
       "</table>\n",
       "<p>324 rows × 1 columns</p>\n",
       "</div>"
      ],
      "text/plain": [
       "                                                                avg_wage\n",
       "National Occupational Classification               REF_DATE             \n",
       "Business, finance and administration occupation... 2015-01-01  19.770000\n",
       "                                                   2015-04-01  19.663462\n",
       "                                                   2015-07-01  20.888000\n",
       "                                                   2015-10-01  20.801923\n",
       "                                                   2016-01-01  21.890000\n",
       "...                                                                  ...\n",
       "Trades, transport and equipment operators and r... 2023-04-01  25.613462\n",
       "                                                   2023-07-01  25.813462\n",
       "                                                   2023-10-01  25.680000\n",
       "                                                   2024-01-01  26.996154\n",
       "                                                   2024-04-01  25.636538\n",
       "\n",
       "[324 rows x 1 columns]"
      ]
     },
     "execution_count": 69,
     "metadata": {},
     "output_type": "execute_result"
    }
   ],
   "source": [
    "avg_wage.groupby([\"National Occupational Classification\",\"REF_DATE\"]).agg(\\\n",
    "                                                                          avg_wage=('VALUE','mean'))"
   ]
  },
  {
   "cell_type": "markdown",
   "metadata": {},
   "source": [
    "<h1><span style=\"color:green\"> 4. Percent Job Vacancies </span></h1>"
   ]
  },
  {
   "cell_type": "code",
   "execution_count": 70,
   "metadata": {},
   "outputs": [],
   "source": [
    "# Filtering Proportion of job vacancies\n",
    "perct_vacancies = df.loc[df['Statistics'] == \"Proportion of job vacancies\"] "
   ]
  },
  {
   "cell_type": "code",
   "execution_count": 71,
   "metadata": {},
   "outputs": [
    {
     "data": {
      "text/plain": [
       "(1519569, 6)"
      ]
     },
     "execution_count": 71,
     "metadata": {},
     "output_type": "execute_result"
    }
   ],
   "source": [
    "# Filtering GEO.Canada\n",
    "perct_vacancies = perct_vacancies.loc[perct_vacancies.GEO != \"Canada\"]\n",
    "perct_vacancies.shape"
   ]
  },
  {
   "cell_type": "code",
   "execution_count": 72,
   "metadata": {},
   "outputs": [],
   "source": [
    "# Filtering Job vacancy characteristics\n",
    "perct_vacancies = perct_vacancies.loc[(perct_vacancies['Job vacancy characteristics'] == 'Full-time') | \\\n",
    "                          (perct_vacancies['Job vacancy characteristics'] == 'Part-time')]"
   ]
  },
  {
   "cell_type": "code",
   "execution_count": 73,
   "metadata": {},
   "outputs": [],
   "source": [
    "# Filtering NOC 1 level\n",
    "inc_list = ['Business, finance and administration occupations [1]', \\\n",
    "            'Health occupations [3]', \\\n",
    "            'Management occupations [0]', 'Natural and applied sciences and related occupations [2]', \\\n",
    "            'Natural resources, agriculture and related production occupations [8]', \\\n",
    "            'Occupations in art, culture, recreation and sport [5]', \\\n",
    "            'Occupations in education, law and social, community and government services [4]', \\\n",
    "            'Occupations in manufacturing and utilities [9]', \\\n",
    "            'Sales and service occupations [6]', \\\n",
    "            'Trades, transport and equipment operators and related occupations [7]']\n",
    "perct_vacancies = perct_vacancies[perct_vacancies['National Occupational Classification'].isin(inc_list)]"
   ]
  },
  {
   "cell_type": "code",
   "execution_count": 74,
   "metadata": {},
   "outputs": [],
   "source": [
    "# Handle Missing Data\n",
    "perct_vacancies = perct_vacancies.dropna(subset=['VALUE'])"
   ]
  },
  {
   "cell_type": "code",
   "execution_count": 75,
   "metadata": {},
   "outputs": [
    {
     "data": {
      "text/html": [
       "<div>\n",
       "<style scoped>\n",
       "    .dataframe tbody tr th:only-of-type {\n",
       "        vertical-align: middle;\n",
       "    }\n",
       "\n",
       "    .dataframe tbody tr th {\n",
       "        vertical-align: top;\n",
       "    }\n",
       "\n",
       "    .dataframe thead th {\n",
       "        text-align: right;\n",
       "    }\n",
       "</style>\n",
       "<table border=\"1\" class=\"dataframe\">\n",
       "  <thead>\n",
       "    <tr style=\"text-align: right;\">\n",
       "      <th></th>\n",
       "      <th>REF_DATE</th>\n",
       "      <th>GEO</th>\n",
       "      <th>National Occupational Classification</th>\n",
       "      <th>Job vacancy characteristics</th>\n",
       "      <th>Statistics</th>\n",
       "      <th>VALUE</th>\n",
       "    </tr>\n",
       "  </thead>\n",
       "  <tbody>\n",
       "    <tr>\n",
       "      <th>2193307</th>\n",
       "      <td>2015-04</td>\n",
       "      <td>Ontario</td>\n",
       "      <td>Business, finance and administration occupatio...</td>\n",
       "      <td>Full-time</td>\n",
       "      <td>Proportion of job vacancies</td>\n",
       "      <td>79.1</td>\n",
       "    </tr>\n",
       "    <tr>\n",
       "      <th>2193310</th>\n",
       "      <td>2015-04</td>\n",
       "      <td>Ontario</td>\n",
       "      <td>Business, finance and administration occupatio...</td>\n",
       "      <td>Part-time</td>\n",
       "      <td>Proportion of job vacancies</td>\n",
       "      <td>20.9</td>\n",
       "    </tr>\n",
       "    <tr>\n",
       "      <th>3727595</th>\n",
       "      <td>2015-07</td>\n",
       "      <td>Ontario</td>\n",
       "      <td>Business, finance and administration occupatio...</td>\n",
       "      <td>Full-time</td>\n",
       "      <td>Proportion of job vacancies</td>\n",
       "      <td>82.9</td>\n",
       "    </tr>\n",
       "    <tr>\n",
       "      <th>3727598</th>\n",
       "      <td>2015-07</td>\n",
       "      <td>Ontario</td>\n",
       "      <td>Business, finance and administration occupatio...</td>\n",
       "      <td>Part-time</td>\n",
       "      <td>Proportion of job vacancies</td>\n",
       "      <td>17.1</td>\n",
       "    </tr>\n",
       "    <tr>\n",
       "      <th>5261883</th>\n",
       "      <td>2015-10</td>\n",
       "      <td>Ontario</td>\n",
       "      <td>Business, finance and administration occupatio...</td>\n",
       "      <td>Full-time</td>\n",
       "      <td>Proportion of job vacancies</td>\n",
       "      <td>84.0</td>\n",
       "    </tr>\n",
       "  </tbody>\n",
       "</table>\n",
       "</div>"
      ],
      "text/plain": [
       "        REF_DATE      GEO               National Occupational Classification  \\\n",
       "2193307  2015-04  Ontario  Business, finance and administration occupatio...   \n",
       "2193310  2015-04  Ontario  Business, finance and administration occupatio...   \n",
       "3727595  2015-07  Ontario  Business, finance and administration occupatio...   \n",
       "3727598  2015-07  Ontario  Business, finance and administration occupatio...   \n",
       "5261883  2015-10  Ontario  Business, finance and administration occupatio...   \n",
       "\n",
       "        Job vacancy characteristics                   Statistics  VALUE  \n",
       "2193307                   Full-time  Proportion of job vacancies   79.1  \n",
       "2193310                   Part-time  Proportion of job vacancies   20.9  \n",
       "3727595                   Full-time  Proportion of job vacancies   82.9  \n",
       "3727598                   Part-time  Proportion of job vacancies   17.1  \n",
       "5261883                   Full-time  Proportion of job vacancies   84.0  "
      ]
     },
     "execution_count": 75,
     "metadata": {},
     "output_type": "execute_result"
    }
   ],
   "source": [
    "perct_vacancies_filtered = perct_vacancies.loc[(perct_vacancies['GEO'] == \"Ontario\") &\\\n",
    "                                              (perct_vacancies['National Occupational Classification'] == 'Business, finance and administration occupations [1]')] \n",
    "                                              \n",
    "perct_vacancies_filtered.head() "
   ]
  },
  {
   "cell_type": "code",
   "execution_count": null,
   "metadata": {},
   "outputs": [],
   "source": []
  }
 ],
 "metadata": {
  "colab": {
   "collapsed_sections": [],
   "name": "Encoding-Categorical-Variables-19-3-3.ipynb",
   "provenance": []
  },
  "kernelspec": {
   "display_name": "Python 3",
   "language": "python",
   "name": "python3"
  },
  "language_info": {
   "codemirror_mode": {
    "name": "ipython",
    "version": 3
   },
   "file_extension": ".py",
   "mimetype": "text/x-python",
   "name": "python",
   "nbconvert_exporter": "python",
   "pygments_lexer": "ipython3",
   "version": "3.12.4"
  }
 },
 "nbformat": 4,
 "nbformat_minor": 1
}
